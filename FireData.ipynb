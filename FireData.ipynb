{
 "cells": [
  {
   "cell_type": "code",
   "execution_count": 1,
   "metadata": {},
   "outputs": [],
   "source": [
    "# Dependencies\n",
    "import numpy as np\n",
    "import pandas as pd\n",
    "import requests\n",
    "import json\n",
    "# ------- STUFF WE MIGHT NEED LATER ----------\n",
    "# import matplotlib.pyplot as plt\n",
    "# import gmaps\n",
    "# import urllib\n",
    "# from time import sleep\n",
    "# import seaborn as sbn\n",
    "# from scipy import stats\n",
    "\n",
    "\n",
    "# # Gmaps API Keys\n",
    "# from config import (gkey)\n",
    "\n",
    "# # Configure gmaps\n",
    "# gmaps.configure(api_key=gkey)\n",
    "\n"
   ]
  },
  {
   "cell_type": "code",
   "execution_count": 2,
   "metadata": {},
   "outputs": [],
   "source": [
    "#This API request somehow limits the number of records returned to 2000. But we can download all of them from the site as a json file\n",
    "# base_url = \"https://services.arcgis.com/v400IkDOw1ad7Yad/arcgis/rest/services/Fire_Incidents_Public/FeatureServer/0/query?where=1%3D1&outFields=OBJECTID,incident_number,incident_type,incident_type_description,arrive_date_time,dispatch_date_time,exposure,platoon,station,address,address2,apt_room,GlobalID,cleared_date_time&outSR=4326&f=json\"\n",
    "# fire_data = requests.get(base_url).json()\n",
    "firefile = 'Resources/Fire_Incidents.geojson'\n",
    "with open(firefile) as jsonfile:\n",
    "    fire_data = json.load(jsonfile)"
   ]
  },
  {
   "cell_type": "code",
   "execution_count": null,
   "metadata": {},
   "outputs": [],
   "source": [
    "fire_data['features'][0]['geometry']['coordinates'][0]"
   ]
  },
  {
   "cell_type": "code",
   "execution_count": 3,
   "metadata": {},
   "outputs": [
    {
     "data": {
      "text/plain": [
       "{'OBJECTID': 475765,\n",
       " 'incident_number': '11-0025079',\n",
       " 'incident_type': 611,\n",
       " 'incident_type_description': 'Dispatched & cancelled en route',\n",
       " 'arrive_date_time': None,\n",
       " 'cleared_date_time': '2011-08-28T01:50:00.000Z',\n",
       " 'dispatch_date_time': '2011-08-28T01:48:00.000Z',\n",
       " 'exposure': 0,\n",
       " 'platoon': 'A',\n",
       " 'station': 10,\n",
       " 'address': '2203 GARNER RD RALEIGH, NC 27601',\n",
       " 'address2': '',\n",
       " 'apt_room': '               ',\n",
       " 'GlobalID': 'b8c22a24-6de2-4148-8583-6a462f235f6b',\n",
       " 'CreationDate': '2017-10-11T20:10:45.863Z',\n",
       " 'Creator': 'justin.greco@raleighnc.gov_ral',\n",
       " 'EditDate': '2017-10-11T20:10:45.863Z',\n",
       " 'Editor': 'justin.greco@raleighnc.gov_ral'}"
      ]
     },
     "execution_count": 3,
     "metadata": {},
     "output_type": "execute_result"
    }
   ],
   "source": [
    "incidents = []\n",
    "\n",
    "for item in fire_data['features']:\n",
    "    incidents.append(item['properties'])\n",
    "\n",
    "incidents[0]"
   ]
  },
  {
   "cell_type": "code",
   "execution_count": 6,
   "metadata": {},
   "outputs": [
    {
     "data": {
      "text/plain": [
       "{'type': 'Point', 'coordinates': [-78.63138330155664, 35.749714263978206]}"
      ]
     },
     "execution_count": 6,
     "metadata": {},
     "output_type": "execute_result"
    }
   ],
   "source": [
    "coord = []\n",
    "for item in fire_data['features']:\n",
    "    coord.append(item['geometry'])\n",
    "\n",
    "\n",
    "coord[0]"
   ]
  },
  {
   "cell_type": "code",
   "execution_count": 7,
   "metadata": {},
   "outputs": [
    {
     "data": {
      "text/html": [
       "<div>\n",
       "<style scoped>\n",
       "    .dataframe tbody tr th:only-of-type {\n",
       "        vertical-align: middle;\n",
       "    }\n",
       "\n",
       "    .dataframe tbody tr th {\n",
       "        vertical-align: top;\n",
       "    }\n",
       "\n",
       "    .dataframe thead th {\n",
       "        text-align: right;\n",
       "    }\n",
       "</style>\n",
       "<table border=\"1\" class=\"dataframe\">\n",
       "  <thead>\n",
       "    <tr style=\"text-align: right;\">\n",
       "      <th></th>\n",
       "      <th>Coordinate</th>\n",
       "    </tr>\n",
       "  </thead>\n",
       "  <tbody>\n",
       "    <tr>\n",
       "      <th>0</th>\n",
       "      <td>{'type': 'Point', 'coordinates': [-78.63138330...</td>\n",
       "    </tr>\n",
       "    <tr>\n",
       "      <th>1</th>\n",
       "      <td>{'type': 'Point', 'coordinates': [-78.57855136...</td>\n",
       "    </tr>\n",
       "    <tr>\n",
       "      <th>2</th>\n",
       "      <td>{'type': 'Point', 'coordinates': [-78.64358551...</td>\n",
       "    </tr>\n",
       "    <tr>\n",
       "      <th>3</th>\n",
       "      <td>{'type': 'Point', 'coordinates': [-78.65270928...</td>\n",
       "    </tr>\n",
       "    <tr>\n",
       "      <th>4</th>\n",
       "      <td>{'type': 'Point', 'coordinates': [-78.62629497...</td>\n",
       "    </tr>\n",
       "  </tbody>\n",
       "</table>\n",
       "</div>"
      ],
      "text/plain": [
       "                                          Coordinate\n",
       "0  {'type': 'Point', 'coordinates': [-78.63138330...\n",
       "1  {'type': 'Point', 'coordinates': [-78.57855136...\n",
       "2  {'type': 'Point', 'coordinates': [-78.64358551...\n",
       "3  {'type': 'Point', 'coordinates': [-78.65270928...\n",
       "4  {'type': 'Point', 'coordinates': [-78.62629497..."
      ]
     },
     "execution_count": 7,
     "metadata": {},
     "output_type": "execute_result"
    }
   ],
   "source": [
    "df = pd.DataFrame()\n",
    "df['Coordinate'] = coord\n",
    "df.head()"
   ]
  },
  {
   "cell_type": "code",
   "execution_count": null,
   "metadata": {},
   "outputs": [],
   "source": []
  }
 ],
 "metadata": {
  "kernelspec": {
   "display_name": "Python 3",
   "language": "python",
   "name": "python3"
  },
  "language_info": {
   "codemirror_mode": {
    "name": "ipython",
    "version": 3
   },
   "file_extension": ".py",
   "mimetype": "text/x-python",
   "name": "python",
   "nbconvert_exporter": "python",
   "pygments_lexer": "ipython3",
   "version": "3.6.6"
  }
 },
 "nbformat": 4,
 "nbformat_minor": 2
}
