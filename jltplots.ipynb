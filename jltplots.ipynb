{
 "cells": [
  {
   "cell_type": "code",
   "execution_count": 6,
   "metadata": {},
   "outputs": [],
   "source": [
    "# Dependencies and Setup\n",
    "import matplotlib.pyplot as plt\n",
    "import pandas as pd\n",
    "import numpy as np\n",
    "import requests\n",
    "import time\n",
    "import csv \n",
    "from citipy import citipy\n",
    "import datetime\n",
    "import gmaps\n",
    "import seaborn as sb"
   ]
  },
  {
   "cell_type": "code",
   "execution_count": 7,
   "metadata": {},
   "outputs": [],
   "source": [
    "# open national stats csv\n",
    "ns1 = \"nationalstats1.csv\"\n",
    "ns1r = pd.read_csv(ns1)\n",
    "ns1r_df= ns1r.sort_values(by=[\"Calls\", \"Total Percentage\"], ascending = [False,True])\n",
    "#ns1r\n",
    "\n",
    "#graph\n",
    "ns1rlabels = ns1r_df[\"Description \"]\n",
    "fig, ax = plt.subplots()\n",
    "y_pos = np.arange(len(ns1rlabels))\n",
    "ax.barh(y_pos, ns1r_df[\"Calls\"], align='center',\n",
    "        color='red', ecolor='black')\n",
    "ax.set_yticks(y_pos)\n",
    "ax.set_yticklabels(ns1rlabels)\n",
    "ax.invert_yaxis() #supposed to sort from highest to lowest\n",
    "ax.set_title('National Number of Incidents by Type (2016)')\n",
    "plt.show()\n",
    "\n",
    "# # Save Figure\n",
    "# plt.savefig(\"graphics/National Number of Incidents by Type.png\", bbox_inches=\"tight\")\n",
    "# plt.show()"
   ]
  },
  {
   "cell_type": "code",
   "execution_count": null,
   "metadata": {},
   "outputs": [],
   "source": [
    "# open main fire data csv\n",
    "fire = pd.read_csv(\"output/all_with_no_incident_nulls.csv\")\n",
    "fire.head()"
   ]
  },
  {
   "cell_type": "code",
   "execution_count": null,
   "metadata": {},
   "outputs": [],
   "source": [
    "# open main fire data csv\n",
    "firefile = './output/all_with_no_incident_nulls.csv'\n",
    "fire = pd.read_csv(firefile, skip_blank_lines=True, encoding='UTF-8')\n",
    "print(len(fire))\n",
    "#fire\n",
    "#fire.dtypes\n",
    "\n",
    "#groupby \n",
    "fireyears = fire.groupby([\"Year\"])\n",
    "fireyears_df = pd.DataFrame(fireyears.count())\n",
    "fireyears_df\n",
    "\n",
    "fire2016 = fire.query(\"Year =='2016'\")\n",
    "print(len(fire2016))\n",
    "fire2016"
   ]
  },
  {
   "cell_type": "code",
   "execution_count": null,
   "metadata": {},
   "outputs": [],
   "source": [
    "# incident bins\n",
    "bins = [100, 199, 299, 499, 599, 699, 799, 899, 9999]\n",
    "labels = [\"Fire\", \"Overpressure Rupture/Explosion (No Fire)\", \"Hazardous Condition (No Fire)\", \"Service Call\", \"Good Intent Call\", \"False Alarm and False Call\",\n",
    "         \"Severe Weather/Natural Disaster\", \"Special Incident Type\"]\n",
    "fire2016[\"Types of Calls\"] = pd.cut(fire2016[\"incident_type\"], bins, labels=labels)\n",
    "fire2016[\"Types of Calls2\"] = fire2016[\"Types of Calls\"]\n",
    "#fire2016\n",
    "fire2016bin = fire2016.groupby([\"Types of Calls\"])\n",
    "bincounts = fire2016bin[\"Types of Calls\"].count()\n",
    "pofcalls = bincounts/len(fire2016)\n",
    "fire2016typesofcalls = pd.DataFrame({\"Total Count\": bincounts,\n",
    "                                     \"Percentage\": pofcalls})\n",
    "fire2016typesofcalls[\"Percentage\"] = fire2016typesofcalls[\"Percentage\"].map(\"{0:.0%}\".format)\n",
    "sorted_df= fire2016typesofcalls.sort_values(by=[\"Total Count\", \"Percentage\"], ascending = [False,True])\n",
    "# sorted_df\n",
    "\n",
    "# # #h-barchart\n",
    "# # fig, ax = plt.subplots()\n",
    "# # y_pos = np.arange(len(labels))\n",
    "# # ax.barh(y_pos, sorted_df[\"Total Count\"], align='center',\n",
    "# #         color='red', ecolor='black')\n",
    "# # ax.set_yticks(y_pos)\n",
    "# # ax.set_yticklabels([\"False Alarm and False Call\",\"Good Intent Call\", \"Service Call\", \"Hazardous Condition (No Fire)\", \"Fire\", \"Overpressure Rupture/Explosion (No Fire)\", \n",
    "# #          \"Severe Weather/Natural Disaster\", \"Special Incident Type\"])\n",
    "# # ax.invert_yaxis() #supposed to sort from highest to lowest\n",
    "# # ax.set_title('Raleigh FD Number of Incidents by Type (2016)')\n",
    "# # plt.show()\n",
    "\n",
    "# # Save Figure\n",
    "# plt.savefig(\"graphics/Raleigh FD Number of Incidents by Type.png\", bbox_inches=\"tight\")\n",
    "# plt.show()"
   ]
  }
 ],
 "metadata": {
  "kernelspec": {
   "display_name": "Python 3",
   "language": "python",
   "name": "python3"
  },
  "language_info": {
   "codemirror_mode": {
    "name": "ipython",
    "version": 3
   },
   "file_extension": ".py",
   "mimetype": "text/x-python",
   "name": "python",
   "nbconvert_exporter": "python",
   "pygments_lexer": "ipython3",
   "version": "3.7.0"
  }
 },
 "nbformat": 4,
 "nbformat_minor": 2
}
