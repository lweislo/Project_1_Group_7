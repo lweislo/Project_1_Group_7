{
 "cells": [
  {
   "cell_type": "code",
   "execution_count": 2,
   "metadata": {
    "scrolled": true
   },
   "outputs": [],
   "source": [
    "import pandas as pd\n",
    "import requests\n",
    "import time\n",
    "import json\n",
    "import csv\n",
    "import Config\n",
    "import datetime"
   ]
  },
  {
   "cell_type": "code",
   "execution_count": 3,
   "metadata": {},
   "outputs": [],
   "source": [
    "base = datetime.datetime.today().date()"
   ]
  },
  {
   "cell_type": "code",
   "execution_count": 4,
   "metadata": {},
   "outputs": [
    {
     "name": "stdout",
     "output_type": "stream",
     "text": [
      "['2019-01-14', '2019-01-13', '2019-01-12', '2019-01-11', '2019-01-10']\n"
     ]
    }
   ],
   "source": [
    "#numdays = 4017 #the number of days from 2008-01-01 to 2018-12-31\n",
    "numdays = 5 #this is for testing\n",
    "date_list = [base - datetime.timedelta(days=x) for x in range(0, numdays)]\n",
    "\n",
    "final_dates = []\n",
    "\n",
    "for date in date_list:\n",
    "    final_dates.append(str(date))\n",
    "    #print (str(date))\n",
    "print (final_dates)"
   ]
  },
  {
   "cell_type": "code",
   "execution_count": 5,
   "metadata": {},
   "outputs": [
    {
     "name": "stdout",
     "output_type": "stream",
     "text": [
      "[{'data': {'request': [{'type': 'City', 'query': 'Raleigh, United States of America'}], 'nearest_area': [{'areaName': [{'value': 'Raleigh'}], 'country': [{'value': 'United States of America'}], 'region': [{'value': 'North Carolina'}], 'latitude': '35.772', 'longitude': '-78.639'}], 'weather': [{'date': '2019-01-14', 'astronomy': [{'sunrise': '07:24 AM', 'sunset': '05:23 PM', 'moonrise': '12:18 PM', 'moonset': '12:25 AM', 'moon_phase': 'First Quarter', 'moon_illumination': '48'}], 'maxtempC': '3', 'maxtempF': '38', 'mintempC': '-1', 'mintempF': '31', 'totalSnow_cm': '0.0', 'sunHour': '0.0', 'uvIndex': '0', 'hourly': [{'time': '24', 'tempC': '3', 'tempF': '38', 'windspeedMiles': '5', 'windspeedKmph': '7', 'winddirDegree': '123', 'winddir16Point': 'ESE', 'weatherCode': '122', 'weatherIconUrl': [{'value': 'http://cdn.worldweatheronline.net/images/wsymbols01_png_64/wsymbol_0004_black_low_cloud.png'}], 'weatherDesc': [{'value': 'Overcast'}], 'precipMM': '0.1', 'humidity': '81', 'visibility': '20', 'pressure': '1023', 'cloudcover': '84', 'HeatIndexC': '2', 'HeatIndexF': '35', 'DewPointC': '-2', 'DewPointF': '29', 'WindChillC': '-1', 'WindChillF': '31', 'WindGustMiles': '9', 'WindGustKmph': '14', 'FeelsLikeC': '-1', 'FeelsLikeF': '31'}]}]}}]\n",
      "[{'data': {'request': [{'type': 'City', 'query': 'Raleigh, United States of America'}], 'nearest_area': [{'areaName': [{'value': 'Raleigh'}], 'country': [{'value': 'United States of America'}], 'region': [{'value': 'North Carolina'}], 'latitude': '35.772', 'longitude': '-78.639'}], 'weather': [{'date': '2019-01-14', 'astronomy': [{'sunrise': '07:24 AM', 'sunset': '05:23 PM', 'moonrise': '12:18 PM', 'moonset': '12:25 AM', 'moon_phase': 'First Quarter', 'moon_illumination': '48'}], 'maxtempC': '3', 'maxtempF': '38', 'mintempC': '-1', 'mintempF': '31', 'totalSnow_cm': '0.0', 'sunHour': '0.0', 'uvIndex': '0', 'hourly': [{'time': '24', 'tempC': '3', 'tempF': '38', 'windspeedMiles': '5', 'windspeedKmph': '7', 'winddirDegree': '123', 'winddir16Point': 'ESE', 'weatherCode': '122', 'weatherIconUrl': [{'value': 'http://cdn.worldweatheronline.net/images/wsymbols01_png_64/wsymbol_0004_black_low_cloud.png'}], 'weatherDesc': [{'value': 'Overcast'}], 'precipMM': '0.1', 'humidity': '81', 'visibility': '20', 'pressure': '1023', 'cloudcover': '84', 'HeatIndexC': '2', 'HeatIndexF': '35', 'DewPointC': '-2', 'DewPointF': '29', 'WindChillC': '-1', 'WindChillF': '31', 'WindGustMiles': '9', 'WindGustKmph': '14', 'FeelsLikeC': '-1', 'FeelsLikeF': '31'}]}]}}, {'data': {'request': [{'type': 'City', 'query': 'Raleigh, United States of America'}], 'nearest_area': [{'areaName': [{'value': 'Raleigh'}], 'country': [{'value': 'United States of America'}], 'region': [{'value': 'North Carolina'}], 'latitude': '35.772', 'longitude': '-78.639'}], 'weather': [{'date': '2019-01-13', 'astronomy': [{'sunrise': '07:25 AM', 'sunset': '05:23 PM', 'moonrise': '11:48 AM', 'moonset': 'No moonset', 'moon_phase': 'First Quarter', 'moon_illumination': '41'}], 'maxtempC': '4', 'maxtempF': '40', 'mintempC': '-1', 'mintempF': '31', 'totalSnow_cm': '0.0', 'sunHour': '0.0', 'uvIndex': '0', 'hourly': [{'time': '24', 'tempC': '4', 'tempF': '40', 'windspeedMiles': '7', 'windspeedKmph': '11', 'winddirDegree': '26', 'winddir16Point': 'NNE', 'weatherCode': '302', 'weatherIconUrl': [{'value': 'http://cdn.worldweatheronline.net/images/wsymbols01_png_64/wsymbol_0018_cloudy_with_heavy_rain.png'}], 'weatherDesc': [{'value': 'Moderate rain'}], 'precipMM': '39.2', 'humidity': '90', 'visibility': '7', 'pressure': '1023', 'cloudcover': '100', 'HeatIndexC': '2', 'HeatIndexF': '35', 'DewPointC': '0', 'DewPointF': '32', 'WindChillC': '-1', 'WindChillF': '30', 'WindGustMiles': '13', 'WindGustKmph': '21', 'FeelsLikeC': '-1', 'FeelsLikeF': '30'}]}]}}]\n",
      "[{'data': {'request': [{'type': 'City', 'query': 'Raleigh, United States of America'}], 'nearest_area': [{'areaName': [{'value': 'Raleigh'}], 'country': [{'value': 'United States of America'}], 'region': [{'value': 'North Carolina'}], 'latitude': '35.772', 'longitude': '-78.639'}], 'weather': [{'date': '2019-01-14', 'astronomy': [{'sunrise': '07:24 AM', 'sunset': '05:23 PM', 'moonrise': '12:18 PM', 'moonset': '12:25 AM', 'moon_phase': 'First Quarter', 'moon_illumination': '48'}], 'maxtempC': '3', 'maxtempF': '38', 'mintempC': '-1', 'mintempF': '31', 'totalSnow_cm': '0.0', 'sunHour': '0.0', 'uvIndex': '0', 'hourly': [{'time': '24', 'tempC': '3', 'tempF': '38', 'windspeedMiles': '5', 'windspeedKmph': '7', 'winddirDegree': '123', 'winddir16Point': 'ESE', 'weatherCode': '122', 'weatherIconUrl': [{'value': 'http://cdn.worldweatheronline.net/images/wsymbols01_png_64/wsymbol_0004_black_low_cloud.png'}], 'weatherDesc': [{'value': 'Overcast'}], 'precipMM': '0.1', 'humidity': '81', 'visibility': '20', 'pressure': '1023', 'cloudcover': '84', 'HeatIndexC': '2', 'HeatIndexF': '35', 'DewPointC': '-2', 'DewPointF': '29', 'WindChillC': '-1', 'WindChillF': '31', 'WindGustMiles': '9', 'WindGustKmph': '14', 'FeelsLikeC': '-1', 'FeelsLikeF': '31'}]}]}}, {'data': {'request': [{'type': 'City', 'query': 'Raleigh, United States of America'}], 'nearest_area': [{'areaName': [{'value': 'Raleigh'}], 'country': [{'value': 'United States of America'}], 'region': [{'value': 'North Carolina'}], 'latitude': '35.772', 'longitude': '-78.639'}], 'weather': [{'date': '2019-01-13', 'astronomy': [{'sunrise': '07:25 AM', 'sunset': '05:23 PM', 'moonrise': '11:48 AM', 'moonset': 'No moonset', 'moon_phase': 'First Quarter', 'moon_illumination': '41'}], 'maxtempC': '4', 'maxtempF': '40', 'mintempC': '-1', 'mintempF': '31', 'totalSnow_cm': '0.0', 'sunHour': '0.0', 'uvIndex': '0', 'hourly': [{'time': '24', 'tempC': '4', 'tempF': '40', 'windspeedMiles': '7', 'windspeedKmph': '11', 'winddirDegree': '26', 'winddir16Point': 'NNE', 'weatherCode': '302', 'weatherIconUrl': [{'value': 'http://cdn.worldweatheronline.net/images/wsymbols01_png_64/wsymbol_0018_cloudy_with_heavy_rain.png'}], 'weatherDesc': [{'value': 'Moderate rain'}], 'precipMM': '39.2', 'humidity': '90', 'visibility': '7', 'pressure': '1023', 'cloudcover': '100', 'HeatIndexC': '2', 'HeatIndexF': '35', 'DewPointC': '0', 'DewPointF': '32', 'WindChillC': '-1', 'WindChillF': '30', 'WindGustMiles': '13', 'WindGustKmph': '21', 'FeelsLikeC': '-1', 'FeelsLikeF': '30'}]}]}}, {'data': {'request': [{'type': 'City', 'query': 'Raleigh, United States of America'}], 'nearest_area': [{'areaName': [{'value': 'Raleigh'}], 'country': [{'value': 'United States of America'}], 'region': [{'value': 'North Carolina'}], 'latitude': '35.772', 'longitude': '-78.639'}], 'weather': [{'date': '2019-01-12', 'astronomy': [{'sunrise': '07:25 AM', 'sunset': '05:22 PM', 'moonrise': '11:19 AM', 'moonset': '11:28 PM', 'moon_phase': 'First Quarter', 'moon_illumination': '34'}], 'maxtempC': '8', 'maxtempF': '47', 'mintempC': '-2', 'mintempF': '29', 'totalSnow_cm': '0.0', 'sunHour': '0.0', 'uvIndex': '0', 'hourly': [{'time': '24', 'tempC': '8', 'tempF': '47', 'windspeedMiles': '2', 'windspeedKmph': '4', 'winddirDegree': '88', 'winddir16Point': 'E', 'weatherCode': '119', 'weatherIconUrl': [{'value': 'http://cdn.worldweatheronline.net/images/wsymbols01_png_64/wsymbol_0003_white_cloud.png'}], 'weatherDesc': [{'value': 'Cloudy'}], 'precipMM': '0.6', 'humidity': '69', 'visibility': '9', 'pressure': '1030', 'cloudcover': '61', 'HeatIndexC': '3', 'HeatIndexF': '37', 'DewPointC': '-3', 'DewPointF': '27', 'WindChillC': '2', 'WindChillF': '36', 'WindGustMiles': '9', 'WindGustKmph': '14', 'FeelsLikeC': '2', 'FeelsLikeF': '36'}]}]}}]\n",
      "[{'data': {'request': [{'type': 'City', 'query': 'Raleigh, United States of America'}], 'nearest_area': [{'areaName': [{'value': 'Raleigh'}], 'country': [{'value': 'United States of America'}], 'region': [{'value': 'North Carolina'}], 'latitude': '35.772', 'longitude': '-78.639'}], 'weather': [{'date': '2019-01-14', 'astronomy': [{'sunrise': '07:24 AM', 'sunset': '05:23 PM', 'moonrise': '12:18 PM', 'moonset': '12:25 AM', 'moon_phase': 'First Quarter', 'moon_illumination': '48'}], 'maxtempC': '3', 'maxtempF': '38', 'mintempC': '-1', 'mintempF': '31', 'totalSnow_cm': '0.0', 'sunHour': '0.0', 'uvIndex': '0', 'hourly': [{'time': '24', 'tempC': '3', 'tempF': '38', 'windspeedMiles': '5', 'windspeedKmph': '7', 'winddirDegree': '123', 'winddir16Point': 'ESE', 'weatherCode': '122', 'weatherIconUrl': [{'value': 'http://cdn.worldweatheronline.net/images/wsymbols01_png_64/wsymbol_0004_black_low_cloud.png'}], 'weatherDesc': [{'value': 'Overcast'}], 'precipMM': '0.1', 'humidity': '81', 'visibility': '20', 'pressure': '1023', 'cloudcover': '84', 'HeatIndexC': '2', 'HeatIndexF': '35', 'DewPointC': '-2', 'DewPointF': '29', 'WindChillC': '-1', 'WindChillF': '31', 'WindGustMiles': '9', 'WindGustKmph': '14', 'FeelsLikeC': '-1', 'FeelsLikeF': '31'}]}]}}, {'data': {'request': [{'type': 'City', 'query': 'Raleigh, United States of America'}], 'nearest_area': [{'areaName': [{'value': 'Raleigh'}], 'country': [{'value': 'United States of America'}], 'region': [{'value': 'North Carolina'}], 'latitude': '35.772', 'longitude': '-78.639'}], 'weather': [{'date': '2019-01-13', 'astronomy': [{'sunrise': '07:25 AM', 'sunset': '05:23 PM', 'moonrise': '11:48 AM', 'moonset': 'No moonset', 'moon_phase': 'First Quarter', 'moon_illumination': '41'}], 'maxtempC': '4', 'maxtempF': '40', 'mintempC': '-1', 'mintempF': '31', 'totalSnow_cm': '0.0', 'sunHour': '0.0', 'uvIndex': '0', 'hourly': [{'time': '24', 'tempC': '4', 'tempF': '40', 'windspeedMiles': '7', 'windspeedKmph': '11', 'winddirDegree': '26', 'winddir16Point': 'NNE', 'weatherCode': '302', 'weatherIconUrl': [{'value': 'http://cdn.worldweatheronline.net/images/wsymbols01_png_64/wsymbol_0018_cloudy_with_heavy_rain.png'}], 'weatherDesc': [{'value': 'Moderate rain'}], 'precipMM': '39.2', 'humidity': '90', 'visibility': '7', 'pressure': '1023', 'cloudcover': '100', 'HeatIndexC': '2', 'HeatIndexF': '35', 'DewPointC': '0', 'DewPointF': '32', 'WindChillC': '-1', 'WindChillF': '30', 'WindGustMiles': '13', 'WindGustKmph': '21', 'FeelsLikeC': '-1', 'FeelsLikeF': '30'}]}]}}, {'data': {'request': [{'type': 'City', 'query': 'Raleigh, United States of America'}], 'nearest_area': [{'areaName': [{'value': 'Raleigh'}], 'country': [{'value': 'United States of America'}], 'region': [{'value': 'North Carolina'}], 'latitude': '35.772', 'longitude': '-78.639'}], 'weather': [{'date': '2019-01-12', 'astronomy': [{'sunrise': '07:25 AM', 'sunset': '05:22 PM', 'moonrise': '11:19 AM', 'moonset': '11:28 PM', 'moon_phase': 'First Quarter', 'moon_illumination': '34'}], 'maxtempC': '8', 'maxtempF': '47', 'mintempC': '-2', 'mintempF': '29', 'totalSnow_cm': '0.0', 'sunHour': '0.0', 'uvIndex': '0', 'hourly': [{'time': '24', 'tempC': '8', 'tempF': '47', 'windspeedMiles': '2', 'windspeedKmph': '4', 'winddirDegree': '88', 'winddir16Point': 'E', 'weatherCode': '119', 'weatherIconUrl': [{'value': 'http://cdn.worldweatheronline.net/images/wsymbols01_png_64/wsymbol_0003_white_cloud.png'}], 'weatherDesc': [{'value': 'Cloudy'}], 'precipMM': '0.6', 'humidity': '69', 'visibility': '9', 'pressure': '1030', 'cloudcover': '61', 'HeatIndexC': '3', 'HeatIndexF': '37', 'DewPointC': '-3', 'DewPointF': '27', 'WindChillC': '2', 'WindChillF': '36', 'WindGustMiles': '9', 'WindGustKmph': '14', 'FeelsLikeC': '2', 'FeelsLikeF': '36'}]}]}}, {'data': {'request': [{'type': 'City', 'query': 'Raleigh, United States of America'}], 'nearest_area': [{'areaName': [{'value': 'Raleigh'}], 'country': [{'value': 'United States of America'}], 'region': [{'value': 'North Carolina'}], 'latitude': '35.772', 'longitude': '-78.639'}], 'weather': [{'date': '2019-01-11', 'astronomy': [{'sunrise': '07:25 AM', 'sunset': '05:21 PM', 'moonrise': '10:49 AM', 'moonset': '10:32 PM', 'moon_phase': 'First Quarter', 'moon_illumination': '28'}], 'maxtempC': '7', 'maxtempF': '45', 'mintempC': '-5', 'mintempF': '23', 'totalSnow_cm': '0.0', 'sunHour': '0.0', 'uvIndex': '0', 'hourly': [{'time': '24', 'tempC': '7', 'tempF': '45', 'windspeedMiles': '1', 'windspeedKmph': '2', 'winddirDegree': '55', 'winddir16Point': 'NE', 'weatherCode': '116', 'weatherIconUrl': [{'value': 'http://cdn.worldweatheronline.net/images/wsymbols01_png_64/wsymbol_0002_sunny_intervals.png'}], 'weatherDesc': [{'value': 'Partly cloudy'}], 'precipMM': '0.0', 'humidity': '63', 'visibility': '10', 'pressure': '1028', 'cloudcover': '10', 'HeatIndexC': '3', 'HeatIndexF': '37', 'DewPointC': '-6', 'DewPointF': '22', 'WindChillC': '2', 'WindChillF': '36', 'WindGustMiles': '5', 'WindGustKmph': '8', 'FeelsLikeC': '2', 'FeelsLikeF': '36'}]}]}}]\n"
     ]
    },
    {
     "name": "stdout",
     "output_type": "stream",
     "text": [
      "[{'data': {'request': [{'type': 'City', 'query': 'Raleigh, United States of America'}], 'nearest_area': [{'areaName': [{'value': 'Raleigh'}], 'country': [{'value': 'United States of America'}], 'region': [{'value': 'North Carolina'}], 'latitude': '35.772', 'longitude': '-78.639'}], 'weather': [{'date': '2019-01-14', 'astronomy': [{'sunrise': '07:24 AM', 'sunset': '05:23 PM', 'moonrise': '12:18 PM', 'moonset': '12:25 AM', 'moon_phase': 'First Quarter', 'moon_illumination': '48'}], 'maxtempC': '3', 'maxtempF': '38', 'mintempC': '-1', 'mintempF': '31', 'totalSnow_cm': '0.0', 'sunHour': '0.0', 'uvIndex': '0', 'hourly': [{'time': '24', 'tempC': '3', 'tempF': '38', 'windspeedMiles': '5', 'windspeedKmph': '7', 'winddirDegree': '123', 'winddir16Point': 'ESE', 'weatherCode': '122', 'weatherIconUrl': [{'value': 'http://cdn.worldweatheronline.net/images/wsymbols01_png_64/wsymbol_0004_black_low_cloud.png'}], 'weatherDesc': [{'value': 'Overcast'}], 'precipMM': '0.1', 'humidity': '81', 'visibility': '20', 'pressure': '1023', 'cloudcover': '84', 'HeatIndexC': '2', 'HeatIndexF': '35', 'DewPointC': '-2', 'DewPointF': '29', 'WindChillC': '-1', 'WindChillF': '31', 'WindGustMiles': '9', 'WindGustKmph': '14', 'FeelsLikeC': '-1', 'FeelsLikeF': '31'}]}]}}, {'data': {'request': [{'type': 'City', 'query': 'Raleigh, United States of America'}], 'nearest_area': [{'areaName': [{'value': 'Raleigh'}], 'country': [{'value': 'United States of America'}], 'region': [{'value': 'North Carolina'}], 'latitude': '35.772', 'longitude': '-78.639'}], 'weather': [{'date': '2019-01-13', 'astronomy': [{'sunrise': '07:25 AM', 'sunset': '05:23 PM', 'moonrise': '11:48 AM', 'moonset': 'No moonset', 'moon_phase': 'First Quarter', 'moon_illumination': '41'}], 'maxtempC': '4', 'maxtempF': '40', 'mintempC': '-1', 'mintempF': '31', 'totalSnow_cm': '0.0', 'sunHour': '0.0', 'uvIndex': '0', 'hourly': [{'time': '24', 'tempC': '4', 'tempF': '40', 'windspeedMiles': '7', 'windspeedKmph': '11', 'winddirDegree': '26', 'winddir16Point': 'NNE', 'weatherCode': '302', 'weatherIconUrl': [{'value': 'http://cdn.worldweatheronline.net/images/wsymbols01_png_64/wsymbol_0018_cloudy_with_heavy_rain.png'}], 'weatherDesc': [{'value': 'Moderate rain'}], 'precipMM': '39.2', 'humidity': '90', 'visibility': '7', 'pressure': '1023', 'cloudcover': '100', 'HeatIndexC': '2', 'HeatIndexF': '35', 'DewPointC': '0', 'DewPointF': '32', 'WindChillC': '-1', 'WindChillF': '30', 'WindGustMiles': '13', 'WindGustKmph': '21', 'FeelsLikeC': '-1', 'FeelsLikeF': '30'}]}]}}, {'data': {'request': [{'type': 'City', 'query': 'Raleigh, United States of America'}], 'nearest_area': [{'areaName': [{'value': 'Raleigh'}], 'country': [{'value': 'United States of America'}], 'region': [{'value': 'North Carolina'}], 'latitude': '35.772', 'longitude': '-78.639'}], 'weather': [{'date': '2019-01-12', 'astronomy': [{'sunrise': '07:25 AM', 'sunset': '05:22 PM', 'moonrise': '11:19 AM', 'moonset': '11:28 PM', 'moon_phase': 'First Quarter', 'moon_illumination': '34'}], 'maxtempC': '8', 'maxtempF': '47', 'mintempC': '-2', 'mintempF': '29', 'totalSnow_cm': '0.0', 'sunHour': '0.0', 'uvIndex': '0', 'hourly': [{'time': '24', 'tempC': '8', 'tempF': '47', 'windspeedMiles': '2', 'windspeedKmph': '4', 'winddirDegree': '88', 'winddir16Point': 'E', 'weatherCode': '119', 'weatherIconUrl': [{'value': 'http://cdn.worldweatheronline.net/images/wsymbols01_png_64/wsymbol_0003_white_cloud.png'}], 'weatherDesc': [{'value': 'Cloudy'}], 'precipMM': '0.6', 'humidity': '69', 'visibility': '9', 'pressure': '1030', 'cloudcover': '61', 'HeatIndexC': '3', 'HeatIndexF': '37', 'DewPointC': '-3', 'DewPointF': '27', 'WindChillC': '2', 'WindChillF': '36', 'WindGustMiles': '9', 'WindGustKmph': '14', 'FeelsLikeC': '2', 'FeelsLikeF': '36'}]}]}}, {'data': {'request': [{'type': 'City', 'query': 'Raleigh, United States of America'}], 'nearest_area': [{'areaName': [{'value': 'Raleigh'}], 'country': [{'value': 'United States of America'}], 'region': [{'value': 'North Carolina'}], 'latitude': '35.772', 'longitude': '-78.639'}], 'weather': [{'date': '2019-01-11', 'astronomy': [{'sunrise': '07:25 AM', 'sunset': '05:21 PM', 'moonrise': '10:49 AM', 'moonset': '10:32 PM', 'moon_phase': 'First Quarter', 'moon_illumination': '28'}], 'maxtempC': '7', 'maxtempF': '45', 'mintempC': '-5', 'mintempF': '23', 'totalSnow_cm': '0.0', 'sunHour': '0.0', 'uvIndex': '0', 'hourly': [{'time': '24', 'tempC': '7', 'tempF': '45', 'windspeedMiles': '1', 'windspeedKmph': '2', 'winddirDegree': '55', 'winddir16Point': 'NE', 'weatherCode': '116', 'weatherIconUrl': [{'value': 'http://cdn.worldweatheronline.net/images/wsymbols01_png_64/wsymbol_0002_sunny_intervals.png'}], 'weatherDesc': [{'value': 'Partly cloudy'}], 'precipMM': '0.0', 'humidity': '63', 'visibility': '10', 'pressure': '1028', 'cloudcover': '10', 'HeatIndexC': '3', 'HeatIndexF': '37', 'DewPointC': '-6', 'DewPointF': '22', 'WindChillC': '2', 'WindChillF': '36', 'WindGustMiles': '5', 'WindGustKmph': '8', 'FeelsLikeC': '2', 'FeelsLikeF': '36'}]}]}}, {'data': {'request': [{'type': 'City', 'query': 'Raleigh, United States of America'}], 'nearest_area': [{'areaName': [{'value': 'Raleigh'}], 'country': [{'value': 'United States of America'}], 'region': [{'value': 'North Carolina'}], 'latitude': '35.772', 'longitude': '-78.639'}], 'weather': [{'date': '2019-01-10', 'astronomy': [{'sunrise': '07:25 AM', 'sunset': '05:20 PM', 'moonrise': '10:19 AM', 'moonset': '09:37 PM', 'moon_phase': 'Waxing Crescent', 'moon_illumination': '21'}], 'maxtempC': '8', 'maxtempF': '47', 'mintempC': '2', 'mintempF': '36', 'totalSnow_cm': '0.0', 'sunHour': '0.0', 'uvIndex': '0', 'hourly': [{'time': '24', 'tempC': '8', 'tempF': '47', 'windspeedMiles': '5', 'windspeedKmph': '8', 'winddirDegree': '319', 'winddir16Point': 'NW', 'weatherCode': '116', 'weatherIconUrl': [{'value': 'http://cdn.worldweatheronline.net/images/wsymbols01_png_64/wsymbol_0002_sunny_intervals.png'}], 'weatherDesc': [{'value': 'Partly cloudy'}], 'precipMM': '0.0', 'humidity': '67', 'visibility': '10', 'pressure': '1022', 'cloudcover': '12', 'HeatIndexC': '5', 'HeatIndexF': '41', 'DewPointC': '-1', 'DewPointF': '30', 'WindChillC': '4', 'WindChillF': '38', 'WindGustMiles': '17', 'WindGustKmph': '28', 'FeelsLikeC': '4', 'FeelsLikeF': '38'}]}]}}]\n"
     ]
    }
   ],
   "source": [
    "#this is where the weather data pull happens\n",
    "weather_data = []\n",
    "for day in final_dates:\n",
    "    date = day        \n",
    "    try:\n",
    "        url =  \"https://api.worldweatheronline.com/premium/v1/past-weather.ashx?\"\n",
    "        key = Config.w_key   # Check ConfigEnv.py\n",
    "        city = \"Raleigh\"\n",
    "        f= \"json\" #sets format to json\n",
    "        tp = \"24\" #pull daily average        \n",
    "        query_url = f\"{url}key={key}&q={city}&format={f}&date={date}&includelocation=yes&tp={tp}\"\n",
    "        weather_data.append(requests.get(query_url).json())\n",
    "        print(weather_data)\n",
    "    except:\n",
    "        pass"
   ]
  },
  {
   "cell_type": "code",
   "execution_count": 21,
   "metadata": {},
   "outputs": [
    {
     "data": {
      "text/plain": [
       "'2019-01-13'"
      ]
     },
     "execution_count": 21,
     "metadata": {},
     "output_type": "execute_result"
    }
   ],
   "source": [
    "weather_data[1]['data']['weather'][0]['date']\n"
   ]
  },
  {
   "cell_type": "code",
   "execution_count": 23,
   "metadata": {},
   "outputs": [
    {
     "data": {
      "text/plain": [
       "['2019-01-14', '2019-01-13', '2019-01-12', '2019-01-11', '2019-01-10']"
      ]
     },
     "execution_count": 23,
     "metadata": {},
     "output_type": "execute_result"
    }
   ],
   "source": [
    "wdate = []\n",
    "maxtempF = []\n",
    "mintempF = []\n",
    "hum = []\n",
    "precip = []\n",
    "w_type = []\n",
    "\n",
    "for item in weather_data:\n",
    "    wdate.append(item['data']['weather'][0]['date'])\n",
    "    maxtempF.append(item['data']['weather'][0]['maxtempF'])\n",
    "    mintempF.append(item['data']['weather'][0]['mintempF'])\n",
    "    hum.append(item['data']['weather'][0]['hourly'][0]['humidity'])\n",
    "    precip.append(item['data']['weather'][0]['hourly'][0]['precipMM'])\n",
    "    w_type.append(item['data']['weather'][0]['hourly'][0]['weatherDesc'][0]['value'])\n",
    "    \n",
    "cows"
   ]
  },
  {
   "cell_type": "code",
   "execution_count": 24,
   "metadata": {},
   "outputs": [
    {
     "data": {
      "text/html": [
       "<div>\n",
       "<style scoped>\n",
       "    .dataframe tbody tr th:only-of-type {\n",
       "        vertical-align: middle;\n",
       "    }\n",
       "\n",
       "    .dataframe tbody tr th {\n",
       "        vertical-align: top;\n",
       "    }\n",
       "\n",
       "    .dataframe thead th {\n",
       "        text-align: right;\n",
       "    }\n",
       "</style>\n",
       "<table border=\"1\" class=\"dataframe\">\n",
       "  <thead>\n",
       "    <tr style=\"text-align: right;\">\n",
       "      <th></th>\n",
       "      <th>Date</th>\n",
       "      <th>Max Temp (f)</th>\n",
       "      <th>Min Temp (f)</th>\n",
       "      <th>Humidity</th>\n",
       "      <th>Precipitation</th>\n",
       "      <th>Weather Conditions</th>\n",
       "    </tr>\n",
       "  </thead>\n",
       "  <tbody>\n",
       "    <tr>\n",
       "      <th>0</th>\n",
       "      <td>2019-01-14</td>\n",
       "      <td>38</td>\n",
       "      <td>31</td>\n",
       "      <td>81</td>\n",
       "      <td>0.1</td>\n",
       "      <td>Overcast</td>\n",
       "    </tr>\n",
       "    <tr>\n",
       "      <th>1</th>\n",
       "      <td>2019-01-13</td>\n",
       "      <td>40</td>\n",
       "      <td>31</td>\n",
       "      <td>90</td>\n",
       "      <td>39.2</td>\n",
       "      <td>Moderate rain</td>\n",
       "    </tr>\n",
       "    <tr>\n",
       "      <th>2</th>\n",
       "      <td>2019-01-12</td>\n",
       "      <td>47</td>\n",
       "      <td>29</td>\n",
       "      <td>69</td>\n",
       "      <td>0.6</td>\n",
       "      <td>Cloudy</td>\n",
       "    </tr>\n",
       "    <tr>\n",
       "      <th>3</th>\n",
       "      <td>2019-01-11</td>\n",
       "      <td>45</td>\n",
       "      <td>23</td>\n",
       "      <td>63</td>\n",
       "      <td>0.0</td>\n",
       "      <td>Partly cloudy</td>\n",
       "    </tr>\n",
       "    <tr>\n",
       "      <th>4</th>\n",
       "      <td>2019-01-10</td>\n",
       "      <td>47</td>\n",
       "      <td>36</td>\n",
       "      <td>67</td>\n",
       "      <td>0.0</td>\n",
       "      <td>Partly cloudy</td>\n",
       "    </tr>\n",
       "  </tbody>\n",
       "</table>\n",
       "</div>"
      ],
      "text/plain": [
       "         Date Max Temp (f) Min Temp (f) Humidity Precipitation  \\\n",
       "0  2019-01-14           38           31       81           0.1   \n",
       "1  2019-01-13           40           31       90          39.2   \n",
       "2  2019-01-12           47           29       69           0.6   \n",
       "3  2019-01-11           45           23       63           0.0   \n",
       "4  2019-01-10           47           36       67           0.0   \n",
       "\n",
       "  Weather Conditions  \n",
       "0           Overcast  \n",
       "1      Moderate rain  \n",
       "2             Cloudy  \n",
       "3      Partly cloudy  \n",
       "4      Partly cloudy  "
      ]
     },
     "execution_count": 24,
     "metadata": {},
     "output_type": "execute_result"
    }
   ],
   "source": [
    "clean_weather = pd.DataFrame(\n",
    "    {'Date': wdate,\n",
    "     'Max Temp (f)': maxtempF,\n",
    "     'Min Temp (f)': mintempF,\n",
    "     'Humidity': hum,\n",
    "     'Precipitation': precip,\n",
    "     'Weather Conditions': w_type,\n",
    "    })\n",
    "\n",
    "clean_weather.head()\n",
    "\n"
   ]
  },
  {
   "cell_type": "code",
   "execution_count": 26,
   "metadata": {},
   "outputs": [],
   "source": [
    "clean_weather.to_csv(\"output/weather_test.csv\", index=False, header=True)"
   ]
  },
  {
   "cell_type": "code",
   "execution_count": null,
   "metadata": {},
   "outputs": [],
   "source": []
  }
 ],
 "metadata": {
  "kernelspec": {
   "display_name": "Python 3",
   "language": "python",
   "name": "python3"
  },
  "language_info": {
   "codemirror_mode": {
    "name": "ipython",
    "version": 3
   },
   "file_extension": ".py",
   "mimetype": "text/x-python",
   "name": "python",
   "nbconvert_exporter": "python",
   "pygments_lexer": "ipython3",
   "version": "3.7.0"
  }
 },
 "nbformat": 4,
 "nbformat_minor": 2
}
