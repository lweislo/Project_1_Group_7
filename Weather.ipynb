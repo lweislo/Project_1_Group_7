{
 "cells": [
  {
   "cell_type": "code",
   "execution_count": null,
   "metadata": {},
   "outputs": [],
   "source": [
    "import pandas as pd\n",
    "import requests\n",
    "import time\n",
    "import json\n",
    "import csv\n",
    "import Config\n",
    "import datetime"
   ]
  },
  {
   "cell_type": "code",
   "execution_count": null,
   "metadata": {},
   "outputs": [],
   "source": [
    "## Array containing dates for 2008-01-01 to 2012-12-31\n",
    "\n",
    "start1 = datetime.datetime(2010, 1, 1)\n",
    "end1 = datetime.datetime(2012, 12, 31)\n",
    "date_array_1 = pd.date_range(start1, end1)\n",
    "len(date_array_1)"
   ]
  },
  {
   "cell_type": "code",
   "execution_count": null,
   "metadata": {},
   "outputs": [],
   "source": [
    "## Array containing dates for 2013-01-01 to 2017-12-31\n",
    "\n",
    "start2 = datetime.datetime(2013, 1, 1)\n",
    "end2 = datetime.datetime(2017, 12, 31)\n",
    "date_array_2 = pd.date_range(start2, end2)\n",
    "len(date_array_2)"
   ]
  },
  {
   "cell_type": "code",
   "execution_count": null,
   "metadata": {},
   "outputs": [],
   "source": [
    "## Array containing dates for 2018-01-01 to 2018-12-31\n",
    "\n",
    "start3 = datetime.datetime(2018, 1, 1)\n",
    "end3 = datetime.datetime(2018, 12, 31)\n",
    "date_array_3 = pd.date_range(start3, end3)\n",
    "len(date_array_3)"
   ]
  },
  {
   "cell_type": "code",
   "execution_count": null,
   "metadata": {},
   "outputs": [],
   "source": [
    "#this is where the first weather data pull happens\n",
    "### NO NEED TO RUN. DATA IS IN JSONFILES FOLDER ###\n",
    "\n",
    "for day in date_array_1:\n",
    "    date = day        \n",
    "    try:\n",
    "        url =  \"https://api.worldweatheronline.com/premium/v1/past-weather.ashx?\"\n",
    "        key = Config.w_key3   # Check ConfigEnv.py\n",
    "        city = \"Raleigh\"\n",
    "        f= \"json\" #sets format to json\n",
    "        tp = \"24\" #pull daily average        \n",
    "        query_url = f\"{url}key={key}&q={city}&format={f}&date={date}&includelocation=yes&tp={tp}\"\n",
    "        weather1 = requests.get(query_url).json()\n",
    "        print(json.dumps(weather1, indent=4, sort_keys=True))\n",
    "    except:\n",
    "        pass"
   ]
  },
  {
   "cell_type": "code",
   "execution_count": null,
   "metadata": {},
   "outputs": [],
   "source": [
    "#this is where the second weather data pull happens\n",
    "### NO NEED TO RUN. DATA IS IN JSONFILES FOLDER ###\n",
    "\n",
    "\n",
    "for day in date_array_2:\n",
    "    date = day        \n",
    "    try:\n",
    "        url =  \"https://api.worldweatheronline.com/premium/v1/past-weather.ashx?\"\n",
    "        key = Config.w_key2   # Check ConfigEnv.py\n",
    "        city = \"Raleigh\"\n",
    "        f= \"json\" #sets format to json\n",
    "        tp = \"24\" #pull daily average        \n",
    "        query_url = f\"{url}key={key}&q={city}&format={f}&date={date}&includelocation=yes&tp={tp}\"\n",
    "        weather2 = requests.get(query_url).json()\n",
    "        print(json.dumps(weather2, indent=4, sort_keys=True))\n",
    "    except:\n",
    "        pass"
   ]
  },
  {
   "cell_type": "code",
   "execution_count": null,
   "metadata": {},
   "outputs": [],
   "source": [
    "#this is where the third weather data pull happens\n",
    "### NO NEED TO RUN. DATA IS IN JSONFILES FOLDER ###\n",
    "\n",
    "\n",
    "for day in date_array_3:\n",
    "    date = day        \n",
    "    try:\n",
    "        url =  \"https://api.worldweatheronline.com/premium/v1/past-weather.ashx?\"\n",
    "        key = Config.w_key   # Check ConfigEnv.py\n",
    "        city = \"Raleigh\"\n",
    "        f= \"json\" #sets format to json\n",
    "        tp = \"24\" #pull daily average        \n",
    "        query_url = f\"{url}key={key}&q={city}&format={f}&date={date}&includelocation=yes&tp={tp}\"\n",
    "        weather3 = requests.get(query_url).json()\n",
    "        print(json.dumps(weather3, indent=4, sort_keys=True))\n",
    "    except:\n",
    "        pass"
   ]
  },
  {
   "cell_type": "code",
   "execution_count": null,
   "metadata": {},
   "outputs": [],
   "source": [
    "data = pd.read_json('weather3.json', lines=True) #doesn't seem to be working"
   ]
  },
  {
   "cell_type": "code",
   "execution_count": null,
   "metadata": {},
   "outputs": [],
   "source": [
    "#date = []\n",
    "#maxtempF = []\n",
    "#mintempF = []\n",
    "#hum = []\n",
    "#precip = []\n",
    "#w_type = []\n",
    "#wi_speed = []\n",
    "#wi_gust = []\n",
    "\n",
    "#for item in weather1:\n",
    "    \n",
    "#    date_value = item['data']['weather'][0]['date']\n",
    "#    date.append(date_value)\n",
    "#    max_value = item['data']['weather'][0]['maxtempF']\n",
    "#    maxtempF.append(max_value)\n",
    "#    min_value = item['data']['weather'][0]['mintempF']\n",
    "#    mintempF.append(min_value)\n",
    "#    hum_value = item['data']['weather'][0]['hourly'][0]['humidity']\n",
    "#    hum.append(hum_value)\n",
    "#    pre_value = item['data']['weather'][0]['hourly'][0]['precipMM']\n",
    "#    precip.append(pre_value)\n",
    "#    desc_value = item['data']['weather'][0]['hourly'][0]['weatherDesc'][0]['value']\n",
    "#    w_type.append(desc_value)\n",
    "#    wspeed_value = item['data']['weather'][0]['hourly'][0]['windspeedMiles']\n",
    "#    wi_speed.append(wspeed_value)\n",
    "#    wgusts_value = item['data']['weather'][0]['hourly'][0]['WindGustMiles']\n",
    "#    wi_gust.append(wgusts_value)\n",
    "#    len(date)\n",
    "    \n",
    "#print(date)"
   ]
  },
  {
   "cell_type": "code",
   "execution_count": null,
   "metadata": {},
   "outputs": [],
   "source": [
    "#len(date)"
   ]
  },
  {
   "cell_type": "code",
   "execution_count": null,
   "metadata": {},
   "outputs": [],
   "source": [
    "clean_weather = pd.DataFrame(\n",
    "    {'Date': wdate,\n",
    "     'Max Temp (f)': maxtempF,\n",
    "     'Min Temp (f)': mintempF,\n",
    "     'Humidity': hum,\n",
    "     'Precipitation': precip,\n",
    "     'Weather Conditions': w_type,\n",
    "    })\n",
    "\n",
    "clean_weather.head()\n",
    "\n"
   ]
  },
  {
   "cell_type": "code",
   "execution_count": null,
   "metadata": {},
   "outputs": [],
   "source": [
    "clean_weather.to_csv(\"output/weather_test.csv\", index=False, header=True)"
   ]
  },
  {
   "cell_type": "code",
   "execution_count": null,
   "metadata": {},
   "outputs": [],
   "source": []
  }
 ],
 "metadata": {
  "kernelspec": {
   "display_name": "Python 3",
   "language": "python",
   "name": "python3"
  },
  "language_info": {
   "codemirror_mode": {
    "name": "ipython",
    "version": 3
   },
   "file_extension": ".py",
   "mimetype": "text/x-python",
   "name": "python",
   "nbconvert_exporter": "python",
   "pygments_lexer": "ipython3",
   "version": "3.7.0"
  }
 },
 "nbformat": 4,
 "nbformat_minor": 2
}
