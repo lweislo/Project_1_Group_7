{
 "cells": [
  {
   "cell_type": "code",
   "execution_count": 1,
   "metadata": {},
   "outputs": [],
   "source": [
    "import pandas as pd\n",
    "import requests\n",
    "import time\n",
    "import json\n",
    "import csv\n",
    "import Config\n",
    "import datetime"
   ]
  },
  {
   "cell_type": "code",
   "execution_count": 2,
   "metadata": {},
   "outputs": [],
   "source": [
    "base = datetime.datetime.today().date()"
   ]
  },
  {
   "cell_type": "code",
   "execution_count": 3,
   "metadata": {},
   "outputs": [
    {
     "name": "stdout",
     "output_type": "stream",
     "text": [
      "['2019-01-12', '2019-01-11', '2019-01-10', '2019-01-09', '2019-01-08', '2019-01-07', '2019-01-06', '2019-01-05', '2019-01-04', '2019-01-03', '2019-01-02', '2019-01-01', '2018-12-31', '2018-12-30', '2018-12-29', '2018-12-28', '2018-12-27', '2018-12-26', '2018-12-25', '2018-12-24', '2018-12-23', '2018-12-22', '2018-12-21', '2018-12-20', '2018-12-19', '2018-12-18', '2018-12-17', '2018-12-16', '2018-12-15', '2018-12-14', '2018-12-13', '2018-12-12', '2018-12-11', '2018-12-10', '2018-12-09', '2018-12-08', '2018-12-07', '2018-12-06', '2018-12-05', '2018-12-04', '2018-12-03', '2018-12-02', '2018-12-01', '2018-11-30', '2018-11-29', '2018-11-28', '2018-11-27', '2018-11-26', '2018-11-25', '2018-11-24']\n"
     ]
    }
   ],
   "source": [
    "#numdays = 4017 #the number of days from 2008-01-01 to 2018-12-31\n",
    "numdays = 50 #this is for testing\n",
    "date_list = [base - datetime.timedelta(days=x) for x in range(0, numdays)]\n",
    "\n",
    "final_dates = []\n",
    "\n",
    "for date in date_list:\n",
    "    final_dates.append(str(date))\n",
    "    #print (str(date))\n",
    "print (final_dates)"
   ]
  },
  {
   "cell_type": "code",
   "execution_count": 30,
   "metadata": {},
   "outputs": [],
   "source": [
    "for day in final_dates:\n",
    "    date = day        \n",
    "#this is where the weather data pull happens\n",
    "    try:\n",
    "        url =  \"https://api.worldweatheronline.com/premium/v1/past-weather.ashx?\"\n",
    "        key = Config.w_key   # Check ConfigEnv.py\n",
    "        city = \"Raleigh\"\n",
    "        f= \"json\" #sets format to json\n",
    "        tp = \"24\" #pull daily average        \n",
    "        query_url = f\"{url}key={key}&q={city}&format={f}&date={date}&includelocation=yes&tp={tp}\"\n",
    "        weather = requests.get(query_url).json()\n",
    "        #print(json.dumps(weather, indent=4, sort_keys=True))\n",
    "    except:\n",
    "        pass"
   ]
  },
  {
   "cell_type": "code",
   "execution_count": 33,
   "metadata": {},
   "outputs": [],
   "source": [
    "day_w = weather['data']['weather']\n",
    "daily = []\n",
    "date = []\n",
    "for item in day_w:\n",
    "    daily.append(item['hourly'][0])\n",
    "    date.append(item['date'])\n"
   ]
  },
  {
   "cell_type": "code",
   "execution_count": 34,
   "metadata": {},
   "outputs": [
    {
     "data": {
      "text/html": [
       "<div>\n",
       "<style scoped>\n",
       "    .dataframe tbody tr th:only-of-type {\n",
       "        vertical-align: middle;\n",
       "    }\n",
       "\n",
       "    .dataframe tbody tr th {\n",
       "        vertical-align: top;\n",
       "    }\n",
       "\n",
       "    .dataframe thead th {\n",
       "        text-align: right;\n",
       "    }\n",
       "</style>\n",
       "<table border=\"1\" class=\"dataframe\">\n",
       "  <thead>\n",
       "    <tr style=\"text-align: right;\">\n",
       "      <th></th>\n",
       "      <th>DewPointC</th>\n",
       "      <th>DewPointF</th>\n",
       "      <th>FeelsLikeC</th>\n",
       "      <th>FeelsLikeF</th>\n",
       "      <th>HeatIndexC</th>\n",
       "      <th>HeatIndexF</th>\n",
       "      <th>WindChillC</th>\n",
       "      <th>WindChillF</th>\n",
       "      <th>WindGustKmph</th>\n",
       "      <th>WindGustMiles</th>\n",
       "      <th>...</th>\n",
       "      <th>time</th>\n",
       "      <th>visibility</th>\n",
       "      <th>weatherCode</th>\n",
       "      <th>weatherDesc</th>\n",
       "      <th>weatherIconUrl</th>\n",
       "      <th>winddir16Point</th>\n",
       "      <th>winddirDegree</th>\n",
       "      <th>windspeedKmph</th>\n",
       "      <th>windspeedMiles</th>\n",
       "      <th>Date</th>\n",
       "    </tr>\n",
       "  </thead>\n",
       "  <tbody>\n",
       "    <tr>\n",
       "      <th>0</th>\n",
       "      <td>8</td>\n",
       "      <td>47</td>\n",
       "      <td>9</td>\n",
       "      <td>47</td>\n",
       "      <td>9</td>\n",
       "      <td>49</td>\n",
       "      <td>9</td>\n",
       "      <td>47</td>\n",
       "      <td>18</td>\n",
       "      <td>11</td>\n",
       "      <td>...</td>\n",
       "      <td>24</td>\n",
       "      <td>7</td>\n",
       "      <td>389</td>\n",
       "      <td>[{'value': 'Moderate or heavy rain with thunde...</td>\n",
       "      <td>[{'value': 'http://cdn.worldweatheronline.net/...</td>\n",
       "      <td>SW</td>\n",
       "      <td>229</td>\n",
       "      <td>8</td>\n",
       "      <td>5</td>\n",
       "      <td>2018-11-24</td>\n",
       "    </tr>\n",
       "  </tbody>\n",
       "</table>\n",
       "<p>1 rows × 26 columns</p>\n",
       "</div>"
      ],
      "text/plain": [
       "  DewPointC DewPointF FeelsLikeC FeelsLikeF HeatIndexC HeatIndexF WindChillC  \\\n",
       "0         8        47          9         47          9         49          9   \n",
       "\n",
       "  WindChillF WindGustKmph WindGustMiles     ...     time visibility  \\\n",
       "0         47           18            11     ...       24          7   \n",
       "\n",
       "  weatherCode                                        weatherDesc  \\\n",
       "0         389  [{'value': 'Moderate or heavy rain with thunde...   \n",
       "\n",
       "                                      weatherIconUrl winddir16Point  \\\n",
       "0  [{'value': 'http://cdn.worldweatheronline.net/...             SW   \n",
       "\n",
       "  winddirDegree windspeedKmph windspeedMiles        Date  \n",
       "0           229             8              5  2018-11-24  \n",
       "\n",
       "[1 rows x 26 columns]"
      ]
     },
     "execution_count": 34,
     "metadata": {},
     "output_type": "execute_result"
    }
   ],
   "source": [
    "dfw = pd.DataFrame(daily)\n",
    "dfw['Date'] = date\n",
    "dfw.head()"
   ]
  },
  {
   "cell_type": "code",
   "execution_count": 6,
   "metadata": {},
   "outputs": [
    {
     "data": {
      "text/html": [
       "<div>\n",
       "<style scoped>\n",
       "    .dataframe tbody tr th:only-of-type {\n",
       "        vertical-align: middle;\n",
       "    }\n",
       "\n",
       "    .dataframe tbody tr th {\n",
       "        vertical-align: top;\n",
       "    }\n",
       "\n",
       "    .dataframe thead th {\n",
       "        text-align: right;\n",
       "    }\n",
       "</style>\n",
       "<table border=\"1\" class=\"dataframe\">\n",
       "  <thead>\n",
       "    <tr style=\"text-align: right;\">\n",
       "      <th></th>\n",
       "      <th>data</th>\n",
       "    </tr>\n",
       "  </thead>\n",
       "  <tbody>\n",
       "    <tr>\n",
       "      <th>nearest_area</th>\n",
       "      <td>[{'areaName': [{'value': 'Raleigh'}], 'country...</td>\n",
       "    </tr>\n",
       "    <tr>\n",
       "      <th>request</th>\n",
       "      <td>[{'type': 'City', 'query': 'Raleigh, United St...</td>\n",
       "    </tr>\n",
       "    <tr>\n",
       "      <th>weather</th>\n",
       "      <td>[{'date': '2018-11-24', 'astronomy': [{'sunris...</td>\n",
       "    </tr>\n",
       "  </tbody>\n",
       "</table>\n",
       "</div>"
      ],
      "text/plain": [
       "                                                           data\n",
       "nearest_area  [{'areaName': [{'value': 'Raleigh'}], 'country...\n",
       "request       [{'type': 'City', 'query': 'Raleigh, United St...\n",
       "weather       [{'date': '2018-11-24', 'astronomy': [{'sunris..."
      ]
     },
     "execution_count": 6,
     "metadata": {},
     "output_type": "execute_result"
    }
   ],
   "source": [
    "weather_pd = pd.DataFrame(weather)\n",
    "weather_pd.head()"
   ]
  },
  {
   "cell_type": "code",
   "execution_count": null,
   "metadata": {},
   "outputs": [],
   "source": []
  }
 ],
 "metadata": {
  "kernelspec": {
   "display_name": "Python 3",
   "language": "python",
   "name": "python3"
  },
  "language_info": {
   "codemirror_mode": {
    "name": "ipython",
    "version": 3
   },
   "file_extension": ".py",
   "mimetype": "text/x-python",
   "name": "python",
   "nbconvert_exporter": "python",
   "pygments_lexer": "ipython3",
   "version": "3.7.0"
  }
 },
 "nbformat": 4,
 "nbformat_minor": 2
}
