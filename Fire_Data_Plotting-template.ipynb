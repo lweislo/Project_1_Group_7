{
 "cells": [
  {
   "cell_type": "code",
   "execution_count": null,
   "metadata": {},
   "outputs": [],
   "source": [
    "# This copy attempting to plot stations over time\n",
    "# We appear to be missing some data.\n",
    "# Need to get the 122000 file into the cleaned dataframe"
   ]
  },
  {
   "cell_type": "code",
   "execution_count": 1,
   "metadata": {},
   "outputs": [],
   "source": [
    "import time\n",
    "import pandas as pd\n",
    "import matplotlib.pyplot as plt\n",
    "from datetime import date\n",
    "import seaborn as sbn\n",
    "from scipy import stats"
   ]
  },
  {
   "cell_type": "code",
   "execution_count": 2,
   "metadata": {
    "scrolled": true
   },
   "outputs": [
    {
     "data": {
      "text/plain": [
       "OBJECTID                       int64\n",
       "address                       object\n",
       "address2                      object\n",
       "apt_room                      object\n",
       "arrive_date_time              object\n",
       "cleared_date_time             object\n",
       "dispatch_date_time            object\n",
       "exposure                       int64\n",
       "incident_number               object\n",
       "incident_type                  int64\n",
       "incident_type_description     object\n",
       "platoon                       object\n",
       "station                        int64\n",
       "Longitude                    float64\n",
       "Latitude                     float64\n",
       "dtype: object"
      ]
     },
     "execution_count": 2,
     "metadata": {},
     "output_type": "execute_result"
    }
   ],
   "source": [
    "firefile = './output/cleaned_formatted_fire_data.csv'\n",
    "df = pd.read_csv(firefile, skip_blank_lines=True, encoding='UTF-8')\n",
    "df.dtypes\n"
   ]
  },
  {
   "cell_type": "code",
   "execution_count": 3,
   "metadata": {},
   "outputs": [],
   "source": [
    "df['Year'] = pd.DatetimeIndex(df['dispatch_date_time']).year\n"
   ]
  },
  {
   "cell_type": "code",
   "execution_count": 4,
   "metadata": {},
   "outputs": [],
   "source": [
    "df['Date'] = df['dispatch_date_time'].str.split(' ',expand=True)[0]"
   ]
  },
  {
   "cell_type": "code",
   "execution_count": 6,
   "metadata": {},
   "outputs": [
    {
     "data": {
      "text/plain": [
       "OBJECTID                              int64\n",
       "address                              object\n",
       "address2                             object\n",
       "apt_room                             object\n",
       "arrive_date_time             datetime64[ns]\n",
       "cleared_date_time            datetime64[ns]\n",
       "dispatch_date_time           datetime64[ns]\n",
       "exposure                              int64\n",
       "incident_number                      object\n",
       "incident_type                         int64\n",
       "incident_type_description            object\n",
       "platoon                              object\n",
       "station                               int64\n",
       "Longitude                           float64\n",
       "Latitude                            float64\n",
       "Year                                  int64\n",
       "Date                                 object\n",
       "dtype: object"
      ]
     },
     "execution_count": 6,
     "metadata": {},
     "output_type": "execute_result"
    }
   ],
   "source": [
    "df['dispatch_date_time'] = pd.to_datetime(df['dispatch_date_time'])\n",
    "df['cleared_date_time'] = pd.to_datetime(df['cleared_date_time'])\n",
    "df['arrive_date_time'] = pd.to_datetime(df['arrive_date_time'])\n",
    "df.dtypes"
   ]
  },
  {
   "cell_type": "code",
   "execution_count": 28,
   "metadata": {},
   "outputs": [
    {
     "data": {
      "text/plain": [
       "station\n",
       "0         1\n",
       "1     11135\n",
       "2      3680\n",
       "3      6063\n",
       "4      3326\n",
       "5      4710\n",
       "6      4804\n",
       "7      4563\n",
       "8      6188\n",
       "9      4921\n",
       "10     3611\n",
       "11     7532\n",
       "12     7010\n",
       "13        1\n",
       "14     4330\n",
       "15     6571\n",
       "16     4556\n",
       "17     3900\n",
       "18     3389\n",
       "19     6001\n",
       "20     4597\n",
       "21     3765\n",
       "22     4750\n",
       "23     2806\n",
       "24     3933\n",
       "25     2597\n",
       "26     2984\n",
       "27     1653\n",
       "28     1561\n",
       "29      252\n",
       "Name: Date, dtype: int64"
      ]
     },
     "execution_count": 28,
     "metadata": {},
     "output_type": "execute_result"
    }
   ],
   "source": [
    "df.groupby(df['station']).Date.count()"
   ]
  },
  {
   "cell_type": "code",
   "execution_count": 7,
   "metadata": {},
   "outputs": [],
   "source": [
    "# Calculating the time from dispatch to cleared in minutes and in seconds\n",
    "df['Clear Time'] = (df['cleared_date_time'] - df['dispatch_date_time'])\n",
    "df['Clear Time'] = pd.to_timedelta(df['Clear Time'])\n",
    "df['Seconds'] = df['Clear Time'].dt.total_seconds()\n"
   ]
  },
  {
   "cell_type": "code",
   "execution_count": 8,
   "metadata": {},
   "outputs": [
    {
     "data": {
      "text/html": [
       "<div>\n",
       "<style scoped>\n",
       "    .dataframe tbody tr th:only-of-type {\n",
       "        vertical-align: middle;\n",
       "    }\n",
       "\n",
       "    .dataframe tbody tr th {\n",
       "        vertical-align: top;\n",
       "    }\n",
       "\n",
       "    .dataframe thead th {\n",
       "        text-align: right;\n",
       "    }\n",
       "</style>\n",
       "<table border=\"1\" class=\"dataframe\">\n",
       "  <thead>\n",
       "    <tr style=\"text-align: right;\">\n",
       "      <th></th>\n",
       "      <th>OBJECTID</th>\n",
       "      <th>address</th>\n",
       "      <th>address2</th>\n",
       "      <th>apt_room</th>\n",
       "      <th>arrive_date_time</th>\n",
       "      <th>cleared_date_time</th>\n",
       "      <th>dispatch_date_time</th>\n",
       "      <th>exposure</th>\n",
       "      <th>incident_number</th>\n",
       "      <th>incident_type</th>\n",
       "      <th>incident_type_description</th>\n",
       "      <th>platoon</th>\n",
       "      <th>station</th>\n",
       "      <th>Longitude</th>\n",
       "      <th>Latitude</th>\n",
       "      <th>Year</th>\n",
       "      <th>Date</th>\n",
       "      <th>Clear Time</th>\n",
       "      <th>Seconds</th>\n",
       "    </tr>\n",
       "  </thead>\n",
       "  <tbody>\n",
       "    <tr>\n",
       "      <th>0</th>\n",
       "      <td>474768</td>\n",
       "      <td>1216 BEVERLY DR RALEIGH, NC 27601</td>\n",
       "      <td>NaN</td>\n",
       "      <td></td>\n",
       "      <td>2007-08-21 22:52:00</td>\n",
       "      <td>2007-08-21 22:58:00</td>\n",
       "      <td>2007-08-21 22:47:00</td>\n",
       "      <td>0</td>\n",
       "      <td>07-0023051</td>\n",
       "      <td>444</td>\n",
       "      <td>Power line down</td>\n",
       "      <td>A</td>\n",
       "      <td>12</td>\n",
       "      <td>-78.595422</td>\n",
       "      <td>35.761213</td>\n",
       "      <td>2007</td>\n",
       "      <td>2007-08-21</td>\n",
       "      <td>00:11:00</td>\n",
       "      <td>660.0</td>\n",
       "    </tr>\n",
       "    <tr>\n",
       "      <th>1</th>\n",
       "      <td>474769</td>\n",
       "      <td>8332 SHILOH CREEK CT RALEIGH, NC 27603</td>\n",
       "      <td>NaN</td>\n",
       "      <td></td>\n",
       "      <td>2013-10-19 21:52:00</td>\n",
       "      <td>2013-10-19 21:59:00</td>\n",
       "      <td>2013-10-19 21:47:00</td>\n",
       "      <td>0</td>\n",
       "      <td>13-0030918</td>\n",
       "      <td>150</td>\n",
       "      <td>Outside rubbish fire Other</td>\n",
       "      <td>B</td>\n",
       "      <td>22</td>\n",
       "      <td>-78.537320</td>\n",
       "      <td>35.891622</td>\n",
       "      <td>2013</td>\n",
       "      <td>2013-10-19</td>\n",
       "      <td>00:12:00</td>\n",
       "      <td>720.0</td>\n",
       "    </tr>\n",
       "    <tr>\n",
       "      <th>2</th>\n",
       "      <td>474770</td>\n",
       "      <td>7513 IDOLBROOK LN RALEIGH, NC 27615</td>\n",
       "      <td>NaN</td>\n",
       "      <td></td>\n",
       "      <td>2014-02-14 21:49:00</td>\n",
       "      <td>2014-02-14 21:51:00</td>\n",
       "      <td>2014-02-14 21:46:00</td>\n",
       "      <td>0</td>\n",
       "      <td>14-0004846</td>\n",
       "      <td>510</td>\n",
       "      <td>Person in distress Other</td>\n",
       "      <td>A</td>\n",
       "      <td>4</td>\n",
       "      <td>-78.647631</td>\n",
       "      <td>35.878186</td>\n",
       "      <td>2014</td>\n",
       "      <td>2014-02-14</td>\n",
       "      <td>00:05:00</td>\n",
       "      <td>300.0</td>\n",
       "    </tr>\n",
       "    <tr>\n",
       "      <th>3</th>\n",
       "      <td>474771</td>\n",
       "      <td>1205 S BLOODWORTH ST RALEIGH, NC 27601</td>\n",
       "      <td>NaN</td>\n",
       "      <td></td>\n",
       "      <td>2012-04-29 05:17:00</td>\n",
       "      <td>2012-04-29 05:38:00</td>\n",
       "      <td>2012-04-29 05:16:00</td>\n",
       "      <td>0</td>\n",
       "      <td>12-0011779</td>\n",
       "      <td>440</td>\n",
       "      <td>Electrical  wiring/equipment problem Other</td>\n",
       "      <td>A</td>\n",
       "      <td>1</td>\n",
       "      <td>-78.633977</td>\n",
       "      <td>35.765388</td>\n",
       "      <td>2012</td>\n",
       "      <td>2012-04-29</td>\n",
       "      <td>00:22:00</td>\n",
       "      <td>1320.0</td>\n",
       "    </tr>\n",
       "    <tr>\n",
       "      <th>4</th>\n",
       "      <td>474772</td>\n",
       "      <td>7628 VALVIEW ST RALEIGH, NC 27601</td>\n",
       "      <td>NaN</td>\n",
       "      <td></td>\n",
       "      <td>2012-04-28 23:46:00</td>\n",
       "      <td>2012-04-28 23:52:00</td>\n",
       "      <td>2012-04-28 23:43:00</td>\n",
       "      <td>0</td>\n",
       "      <td>12-9010131</td>\n",
       "      <td>561</td>\n",
       "      <td>Unauthorized burning</td>\n",
       "      <td>A</td>\n",
       "      <td>18</td>\n",
       "      <td>-78.691396</td>\n",
       "      <td>35.884447</td>\n",
       "      <td>2012</td>\n",
       "      <td>2012-04-28</td>\n",
       "      <td>00:09:00</td>\n",
       "      <td>540.0</td>\n",
       "    </tr>\n",
       "  </tbody>\n",
       "</table>\n",
       "</div>"
      ],
      "text/plain": [
       "   OBJECTID                                 address address2         apt_room  \\\n",
       "0    474768       1216 BEVERLY DR RALEIGH, NC 27601      NaN                    \n",
       "1    474769  8332 SHILOH CREEK CT RALEIGH, NC 27603      NaN                    \n",
       "2    474770     7513 IDOLBROOK LN RALEIGH, NC 27615      NaN                    \n",
       "3    474771  1205 S BLOODWORTH ST RALEIGH, NC 27601      NaN                    \n",
       "4    474772       7628 VALVIEW ST RALEIGH, NC 27601      NaN                    \n",
       "\n",
       "     arrive_date_time   cleared_date_time  dispatch_date_time  exposure  \\\n",
       "0 2007-08-21 22:52:00 2007-08-21 22:58:00 2007-08-21 22:47:00         0   \n",
       "1 2013-10-19 21:52:00 2013-10-19 21:59:00 2013-10-19 21:47:00         0   \n",
       "2 2014-02-14 21:49:00 2014-02-14 21:51:00 2014-02-14 21:46:00         0   \n",
       "3 2012-04-29 05:17:00 2012-04-29 05:38:00 2012-04-29 05:16:00         0   \n",
       "4 2012-04-28 23:46:00 2012-04-28 23:52:00 2012-04-28 23:43:00         0   \n",
       "\n",
       "  incident_number  incident_type                   incident_type_description  \\\n",
       "0      07-0023051            444                             Power line down   \n",
       "1      13-0030918            150                  Outside rubbish fire Other   \n",
       "2      14-0004846            510                    Person in distress Other   \n",
       "3      12-0011779            440  Electrical  wiring/equipment problem Other   \n",
       "4      12-9010131            561                        Unauthorized burning   \n",
       "\n",
       "  platoon  station  Longitude   Latitude  Year        Date Clear Time  Seconds  \n",
       "0       A       12 -78.595422  35.761213  2007  2007-08-21   00:11:00    660.0  \n",
       "1       B       22 -78.537320  35.891622  2013  2013-10-19   00:12:00    720.0  \n",
       "2       A        4 -78.647631  35.878186  2014  2014-02-14   00:05:00    300.0  \n",
       "3       A        1 -78.633977  35.765388  2012  2012-04-29   00:22:00   1320.0  \n",
       "4       A       18 -78.691396  35.884447  2012  2012-04-28   00:09:00    540.0  "
      ]
     },
     "execution_count": 8,
     "metadata": {},
     "output_type": "execute_result"
    }
   ],
   "source": [
    "df.head()"
   ]
  },
  {
   "cell_type": "code",
   "execution_count": 99,
   "metadata": {},
   "outputs": [
    {
     "data": {
      "text/html": [
       "<div>\n",
       "<style scoped>\n",
       "    .dataframe tbody tr th:only-of-type {\n",
       "        vertical-align: middle;\n",
       "    }\n",
       "\n",
       "    .dataframe tbody tr th {\n",
       "        vertical-align: top;\n",
       "    }\n",
       "\n",
       "    .dataframe thead th {\n",
       "        text-align: right;\n",
       "    }\n",
       "</style>\n",
       "<table border=\"1\" class=\"dataframe\">\n",
       "  <thead>\n",
       "    <tr style=\"text-align: right;\">\n",
       "      <th></th>\n",
       "      <th>OBJECTID</th>\n",
       "      <th>address</th>\n",
       "      <th>address2</th>\n",
       "      <th>apt_room</th>\n",
       "      <th>arrive_date_time</th>\n",
       "      <th>cleared_date_time</th>\n",
       "      <th>dispatch_date_time</th>\n",
       "      <th>exposure</th>\n",
       "      <th>incident_number</th>\n",
       "      <th>incident_type</th>\n",
       "      <th>incident_type_description</th>\n",
       "      <th>platoon</th>\n",
       "      <th>station</th>\n",
       "      <th>Longitude</th>\n",
       "      <th>Latitude</th>\n",
       "      <th>Year</th>\n",
       "      <th>Date</th>\n",
       "      <th>Clear Time</th>\n",
       "      <th>Seconds</th>\n",
       "    </tr>\n",
       "  </thead>\n",
       "  <tbody>\n",
       "    <tr>\n",
       "      <th>62015</th>\n",
       "      <td>551758</td>\n",
       "      <td>6131 FALLS OF NEUSE RD RALEIGH, NC 27604</td>\n",
       "      <td>SPRINGFIELD ONE</td>\n",
       "      <td>NaN</td>\n",
       "      <td>2007-03-17 15:14:00</td>\n",
       "      <td>2007-03-22 15:25:00</td>\n",
       "      <td>2007-03-17 15:05:00</td>\n",
       "      <td>0</td>\n",
       "      <td>07-0007359</td>\n",
       "      <td>745</td>\n",
       "      <td>Alarm system activation no fire - unintentional</td>\n",
       "      <td>B</td>\n",
       "      <td>4</td>\n",
       "      <td>-78.620388</td>\n",
       "      <td>35.865329</td>\n",
       "      <td>2007</td>\n",
       "      <td>2007-03-17</td>\n",
       "      <td>5 days 00:20:00</td>\n",
       "      <td>433200.0</td>\n",
       "    </tr>\n",
       "  </tbody>\n",
       "</table>\n",
       "</div>"
      ],
      "text/plain": [
       "       OBJECTID                                   address         address2  \\\n",
       "62015    551758  6131 FALLS OF NEUSE RD RALEIGH, NC 27604  SPRINGFIELD ONE   \n",
       "\n",
       "      apt_room    arrive_date_time   cleared_date_time  dispatch_date_time  \\\n",
       "62015      NaN 2007-03-17 15:14:00 2007-03-22 15:25:00 2007-03-17 15:05:00   \n",
       "\n",
       "       exposure incident_number  incident_type  \\\n",
       "62015         0      07-0007359            745   \n",
       "\n",
       "                             incident_type_description platoon  station  \\\n",
       "62015  Alarm system activation no fire - unintentional       B        4   \n",
       "\n",
       "       Longitude   Latitude  Year        Date      Clear Time   Seconds  \n",
       "62015 -78.620388  35.865329  2007  2007-03-17 5 days 00:20:00  433200.0  "
      ]
     },
     "execution_count": 99,
     "metadata": {},
     "output_type": "execute_result"
    }
   ],
   "source": [
    "# There appear to be some funky clearance times, possibly human error\n",
    "outlier = df.loc[df['Clear Time']==df['Clear Time'].max()]\n",
    "outlier"
   ]
  },
  {
   "cell_type": "code",
   "execution_count": 48,
   "metadata": {},
   "outputs": [
    {
     "data": {
      "text/plain": [
       "Year  station\n",
       "2007  0             1\n",
       "      1           964\n",
       "      2           292\n",
       "      3           602\n",
       "      4           333\n",
       "      5           544\n",
       "      6           479\n",
       "      7           468\n",
       "      8           644\n",
       "      9           470\n",
       "      10          314\n",
       "      11          771\n",
       "      12          644\n",
       "      14          450\n",
       "      15          509\n",
       "      16          483\n",
       "      17          329\n",
       "      18          347\n",
       "      19          594\n",
       "      20          416\n",
       "      21          328\n",
       "      22          454\n",
       "      23          342\n",
       "      24          386\n",
       "      25          217\n",
       "      26          227\n",
       "      27          172\n",
       "      28           79\n",
       "2008  1          1011\n",
       "      2           356\n",
       "                 ... \n",
       "2017  26          229\n",
       "      27          157\n",
       "      28          154\n",
       "      29           85\n",
       "2018  1           176\n",
       "      2            20\n",
       "      3            17\n",
       "      4            10\n",
       "      5            17\n",
       "      6            13\n",
       "      7            62\n",
       "      8            31\n",
       "      9            76\n",
       "      10           27\n",
       "      11           46\n",
       "      12           33\n",
       "      14           72\n",
       "      15           63\n",
       "      16           40\n",
       "      17           30\n",
       "      18           23\n",
       "      19           61\n",
       "      20            6\n",
       "      21           18\n",
       "      22           33\n",
       "      23            6\n",
       "      24           22\n",
       "      25           26\n",
       "      26            3\n",
       "      28            3\n",
       "Name: station, Length: 328, dtype: int64"
      ]
     },
     "execution_count": 48,
     "metadata": {},
     "output_type": "execute_result"
    }
   ],
   "source": [
    "df_year = df.groupby(['Year','station'])\n",
    "df_year['station'].count()"
   ]
  },
  {
   "cell_type": "code",
   "execution_count": 45,
   "metadata": {},
   "outputs": [],
   "source": [
    "year_station = pd.DataFrame(df_year['OBJECTID'].count())\n",
    "\n",
    "year_station = year_station.reset_index()"
   ]
  },
  {
   "cell_type": "code",
   "execution_count": 47,
   "metadata": {},
   "outputs": [
    {
     "data": {
      "text/plain": [
       "<matplotlib.legend.Legend at 0x1a2483def0>"
      ]
     },
     "execution_count": 47,
     "metadata": {},
     "output_type": "execute_result"
    },
    {
     "data": {
      "image/png": "[encoded data removed]",
      "text/plain": [
       "<Figure size 720x576 with 1 Axes>"
      ]
     },
     "metadata": {
      "needs_background": "light"
     },
     "output_type": "display_data"
    }
   ],
   "source": [
    "sbn.barplot(data=year_station, x='Year', y='OBJECTID', hue='station')\n",
    "fig = plt.gcf()\n",
    "fig.set_size_inches(10, 8)\n",
    "fig.ylimit=(-60,45)\n",
    "fig.xlimit=(-65,85)\n",
    "plt.xlabel('Year', fontsize=12, fontweight='bold')\n",
    "plt.ylabel('Calls', fontsize=12, fontweight='bold')\n",
    "# plt.title('title')\", fontsize=14, fontweight='bold')\n",
    "plt.legend(loc='best')\n",
    "# plt.savefig('./data/fig1.png')"
   ]
  },
  {
   "cell_type": "code",
   "execution_count": null,
   "metadata": {},
   "outputs": [],
   "source": []
  }
 ],
 "metadata": {
  "kernelspec": {
   "display_name": "Python 3",
   "language": "python",
   "name": "python3"
  },
  "language_info": {
   "codemirror_mode": {
    "name": "ipython",
    "version": 3
   },
   "file_extension": ".py",
   "mimetype": "text/x-python",
   "name": "python",
   "nbconvert_exporter": "python",
   "pygments_lexer": "ipython3",
   "version": "3.7.0"
  }
 },
 "nbformat": 4,
 "nbformat_minor": 2
}
