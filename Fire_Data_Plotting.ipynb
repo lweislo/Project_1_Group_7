{
 "cells": [
  {
   "cell_type": "code",
   "execution_count": 7,
   "metadata": {},
   "outputs": [],
   "source": [
    "import time\n",
    "import pandas as pd\n",
    "import matplotlib.pyplot as plt\n",
    "from datetime import date\n",
    "import seaborn as sbn\n",
    "from scipy import stats"
   ]
  },
  {
   "cell_type": "code",
   "execution_count": 44,
   "metadata": {},
   "outputs": [
    {
     "data": {
      "text/plain": [
       "OBJECTID                       int64\n",
       "address                       object\n",
       "address2                      object\n",
       "apt_room                      object\n",
       "arrive_date_time              object\n",
       "cleared_date_time             object\n",
       "dispatch_date_time            object\n",
       "exposure                       int64\n",
       "incident_number               object\n",
       "incident_type                  int64\n",
       "incident_type_description     object\n",
       "platoon                       object\n",
       "station                        int64\n",
       "Longitude                    float64\n",
       "Latitude                     float64\n",
       "dtype: object"
      ]
     },
     "execution_count": 44,
     "metadata": {},
     "output_type": "execute_result"
    }
   ],
   "source": [
    "firefile = './output/cleaned_formatted_fire_data.csv'\n",
    "df = pd.read_csv(firefile, skip_blank_lines=True, encoding='UTF-8')\n",
    "df.dtypes\n"
   ]
  },
  {
   "cell_type": "code",
   "execution_count": 45,
   "metadata": {},
   "outputs": [],
   "source": [
    "df['Year'] = pd.DatetimeIndex(df['dispatch_date_time']).year\n"
   ]
  },
  {
   "cell_type": "code",
   "execution_count": 46,
   "metadata": {},
   "outputs": [],
   "source": [
    "df['Date'] = df['dispatch_date_time'].str.split(' ',expand=True)[0]"
   ]
  },
  {
   "cell_type": "code",
   "execution_count": 49,
   "metadata": {},
   "outputs": [
    {
     "data": {
      "text/plain": [
       "OBJECTID                              int64\n",
       "address                              object\n",
       "address2                             object\n",
       "apt_room                             object\n",
       "arrive_date_time             datetime64[ns]\n",
       "cleared_date_time            datetime64[ns]\n",
       "dispatch_date_time           datetime64[ns]\n",
       "exposure                              int64\n",
       "incident_number                      object\n",
       "incident_type                         int64\n",
       "incident_type_description            object\n",
       "platoon                              object\n",
       "station                               int64\n",
       "Longitude                           float64\n",
       "Latitude                            float64\n",
       "Year                                  int64\n",
       "Date                                 object\n",
       "dtype: object"
      ]
     },
     "execution_count": 49,
     "metadata": {},
     "output_type": "execute_result"
    }
   ],
   "source": [
    "df['dispatch_date_time'] = pd.to_datetime(df['dispatch_date_time'])\n",
    "df['cleared_date_time'] = pd.to_datetime(df['cleared_date_time'])\n",
    "df['arrive_date_time'] = pd.to_datetime(df['arrive_date_time'])\n",
    "df.dtypes"
   ]
  },
  {
   "cell_type": "code",
   "execution_count": 97,
   "metadata": {},
   "outputs": [],
   "source": [
    "# Calculating the time from dispatch to cleared in minutes and in seconds\n",
    "df['Clear Time'] = (df['cleared_date_time'] - df['dispatch_date_time'])\n",
    "df['Clear Time'] = pd.to_timedelta(df['Clear Time'])\n",
    "df['Seconds'] = df['Clear Time'].dt.total_seconds()\n"
   ]
  },
  {
   "cell_type": "code",
   "execution_count": 98,
   "metadata": {},
   "outputs": [
    {
     "data": {
      "text/html": [
       "<div>\n",
       "<style scoped>\n",
       "    .dataframe tbody tr th:only-of-type {\n",
       "        vertical-align: middle;\n",
       "    }\n",
       "\n",
       "    .dataframe tbody tr th {\n",
       "        vertical-align: top;\n",
       "    }\n",
       "\n",
       "    .dataframe thead th {\n",
       "        text-align: right;\n",
       "    }\n",
       "</style>\n",
       "<table border=\"1\" class=\"dataframe\">\n",
       "  <thead>\n",
       "    <tr style=\"text-align: right;\">\n",
       "      <th></th>\n",
       "      <th>OBJECTID</th>\n",
       "      <th>address</th>\n",
       "      <th>address2</th>\n",
       "      <th>apt_room</th>\n",
       "      <th>arrive_date_time</th>\n",
       "      <th>cleared_date_time</th>\n",
       "      <th>dispatch_date_time</th>\n",
       "      <th>exposure</th>\n",
       "      <th>incident_number</th>\n",
       "      <th>incident_type</th>\n",
       "      <th>incident_type_description</th>\n",
       "      <th>platoon</th>\n",
       "      <th>station</th>\n",
       "      <th>Longitude</th>\n",
       "      <th>Latitude</th>\n",
       "      <th>Year</th>\n",
       "      <th>Date</th>\n",
       "      <th>Clear Time</th>\n",
       "      <th>Seconds</th>\n",
       "    </tr>\n",
       "  </thead>\n",
       "  <tbody>\n",
       "    <tr>\n",
       "      <th>0</th>\n",
       "      <td>474768</td>\n",
       "      <td>1216 BEVERLY DR RALEIGH, NC 27601</td>\n",
       "      <td>NaN</td>\n",
       "      <td></td>\n",
       "      <td>2007-08-21 22:52:00</td>\n",
       "      <td>2007-08-21 22:58:00</td>\n",
       "      <td>2007-08-21 22:47:00</td>\n",
       "      <td>0</td>\n",
       "      <td>07-0023051</td>\n",
       "      <td>444</td>\n",
       "      <td>Power line down</td>\n",
       "      <td>A</td>\n",
       "      <td>12</td>\n",
       "      <td>-78.595422</td>\n",
       "      <td>35.761213</td>\n",
       "      <td>2007</td>\n",
       "      <td>2007-08-21</td>\n",
       "      <td>00:11:00</td>\n",
       "      <td>660.0</td>\n",
       "    </tr>\n",
       "    <tr>\n",
       "      <th>1</th>\n",
       "      <td>474769</td>\n",
       "      <td>8332 SHILOH CREEK CT RALEIGH, NC 27603</td>\n",
       "      <td>NaN</td>\n",
       "      <td></td>\n",
       "      <td>2013-10-19 21:52:00</td>\n",
       "      <td>2013-10-19 21:59:00</td>\n",
       "      <td>2013-10-19 21:47:00</td>\n",
       "      <td>0</td>\n",
       "      <td>13-0030918</td>\n",
       "      <td>150</td>\n",
       "      <td>Outside rubbish fire Other</td>\n",
       "      <td>B</td>\n",
       "      <td>22</td>\n",
       "      <td>-78.537320</td>\n",
       "      <td>35.891622</td>\n",
       "      <td>2013</td>\n",
       "      <td>2013-10-19</td>\n",
       "      <td>00:12:00</td>\n",
       "      <td>720.0</td>\n",
       "    </tr>\n",
       "    <tr>\n",
       "      <th>2</th>\n",
       "      <td>474770</td>\n",
       "      <td>7513 IDOLBROOK LN RALEIGH, NC 27615</td>\n",
       "      <td>NaN</td>\n",
       "      <td></td>\n",
       "      <td>2014-02-14 21:49:00</td>\n",
       "      <td>2014-02-14 21:51:00</td>\n",
       "      <td>2014-02-14 21:46:00</td>\n",
       "      <td>0</td>\n",
       "      <td>14-0004846</td>\n",
       "      <td>510</td>\n",
       "      <td>Person in distress Other</td>\n",
       "      <td>A</td>\n",
       "      <td>4</td>\n",
       "      <td>-78.647631</td>\n",
       "      <td>35.878186</td>\n",
       "      <td>2014</td>\n",
       "      <td>2014-02-14</td>\n",
       "      <td>00:05:00</td>\n",
       "      <td>300.0</td>\n",
       "    </tr>\n",
       "    <tr>\n",
       "      <th>3</th>\n",
       "      <td>474771</td>\n",
       "      <td>1205 S BLOODWORTH ST RALEIGH, NC 27601</td>\n",
       "      <td>NaN</td>\n",
       "      <td></td>\n",
       "      <td>2012-04-29 05:17:00</td>\n",
       "      <td>2012-04-29 05:38:00</td>\n",
       "      <td>2012-04-29 05:16:00</td>\n",
       "      <td>0</td>\n",
       "      <td>12-0011779</td>\n",
       "      <td>440</td>\n",
       "      <td>Electrical  wiring/equipment problem Other</td>\n",
       "      <td>A</td>\n",
       "      <td>1</td>\n",
       "      <td>-78.633977</td>\n",
       "      <td>35.765388</td>\n",
       "      <td>2012</td>\n",
       "      <td>2012-04-29</td>\n",
       "      <td>00:22:00</td>\n",
       "      <td>1320.0</td>\n",
       "    </tr>\n",
       "    <tr>\n",
       "      <th>4</th>\n",
       "      <td>474772</td>\n",
       "      <td>7628 VALVIEW ST RALEIGH, NC 27601</td>\n",
       "      <td>NaN</td>\n",
       "      <td></td>\n",
       "      <td>2012-04-28 23:46:00</td>\n",
       "      <td>2012-04-28 23:52:00</td>\n",
       "      <td>2012-04-28 23:43:00</td>\n",
       "      <td>0</td>\n",
       "      <td>12-9010131</td>\n",
       "      <td>561</td>\n",
       "      <td>Unauthorized burning</td>\n",
       "      <td>A</td>\n",
       "      <td>18</td>\n",
       "      <td>-78.691396</td>\n",
       "      <td>35.884447</td>\n",
       "      <td>2012</td>\n",
       "      <td>2012-04-28</td>\n",
       "      <td>00:09:00</td>\n",
       "      <td>540.0</td>\n",
       "    </tr>\n",
       "  </tbody>\n",
       "</table>\n",
       "</div>"
      ],
      "text/plain": [
       "   OBJECTID                                 address address2         apt_room  \\\n",
       "0    474768       1216 BEVERLY DR RALEIGH, NC 27601      NaN                    \n",
       "1    474769  8332 SHILOH CREEK CT RALEIGH, NC 27603      NaN                    \n",
       "2    474770     7513 IDOLBROOK LN RALEIGH, NC 27615      NaN                    \n",
       "3    474771  1205 S BLOODWORTH ST RALEIGH, NC 27601      NaN                    \n",
       "4    474772       7628 VALVIEW ST RALEIGH, NC 27601      NaN                    \n",
       "\n",
       "     arrive_date_time   cleared_date_time  dispatch_date_time  exposure  \\\n",
       "0 2007-08-21 22:52:00 2007-08-21 22:58:00 2007-08-21 22:47:00         0   \n",
       "1 2013-10-19 21:52:00 2013-10-19 21:59:00 2013-10-19 21:47:00         0   \n",
       "2 2014-02-14 21:49:00 2014-02-14 21:51:00 2014-02-14 21:46:00         0   \n",
       "3 2012-04-29 05:17:00 2012-04-29 05:38:00 2012-04-29 05:16:00         0   \n",
       "4 2012-04-28 23:46:00 2012-04-28 23:52:00 2012-04-28 23:43:00         0   \n",
       "\n",
       "  incident_number  incident_type                   incident_type_description  \\\n",
       "0      07-0023051            444                             Power line down   \n",
       "1      13-0030918            150                  Outside rubbish fire Other   \n",
       "2      14-0004846            510                    Person in distress Other   \n",
       "3      12-0011779            440  Electrical  wiring/equipment problem Other   \n",
       "4      12-9010131            561                        Unauthorized burning   \n",
       "\n",
       "  platoon  station  Longitude   Latitude  Year        Date Clear Time  Seconds  \n",
       "0       A       12 -78.595422  35.761213  2007  2007-08-21   00:11:00    660.0  \n",
       "1       B       22 -78.537320  35.891622  2013  2013-10-19   00:12:00    720.0  \n",
       "2       A        4 -78.647631  35.878186  2014  2014-02-14   00:05:00    300.0  \n",
       "3       A        1 -78.633977  35.765388  2012  2012-04-29   00:22:00   1320.0  \n",
       "4       A       18 -78.691396  35.884447  2012  2012-04-28   00:09:00    540.0  "
      ]
     },
     "execution_count": 98,
     "metadata": {},
     "output_type": "execute_result"
    }
   ],
   "source": [
    "df.head()"
   ]
  },
  {
   "cell_type": "code",
   "execution_count": 99,
   "metadata": {},
   "outputs": [
    {
     "data": {
      "text/html": [
       "<div>\n",
       "<style scoped>\n",
       "    .dataframe tbody tr th:only-of-type {\n",
       "        vertical-align: middle;\n",
       "    }\n",
       "\n",
       "    .dataframe tbody tr th {\n",
       "        vertical-align: top;\n",
       "    }\n",
       "\n",
       "    .dataframe thead th {\n",
       "        text-align: right;\n",
       "    }\n",
       "</style>\n",
       "<table border=\"1\" class=\"dataframe\">\n",
       "  <thead>\n",
       "    <tr style=\"text-align: right;\">\n",
       "      <th></th>\n",
       "      <th>OBJECTID</th>\n",
       "      <th>address</th>\n",
       "      <th>address2</th>\n",
       "      <th>apt_room</th>\n",
       "      <th>arrive_date_time</th>\n",
       "      <th>cleared_date_time</th>\n",
       "      <th>dispatch_date_time</th>\n",
       "      <th>exposure</th>\n",
       "      <th>incident_number</th>\n",
       "      <th>incident_type</th>\n",
       "      <th>incident_type_description</th>\n",
       "      <th>platoon</th>\n",
       "      <th>station</th>\n",
       "      <th>Longitude</th>\n",
       "      <th>Latitude</th>\n",
       "      <th>Year</th>\n",
       "      <th>Date</th>\n",
       "      <th>Clear Time</th>\n",
       "      <th>Seconds</th>\n",
       "    </tr>\n",
       "  </thead>\n",
       "  <tbody>\n",
       "    <tr>\n",
       "      <th>62015</th>\n",
       "      <td>551758</td>\n",
       "      <td>6131 FALLS OF NEUSE RD RALEIGH, NC 27604</td>\n",
       "      <td>SPRINGFIELD ONE</td>\n",
       "      <td>NaN</td>\n",
       "      <td>2007-03-17 15:14:00</td>\n",
       "      <td>2007-03-22 15:25:00</td>\n",
       "      <td>2007-03-17 15:05:00</td>\n",
       "      <td>0</td>\n",
       "      <td>07-0007359</td>\n",
       "      <td>745</td>\n",
       "      <td>Alarm system activation no fire - unintentional</td>\n",
       "      <td>B</td>\n",
       "      <td>4</td>\n",
       "      <td>-78.620388</td>\n",
       "      <td>35.865329</td>\n",
       "      <td>2007</td>\n",
       "      <td>2007-03-17</td>\n",
       "      <td>5 days 00:20:00</td>\n",
       "      <td>433200.0</td>\n",
       "    </tr>\n",
       "  </tbody>\n",
       "</table>\n",
       "</div>"
      ],
      "text/plain": [
       "       OBJECTID                                   address         address2  \\\n",
       "62015    551758  6131 FALLS OF NEUSE RD RALEIGH, NC 27604  SPRINGFIELD ONE   \n",
       "\n",
       "      apt_room    arrive_date_time   cleared_date_time  dispatch_date_time  \\\n",
       "62015      NaN 2007-03-17 15:14:00 2007-03-22 15:25:00 2007-03-17 15:05:00   \n",
       "\n",
       "       exposure incident_number  incident_type  \\\n",
       "62015         0      07-0007359            745   \n",
       "\n",
       "                             incident_type_description platoon  station  \\\n",
       "62015  Alarm system activation no fire - unintentional       B        4   \n",
       "\n",
       "       Longitude   Latitude  Year        Date      Clear Time   Seconds  \n",
       "62015 -78.620388  35.865329  2007  2007-03-17 5 days 00:20:00  433200.0  "
      ]
     },
     "execution_count": 99,
     "metadata": {},
     "output_type": "execute_result"
    }
   ],
   "source": [
    "# There appear to be some funky clearance times, possibly human error\n",
    "outlier = df.loc[df['Clear Time']==df['Clear Time'].max()]\n",
    "outlier"
   ]
  },
  {
   "cell_type": "code",
   "execution_count": 103,
   "metadata": {},
   "outputs": [],
   "source": [
    "df_station = df.groupby(['station'])"
   ]
  },
  {
   "cell_type": "code",
   "execution_count": 104,
   "metadata": {},
   "outputs": [],
   "source": [
    "seconds = df_station['Seconds'].mean()"
   ]
  },
  {
   "cell_type": "code",
   "execution_count": 106,
   "metadata": {},
   "outputs": [
    {
     "ename": "AttributeError",
     "evalue": "Cannot access callable attribute 'get' of 'DataFrameGroupBy' objects, try using the 'apply' method",
     "output_type": "error",
     "traceback": [
      "\u001b[0;31m---------------------------------------------------------------------------\u001b[0m",
      "\u001b[0;31mAttributeError\u001b[0m                            Traceback (most recent call last)",
      "\u001b[0;32m<ipython-input-106-e647c0ce0752>\u001b[0m in \u001b[0;36m<module>\u001b[0;34m()\u001b[0m\n\u001b[0;32m----> 1\u001b[0;31m \u001b[0msbn\u001b[0m\u001b[0;34m.\u001b[0m\u001b[0mbarplot\u001b[0m\u001b[0;34m(\u001b[0m\u001b[0mdata\u001b[0m\u001b[0;34m=\u001b[0m\u001b[0mdf_station\u001b[0m\u001b[0;34m,\u001b[0m \u001b[0mx\u001b[0m\u001b[0;34m=\u001b[0m\u001b[0myear\u001b[0m\u001b[0;34m,\u001b[0m \u001b[0my\u001b[0m\u001b[0;34m=\u001b[0m\u001b[0mseconds\u001b[0m\u001b[0;34m,\u001b[0m \u001b[0mlegend\u001b[0m\u001b[0;34m=\u001b[0m\u001b[0;32mFalse\u001b[0m\u001b[0;34m)\u001b[0m\u001b[0;34m\u001b[0m\u001b[0m\n\u001b[0m\u001b[1;32m      2\u001b[0m \u001b[0mfig\u001b[0m \u001b[0;34m=\u001b[0m \u001b[0mplt\u001b[0m\u001b[0;34m.\u001b[0m\u001b[0mgcf\u001b[0m\u001b[0;34m(\u001b[0m\u001b[0;34m)\u001b[0m\u001b[0;34m\u001b[0m\u001b[0m\n\u001b[1;32m      3\u001b[0m \u001b[0mfig\u001b[0m\u001b[0;34m.\u001b[0m\u001b[0mset_size_inches\u001b[0m\u001b[0;34m(\u001b[0m\u001b[0;36m10\u001b[0m\u001b[0;34m,\u001b[0m \u001b[0;36m8\u001b[0m\u001b[0;34m)\u001b[0m\u001b[0;34m\u001b[0m\u001b[0m\n\u001b[1;32m      4\u001b[0m \u001b[0mfig\u001b[0m\u001b[0;34m.\u001b[0m\u001b[0mylimit\u001b[0m\u001b[0;34m=\u001b[0m\u001b[0;34m(\u001b[0m\u001b[0;34m-\u001b[0m\u001b[0;36m60\u001b[0m\u001b[0;34m,\u001b[0m\u001b[0;36m45\u001b[0m\u001b[0;34m)\u001b[0m\u001b[0;34m\u001b[0m\u001b[0m\n\u001b[1;32m      5\u001b[0m \u001b[0mfig\u001b[0m\u001b[0;34m.\u001b[0m\u001b[0mxlimit\u001b[0m\u001b[0;34m=\u001b[0m\u001b[0;34m(\u001b[0m\u001b[0;34m-\u001b[0m\u001b[0;36m65\u001b[0m\u001b[0;34m,\u001b[0m\u001b[0;36m85\u001b[0m\u001b[0;34m)\u001b[0m\u001b[0;34m\u001b[0m\u001b[0m\n",
      "\u001b[0;32m~/anaconda3/lib/python3.7/site-packages/seaborn/categorical.py\u001b[0m in \u001b[0;36mbarplot\u001b[0;34m(x, y, hue, data, order, hue_order, estimator, ci, n_boot, units, orient, color, palette, saturation, errcolor, errwidth, capsize, dodge, ax, **kwargs)\u001b[0m\n\u001b[1;32m   3147\u001b[0m                           \u001b[0mestimator\u001b[0m\u001b[0;34m,\u001b[0m \u001b[0mci\u001b[0m\u001b[0;34m,\u001b[0m \u001b[0mn_boot\u001b[0m\u001b[0;34m,\u001b[0m \u001b[0munits\u001b[0m\u001b[0;34m,\u001b[0m\u001b[0;34m\u001b[0m\u001b[0m\n\u001b[1;32m   3148\u001b[0m                           \u001b[0morient\u001b[0m\u001b[0;34m,\u001b[0m \u001b[0mcolor\u001b[0m\u001b[0;34m,\u001b[0m \u001b[0mpalette\u001b[0m\u001b[0;34m,\u001b[0m \u001b[0msaturation\u001b[0m\u001b[0;34m,\u001b[0m\u001b[0;34m\u001b[0m\u001b[0m\n\u001b[0;32m-> 3149\u001b[0;31m                           errcolor, errwidth, capsize, dodge)\n\u001b[0m\u001b[1;32m   3150\u001b[0m \u001b[0;34m\u001b[0m\u001b[0m\n\u001b[1;32m   3151\u001b[0m     \u001b[0;32mif\u001b[0m \u001b[0max\u001b[0m \u001b[0;32mis\u001b[0m \u001b[0;32mNone\u001b[0m\u001b[0;34m:\u001b[0m\u001b[0;34m\u001b[0m\u001b[0m\n",
      "\u001b[0;32m~/anaconda3/lib/python3.7/site-packages/seaborn/categorical.py\u001b[0m in \u001b[0;36m__init__\u001b[0;34m(self, x, y, hue, data, order, hue_order, estimator, ci, n_boot, units, orient, color, palette, saturation, errcolor, errwidth, capsize, dodge)\u001b[0m\n\u001b[1;32m   1605\u001b[0m         \u001b[0;34m\"\"\"Initialize the plotter.\"\"\"\u001b[0m\u001b[0;34m\u001b[0m\u001b[0m\n\u001b[1;32m   1606\u001b[0m         self.establish_variables(x, y, hue, data, orient,\n\u001b[0;32m-> 1607\u001b[0;31m                                  order, hue_order, units)\n\u001b[0m\u001b[1;32m   1608\u001b[0m         \u001b[0mself\u001b[0m\u001b[0;34m.\u001b[0m\u001b[0mestablish_colors\u001b[0m\u001b[0;34m(\u001b[0m\u001b[0mcolor\u001b[0m\u001b[0;34m,\u001b[0m \u001b[0mpalette\u001b[0m\u001b[0;34m,\u001b[0m \u001b[0msaturation\u001b[0m\u001b[0;34m)\u001b[0m\u001b[0;34m\u001b[0m\u001b[0m\n\u001b[1;32m   1609\u001b[0m         \u001b[0mself\u001b[0m\u001b[0;34m.\u001b[0m\u001b[0mestimate_statistic\u001b[0m\u001b[0;34m(\u001b[0m\u001b[0mestimator\u001b[0m\u001b[0;34m,\u001b[0m \u001b[0mci\u001b[0m\u001b[0;34m,\u001b[0m \u001b[0mn_boot\u001b[0m\u001b[0;34m)\u001b[0m\u001b[0;34m\u001b[0m\u001b[0m\n",
      "\u001b[0;32m~/anaconda3/lib/python3.7/site-packages/seaborn/categorical.py\u001b[0m in \u001b[0;36mestablish_variables\u001b[0;34m(self, x, y, hue, data, orient, order, hue_order, units)\u001b[0m\n\u001b[1;32m    144\u001b[0m             \u001b[0;31m# See if we need to get variables from `data`\u001b[0m\u001b[0;34m\u001b[0m\u001b[0;34m\u001b[0m\u001b[0m\n\u001b[1;32m    145\u001b[0m             \u001b[0;32mif\u001b[0m \u001b[0mdata\u001b[0m \u001b[0;32mis\u001b[0m \u001b[0;32mnot\u001b[0m \u001b[0;32mNone\u001b[0m\u001b[0;34m:\u001b[0m\u001b[0;34m\u001b[0m\u001b[0m\n\u001b[0;32m--> 146\u001b[0;31m                 \u001b[0mx\u001b[0m \u001b[0;34m=\u001b[0m \u001b[0mdata\u001b[0m\u001b[0;34m.\u001b[0m\u001b[0mget\u001b[0m\u001b[0;34m(\u001b[0m\u001b[0mx\u001b[0m\u001b[0;34m,\u001b[0m \u001b[0mx\u001b[0m\u001b[0;34m)\u001b[0m\u001b[0;34m\u001b[0m\u001b[0m\n\u001b[0m\u001b[1;32m    147\u001b[0m                 \u001b[0my\u001b[0m \u001b[0;34m=\u001b[0m \u001b[0mdata\u001b[0m\u001b[0;34m.\u001b[0m\u001b[0mget\u001b[0m\u001b[0;34m(\u001b[0m\u001b[0my\u001b[0m\u001b[0;34m,\u001b[0m \u001b[0my\u001b[0m\u001b[0;34m)\u001b[0m\u001b[0;34m\u001b[0m\u001b[0m\n\u001b[1;32m    148\u001b[0m                 \u001b[0mhue\u001b[0m \u001b[0;34m=\u001b[0m \u001b[0mdata\u001b[0m\u001b[0;34m.\u001b[0m\u001b[0mget\u001b[0m\u001b[0;34m(\u001b[0m\u001b[0mhue\u001b[0m\u001b[0;34m,\u001b[0m \u001b[0mhue\u001b[0m\u001b[0;34m)\u001b[0m\u001b[0;34m\u001b[0m\u001b[0m\n",
      "\u001b[0;32m~/anaconda3/lib/python3.7/site-packages/pandas/core/groupby/groupby.py\u001b[0m in \u001b[0;36m__getattr__\u001b[0;34m(self, attr)\u001b[0m\n\u001b[1;32m    760\u001b[0m             \u001b[0;32mreturn\u001b[0m \u001b[0mself\u001b[0m\u001b[0;34m[\u001b[0m\u001b[0mattr\u001b[0m\u001b[0;34m]\u001b[0m\u001b[0;34m\u001b[0m\u001b[0m\n\u001b[1;32m    761\u001b[0m         \u001b[0;32mif\u001b[0m \u001b[0mhasattr\u001b[0m\u001b[0;34m(\u001b[0m\u001b[0mself\u001b[0m\u001b[0;34m.\u001b[0m\u001b[0mobj\u001b[0m\u001b[0;34m,\u001b[0m \u001b[0mattr\u001b[0m\u001b[0;34m)\u001b[0m\u001b[0;34m:\u001b[0m\u001b[0;34m\u001b[0m\u001b[0m\n\u001b[0;32m--> 762\u001b[0;31m             \u001b[0;32mreturn\u001b[0m \u001b[0mself\u001b[0m\u001b[0;34m.\u001b[0m\u001b[0m_make_wrapper\u001b[0m\u001b[0;34m(\u001b[0m\u001b[0mattr\u001b[0m\u001b[0;34m)\u001b[0m\u001b[0;34m\u001b[0m\u001b[0m\n\u001b[0m\u001b[1;32m    763\u001b[0m \u001b[0;34m\u001b[0m\u001b[0m\n\u001b[1;32m    764\u001b[0m         raise AttributeError(\"%r object has no attribute %r\" %\n",
      "\u001b[0;32m~/anaconda3/lib/python3.7/site-packages/pandas/core/groupby/groupby.py\u001b[0m in \u001b[0;36m_make_wrapper\u001b[0;34m(self, name)\u001b[0m\n\u001b[1;32m    797\u001b[0m                    \"using the 'apply' method\".format(kind, name,\n\u001b[1;32m    798\u001b[0m                                                      type(self).__name__))\n\u001b[0;32m--> 799\u001b[0;31m             \u001b[0;32mraise\u001b[0m \u001b[0mAttributeError\u001b[0m\u001b[0;34m(\u001b[0m\u001b[0mmsg\u001b[0m\u001b[0;34m)\u001b[0m\u001b[0;34m\u001b[0m\u001b[0m\n\u001b[0m\u001b[1;32m    800\u001b[0m \u001b[0;34m\u001b[0m\u001b[0m\n\u001b[1;32m    801\u001b[0m         \u001b[0mself\u001b[0m\u001b[0;34m.\u001b[0m\u001b[0m_set_group_selection\u001b[0m\u001b[0;34m(\u001b[0m\u001b[0;34m)\u001b[0m\u001b[0;34m\u001b[0m\u001b[0m\n",
      "\u001b[0;31mAttributeError\u001b[0m: Cannot access callable attribute 'get' of 'DataFrameGroupBy' objects, try using the 'apply' method"
     ]
    }
   ],
   "source": [
    "sbn.barplot(data=df_station, x=year, y=seconds, legend=False)\n",
    "fig = plt.gcf()\n",
    "fig.set_size_inches(10, 8)\n",
    "fig.ylimit=(-60,45)\n",
    "fig.xlimit=(-65,85)\n",
    "plt.xlabel('Year', fontsize=12, fontweight='bold')\n",
    "plt.ylabel('Clear Time', fontsize=12, fontweight='bold')\n",
    "# plt.title('title')\", fontsize=14, fontweight='bold')\n",
    "plt.legend(loc='best')\n",
    "# plt.savefig('./data/fig1.png')"
   ]
  },
  {
   "cell_type": "code",
   "execution_count": null,
   "metadata": {},
   "outputs": [],
   "source": []
  }
 ],
 "metadata": {
  "kernelspec": {
   "display_name": "Python 3",
   "language": "python",
   "name": "python3"
  },
  "language_info": {
   "codemirror_mode": {
    "name": "ipython",
    "version": 3
   },
   "file_extension": ".py",
   "mimetype": "text/x-python",
   "name": "python",
   "nbconvert_exporter": "python",
   "pygments_lexer": "ipython3",
   "version": "3.7.0"
  }
 },
 "nbformat": 4,
 "nbformat_minor": 2
}
