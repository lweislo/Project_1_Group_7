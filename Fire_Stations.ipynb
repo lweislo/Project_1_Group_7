{
 "cells": [
  {
   "cell_type": "markdown",
   "metadata": {},
   "source": [
    "## DO NOT ALTER THE CODE FROM HERE THROUGH PLOTTING"
   ]
  },
  {
   "cell_type": "code",
   "execution_count": 1,
   "metadata": {},
   "outputs": [],
   "source": [
    "import time\n",
    "import pandas as pd\n",
    "import numpy as np\n",
    "import matplotlib.pyplot as plt\n",
    "from datetime import date\n",
    "import seaborn as sns\n",
    "from scipy import stats"
   ]
  },
  {
   "cell_type": "code",
   "execution_count": 92,
   "metadata": {},
   "outputs": [
    {
     "name": "stderr",
     "output_type": "stream",
     "text": [
      "/Users/laura/anaconda3/lib/python3.7/site-packages/IPython/core/interactiveshell.py:2785: DtypeWarning: Columns (13,14) have mixed types. Specify dtype option on import or set low_memory=False.\n",
      "  interactivity=interactivity, compiler=compiler, result=result)\n"
     ]
    },
    {
     "data": {
      "text/plain": [
       "159803"
      ]
     },
     "execution_count": 92,
     "metadata": {},
     "output_type": "execute_result"
    }
   ],
   "source": [
    "# Importing the cleaned/combined data from the csv with the years 2008-2018\n",
    "\n",
    "firefile = './output/all_with_no_incident_nulls.csv'\n",
    "df = pd.read_csv(firefile, skip_blank_lines=True, encoding='UTF-8')\n",
    "len(df)\n"
   ]
  },
  {
   "cell_type": "code",
   "execution_count": 93,
   "metadata": {},
   "outputs": [
    {
     "data": {
      "text/plain": [
       "OBJECTID                              int64\n",
       "address                              object\n",
       "address2                             object\n",
       "apt_room                             object\n",
       "arrive_date_time             datetime64[ns]\n",
       "cleared_date_time            datetime64[ns]\n",
       "dispatch_date_time           datetime64[ns]\n",
       "exposure                              int64\n",
       "incident_number                      object\n",
       "incident_type                       float64\n",
       "incident_type_description            object\n",
       "platoon                              object\n",
       "station                             float64\n",
       "Longitude                            object\n",
       "Latitude                             object\n",
       "Year                                float64\n",
       "Date                                 object\n",
       "dtype: object"
      ]
     },
     "execution_count": 93,
     "metadata": {},
     "output_type": "execute_result"
    }
   ],
   "source": [
    "df['arrive_date_time'] = pd.to_datetime(df['arrive_date_time'])\n",
    "df['cleared_date_time'] = pd.to_datetime(df['cleared_date_time'])\n",
    "df['dispatch_date_time'] = pd.to_datetime(df['dispatch_date_time'])\n",
    "df.dtypes"
   ]
  },
  {
   "cell_type": "code",
   "execution_count": 97,
   "metadata": {},
   "outputs": [],
   "source": [
    "df['Year'] = df['Year'].astype(float).map(\"{:.0f}\".format)\n",
    "df['station'] = df['station'].astype(float).map(\"{:.0f}\".format)"
   ]
  },
  {
   "cell_type": "code",
   "execution_count": 98,
   "metadata": {},
   "outputs": [
    {
     "data": {
      "text/plain": [
       "154071"
      ]
     },
     "execution_count": 98,
     "metadata": {},
     "output_type": "execute_result"
    }
   ],
   "source": [
    "# The total number of rows with the years 2008-2018 and incident type not null\n",
    "len(df['dispatch_date_time'].unique())"
   ]
  },
  {
   "cell_type": "code",
   "execution_count": 99,
   "metadata": {},
   "outputs": [
    {
     "data": {
      "text/plain": [
       "Year\n",
       "2008    13705\n",
       "2009    13028\n",
       "2010    13531\n",
       "2011    13893\n",
       "2012    13607\n",
       "2013    13943\n",
       "2014    14415\n",
       "2015    15130\n",
       "2016    15746\n",
       "2017    18151\n",
       "2018    14654\n",
       "Name: OBJECTID, dtype: int64"
      ]
     },
     "execution_count": 99,
     "metadata": {},
     "output_type": "execute_result"
    }
   ],
   "source": [
    "df.groupby('Year')['OBJECTID'].count()"
   ]
  },
  {
   "cell_type": "code",
   "execution_count": 100,
   "metadata": {},
   "outputs": [],
   "source": [
    "# Calculating the time from dispatch to cleared in minutes and in seconds\n",
    "df['Arr Time'] = (df['arrive_date_time'] - df['dispatch_date_time'])\n",
    "df['Arr Time'] = pd.to_timedelta(df['Arr Time'])\n",
    "df['Seconds'] = df['Arr Time'].dt.total_seconds()\n"
   ]
  },
  {
   "cell_type": "code",
   "execution_count": 101,
   "metadata": {},
   "outputs": [
    {
     "data": {
      "text/plain": [
       "159803"
      ]
     },
     "execution_count": 101,
     "metadata": {},
     "output_type": "execute_result"
    }
   ],
   "source": [
    "df = df.loc[df['station']!=13.0]\n",
    "len(df)"
   ]
  },
  {
   "cell_type": "code",
   "execution_count": 102,
   "metadata": {},
   "outputs": [
    {
     "data": {
      "text/plain": [
       "159803"
      ]
     },
     "execution_count": 102,
     "metadata": {},
     "output_type": "execute_result"
    }
   ],
   "source": [
    "# Getting rid of the entries that have no station assigned\n",
    "dfs = df.loc[df['station'].notnull()]\n",
    "len(dfs)"
   ]
  },
  {
   "cell_type": "code",
   "execution_count": 103,
   "metadata": {},
   "outputs": [],
   "source": [
    "# dfs = df.loc[df['station']!=29]\n",
    "# len(dfs)"
   ]
  },
  {
   "cell_type": "code",
   "execution_count": 104,
   "metadata": {},
   "outputs": [],
   "source": [
    "# Getting rid of entries with no arrive time (FUTURE WOULD LIKE TO KNOW WHAT THESE ARE)\n",
    "# raw_year = df.groupby(['Year']).OBJECTID.count()\n",
    "# years = no_outliers.groupby(['Year']).OBJECTID.count()\n",
    "# diff = raw_year - years\n",
    "# diff #<-- This represents the number of arrival times that were considered outliers per year"
   ]
  },
  {
   "cell_type": "code",
   "execution_count": 105,
   "metadata": {},
   "outputs": [
    {
     "data": {
      "text/plain": [
       "129762"
      ]
     },
     "execution_count": 105,
     "metadata": {},
     "output_type": "execute_result"
    }
   ],
   "source": [
    "dfst = dfs.loc[dfs['arrive_date_time'].notnull()]\n",
    "len(dfst)"
   ]
  },
  {
   "cell_type": "code",
   "execution_count": 106,
   "metadata": {},
   "outputs": [
    {
     "data": {
      "text/plain": [
       "Year\n",
       "2008    11894\n",
       "2009    10927\n",
       "2010    11182\n",
       "2011    11356\n",
       "2012    10984\n",
       "2013    11073\n",
       "2014    11529\n",
       "2015    12061\n",
       "2016    12563\n",
       "2017    14423\n",
       "2018    11770\n",
       "Name: OBJECTID, dtype: int64"
      ]
     },
     "execution_count": 106,
     "metadata": {},
     "output_type": "execute_result"
    }
   ],
   "source": [
    "df_year = dfst.groupby('Year')['OBJECTID'].count()\n",
    "df_year"
   ]
  },
  {
   "cell_type": "code",
   "execution_count": 117,
   "metadata": {},
   "outputs": [
    {
     "name": "stdout",
     "output_type": "stream",
     "text": [
      "Raleigh FD had a mean incident rate of 11796.55 per year, median 11529.0, with a standard deviation of 1007.42 and error 303.75\n",
      "The most incidents came in 2017 when there were 14423, the minimum in 2009 when there were 10927.\n"
     ]
    }
   ],
   "source": [
    "ymean = round(df_year.mean(),2)\n",
    "ymed = round(df_year.median(),2)\n",
    "sdev = round(df_year.std(),2)\n",
    "serr = round(df_year.sem(),2)\n",
    "message = f'Raleigh FD had a mean incident rate of {ymean} per year, median {ymed}, with a standard deviation of {sdev} and error {serr}'\n",
    "print(message)\n",
    "\n",
    "ymax = df_year.max()\n",
    "ymin = df_year.min()\n",
    "message2 = f'The most incidents came in 2017 when there were {ymax}, the minimum in 2009 when there were {ymin}.'\n",
    "print(message2)\n"
   ]
  },
  {
   "cell_type": "code",
   "execution_count": 118,
   "metadata": {},
   "outputs": [
    {
     "data": {
      "image/png": "[encoded data removed]",
      "text/plain": [
       "<Figure size 720x576 with 1 Axes>"
      ]
     },
     "metadata": {
      "needs_background": "light"
     },
     "output_type": "display_data"
    }
   ],
   "source": [
    "df_year.plot(kind='bar', figsize=(10,8), use_index=True, title='Total Incidents per Year', grid=False,fontsize=12)\n",
    "plt.savefig('./graphics/total_fi_year_withoutliers.png')"
   ]
  },
  {
   "cell_type": "markdown",
   "metadata": {},
   "source": [
    "### Fire incidents analysis\n",
    "- Fire incidents have been on the rise in Raleigh over the period of study\n",
    "- Raleigh FD had a mean incident rate of 11796.55 per year, median 11529.0, with a standard deviation of 1007.42 and error 303.75\n",
    "- The most incidents came in 2017 when there were 14423, the minimum in 2009 when there were 10927."
   ]
  },
  {
   "cell_type": "markdown",
   "metadata": {},
   "source": [
    "## Station response time"
   ]
  },
  {
   "cell_type": "code",
   "execution_count": 57,
   "metadata": {},
   "outputs": [],
   "source": [
    "# There appear to be some funky clearance times, possibly human error\n",
    "outliers = dfst[dfst['Seconds'] > dfst['Seconds'].mean() + 3 * dfst['Seconds'].std()]\n",
    "no_outliers = dfst[dfst['Seconds'] <= dfst['Seconds'].mean() + 3 * dfst['Seconds'].std()]"
   ]
  },
  {
   "cell_type": "code",
   "execution_count": 58,
   "metadata": {},
   "outputs": [
    {
     "data": {
      "text/plain": [
       "59"
      ]
     },
     "execution_count": 58,
     "metadata": {},
     "output_type": "execute_result"
    }
   ],
   "source": [
    "len(outliers)"
   ]
  },
  {
   "cell_type": "code",
   "execution_count": 59,
   "metadata": {},
   "outputs": [
    {
     "data": {
      "text/plain": [
       "129671"
      ]
     },
     "execution_count": 59,
     "metadata": {},
     "output_type": "execute_result"
    }
   ],
   "source": [
    "len(no_outliers)"
   ]
  },
  {
   "cell_type": "code",
   "execution_count": 60,
   "metadata": {},
   "outputs": [
    {
     "data": {
      "text/plain": [
       "OBJECTID                               int64\n",
       "address                               object\n",
       "address2                              object\n",
       "apt_room                              object\n",
       "arrive_date_time              datetime64[ns]\n",
       "cleared_date_time             datetime64[ns]\n",
       "dispatch_date_time            datetime64[ns]\n",
       "exposure                               int64\n",
       "incident_number                       object\n",
       "incident_type                        float64\n",
       "incident_type_description             object\n",
       "platoon                               object\n",
       "station                              float64\n",
       "Longitude                             object\n",
       "Latitude                              object\n",
       "Year                                 float64\n",
       "Date                                  object\n",
       "Arr Time                     timedelta64[ns]\n",
       "Seconds                              float64\n",
       "dtype: object"
      ]
     },
     "execution_count": 60,
     "metadata": {},
     "output_type": "execute_result"
    }
   ],
   "source": [
    "no_outliers.dtypes"
   ]
  },
  {
   "cell_type": "code",
   "execution_count": 61,
   "metadata": {},
   "outputs": [],
   "source": [
    "station_means = no_outliers.groupby('station')['Seconds'].mean()\n"
   ]
  },
  {
   "cell_type": "code",
   "execution_count": 62,
   "metadata": {},
   "outputs": [],
   "source": [
    "station_err = no_outliers.groupby('station')['Seconds'].sem()\n"
   ]
  },
  {
   "cell_type": "code",
   "execution_count": 49,
   "metadata": {},
   "outputs": [],
   "source": [
    "# sta_year_means = sta_year_mean.unstack()\n",
    "# sta_year_errs = sta_year_err.unstack()"
   ]
  },
  {
   "cell_type": "code",
   "execution_count": 63,
   "metadata": {
    "scrolled": true
   },
   "outputs": [
    {
     "data": {
      "text/plain": [
       "station\n",
       "1.0     232.764706\n",
       "2.0     329.375452\n",
       "3.0     247.373600\n",
       "4.0     294.245433\n",
       "5.0     262.209180\n",
       "6.0     303.941050\n",
       "7.0     259.601442\n",
       "8.0     324.286386\n",
       "9.0     258.101934\n",
       "10.0    278.422216\n",
       "11.0    299.088707\n",
       "12.0    288.164766\n",
       "14.0    278.062243\n",
       "15.0    297.654177\n",
       "16.0    308.130351\n",
       "17.0    283.361592\n",
       "18.0    303.521548\n",
       "19.0    290.822857\n",
       "20.0    310.895833\n",
       "21.0    328.125689\n",
       "22.0    333.490593\n",
       "23.0    341.339914\n",
       "24.0    314.725104\n",
       "25.0    328.306218\n",
       "26.0    325.808698\n",
       "27.0    348.363532\n",
       "28.0    326.020979\n",
       "29.0    311.735941\n",
       "Name: Seconds, dtype: float64"
      ]
     },
     "execution_count": 63,
     "metadata": {},
     "output_type": "execute_result"
    }
   ],
   "source": [
    "station_means"
   ]
  },
  {
   "cell_type": "code",
   "execution_count": 64,
   "metadata": {},
   "outputs": [
    {
     "data": {
      "text/plain": [
       "station\n",
       "1.0     1.164787\n",
       "2.0     3.103682\n",
       "3.0     1.536824\n",
       "4.0     2.330528\n",
       "5.0     1.796095\n",
       "6.0     1.971223\n",
       "7.0     1.863377\n",
       "8.0     2.076039\n",
       "9.0     1.929475\n",
       "10.0    2.197111\n",
       "11.0    1.522089\n",
       "12.0    1.446534\n",
       "14.0    2.105058\n",
       "15.0    1.778053\n",
       "16.0    1.927575\n",
       "17.0    2.095235\n",
       "18.0    2.170273\n",
       "19.0    1.614977\n",
       "20.0    1.942249\n",
       "21.0    2.435231\n",
       "22.0    2.181790\n",
       "23.0    3.038451\n",
       "24.0    2.390538\n",
       "25.0    3.172312\n",
       "26.0    2.607717\n",
       "27.0    5.949531\n",
       "28.0    3.758873\n",
       "29.0    6.505150\n",
       "Name: Seconds, dtype: float64"
      ]
     },
     "execution_count": 64,
     "metadata": {},
     "output_type": "execute_result"
    }
   ],
   "source": [
    "station_err"
   ]
  },
  {
   "cell_type": "code",
   "execution_count": 70,
   "metadata": {},
   "outputs": [
    {
     "data": {
      "image/png": "[encoded data removed]",
      "text/plain": [
       "<Figure size 720x504 with 1 Axes>"
      ]
     },
     "metadata": {
      "needs_background": "light"
     },
     "output_type": "display_data"
    }
   ],
   "source": [
    "chart = station_means.plot(yerr=station_err, kind='bar', figsize=(10,7))\n",
    "fig.set_size_inches(10, 8)\n",
    "fig.ylimit=(0,400)\n",
    "fig.xlimit=(0,30)\n",
    "\n",
    "plt.grid(alpha=0.4)\n",
    "plt.xlabel('Station', fontsize=12, fontweight='bold')\n",
    "plt.ylabel('Mean Response Time by Station', fontsize=12, fontweight='bold')\n",
    "\n",
    "plt.legend(loc='best')\n",
    "plt.title('', fontsize=14, fontweight='bold')\n",
    "plt.legend(loc='best')\n",
    "plt.savefig('./graphics/Fig2.png')"
   ]
  },
  {
   "cell_type": "code",
   "execution_count": null,
   "metadata": {},
   "outputs": [],
   "source": [
    "\n"
   ]
  },
  {
   "cell_type": "code",
   "execution_count": null,
   "metadata": {},
   "outputs": [],
   "source": []
  },
  {
   "cell_type": "code",
   "execution_count": null,
   "metadata": {},
   "outputs": [],
   "source": []
  },
  {
   "cell_type": "code",
   "execution_count": null,
   "metadata": {},
   "outputs": [],
   "source": []
  },
  {
   "cell_type": "code",
   "execution_count": null,
   "metadata": {},
   "outputs": [],
   "source": []
  },
  {
   "cell_type": "code",
   "execution_count": null,
   "metadata": {},
   "outputs": [],
   "source": []
  },
  {
   "cell_type": "code",
   "execution_count": null,
   "metadata": {},
   "outputs": [],
   "source": []
  },
  {
   "cell_type": "code",
   "execution_count": null,
   "metadata": {},
   "outputs": [],
   "source": []
  },
  {
   "cell_type": "code",
   "execution_count": null,
   "metadata": {},
   "outputs": [],
   "source": []
  },
  {
   "cell_type": "code",
   "execution_count": null,
   "metadata": {},
   "outputs": [],
   "source": []
  },
  {
   "cell_type": "code",
   "execution_count": null,
   "metadata": {},
   "outputs": [],
   "source": []
  }
 ],
 "metadata": {
  "kernelspec": {
   "display_name": "Python 3",
   "language": "python",
   "name": "python3"
  },
  "language_info": {
   "codemirror_mode": {
    "name": "ipython",
    "version": 3
   },
   "file_extension": ".py",
   "mimetype": "text/x-python",
   "name": "python",
   "nbconvert_exporter": "python",
   "pygments_lexer": "ipython3",
   "version": "3.7.0"
  }
 },
 "nbformat": 4,
 "nbformat_minor": 2
}
