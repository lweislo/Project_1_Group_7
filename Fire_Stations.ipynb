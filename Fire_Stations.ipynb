{
 "cells": [
  {
   "cell_type": "markdown",
   "metadata": {},
   "source": [
    "# Raleigh FD stations report"
   ]
  },
  {
   "cell_type": "code",
   "execution_count": 61,
   "metadata": {},
   "outputs": [],
   "source": [
    "%matplotlib inline"
   ]
  },
  {
   "cell_type": "code",
   "execution_count": 179,
   "metadata": {},
   "outputs": [],
   "source": [
    "import time\n",
    "import pandas as pd\n",
    "import numpy as np\n",
    "import matplotlib.pyplot as plt\n",
    "from datetime import date\n",
    "import seaborn as sns\n",
    "from scipy import stats\n",
    "import gmaps\n",
    "import gmaps.datasets\n",
    "from config import gkey\n",
    "import warnings\n",
    "warnings.simplefilter(action='ignore', category=FutureWarning)"
   ]
  },
  {
   "cell_type": "markdown",
   "metadata": {},
   "source": [
    "## Importing and cleaning data for reports on year, station\n",
    "- API Calls were performed in FireDataAPI\n",
    "- The main dataset and one that consistently failed in the loop (records 122000-123999) were merged into one in FireDatacsv.\n",
    "- The merged dataset was cleaned of any nulls in 'incident type' code\n",
    "- Importing that combined data for analysis"
   ]
  },
  {
   "cell_type": "markdown",
   "metadata": {},
   "source": [
    "##### Importing the cleaned/combined data from the csv with the years 2008-2018"
   ]
  },
  {
   "cell_type": "code",
   "execution_count": 70,
   "metadata": {},
   "outputs": [
    {
     "data": {
      "text/plain": [
       "159803"
      ]
     },
     "execution_count": 70,
     "metadata": {},
     "output_type": "execute_result"
    }
   ],
   "source": [
    "firefile = './output/all_with_no_incident_nulls.csv'\n",
    "df = pd.read_csv(firefile, skip_blank_lines=True, encoding='UTF-8',low_memory=False)\n",
    "len(df)"
   ]
  },
  {
   "cell_type": "markdown",
   "metadata": {},
   "source": [
    "##### Reformatting the dates to datetime "
   ]
  },
  {
   "cell_type": "code",
   "execution_count": 71,
   "metadata": {},
   "outputs": [
    {
     "data": {
      "text/plain": [
       "OBJECTID                              int64\n",
       "address                              object\n",
       "address2                             object\n",
       "apt_room                             object\n",
       "arrive_date_time             datetime64[ns]\n",
       "cleared_date_time            datetime64[ns]\n",
       "dispatch_date_time           datetime64[ns]\n",
       "exposure                              int64\n",
       "incident_number                      object\n",
       "incident_type                       float64\n",
       "incident_type_description            object\n",
       "platoon                              object\n",
       "station                             float64\n",
       "Longitude                            object\n",
       "Latitude                             object\n",
       "Year                                float64\n",
       "Date                                 object\n",
       "dtype: object"
      ]
     },
     "execution_count": 71,
     "metadata": {},
     "output_type": "execute_result"
    }
   ],
   "source": [
    "df['arrive_date_time'] = pd.to_datetime(df['arrive_date_time'])\n",
    "df['cleared_date_time'] = pd.to_datetime(df['cleared_date_time'])\n",
    "df['dispatch_date_time'] = pd.to_datetime(df['dispatch_date_time'])\n",
    "df.dtypes"
   ]
  },
  {
   "cell_type": "markdown",
   "metadata": {},
   "source": [
    "##### Getting rid of the decimal in the year column, an artifact of the export perhaps"
   ]
  },
  {
   "cell_type": "code",
   "execution_count": 72,
   "metadata": {},
   "outputs": [],
   "source": [
    "df['Year'] = df['Year'].astype(float).map(\"{:.0f}\".format)"
   ]
  },
  {
   "cell_type": "markdown",
   "metadata": {},
   "source": [
    "##### The total number of rows with the years 2008-2018 and incident type not null"
   ]
  },
  {
   "cell_type": "code",
   "execution_count": 73,
   "metadata": {},
   "outputs": [
    {
     "data": {
      "text/plain": [
       "159803"
      ]
     },
     "execution_count": 73,
     "metadata": {},
     "output_type": "execute_result"
    }
   ],
   "source": [
    "len(df.loc[df['incident_type'].notnull()])"
   ]
  },
  {
   "cell_type": "markdown",
   "metadata": {},
   "source": [
    "##### Adding a column with the time from dispatch to cleared in seconds"
   ]
  },
  {
   "cell_type": "code",
   "execution_count": 74,
   "metadata": {},
   "outputs": [
    {
     "data": {
      "text/html": [
       "<div>\n",
       "<style scoped>\n",
       "    .dataframe tbody tr th:only-of-type {\n",
       "        vertical-align: middle;\n",
       "    }\n",
       "\n",
       "    .dataframe tbody tr th {\n",
       "        vertical-align: top;\n",
       "    }\n",
       "\n",
       "    .dataframe thead th {\n",
       "        text-align: right;\n",
       "    }\n",
       "</style>\n",
       "<table border=\"1\" class=\"dataframe\">\n",
       "  <thead>\n",
       "    <tr style=\"text-align: right;\">\n",
       "      <th></th>\n",
       "      <th>OBJECTID</th>\n",
       "      <th>address</th>\n",
       "      <th>address2</th>\n",
       "      <th>apt_room</th>\n",
       "      <th>arrive_date_time</th>\n",
       "      <th>cleared_date_time</th>\n",
       "      <th>dispatch_date_time</th>\n",
       "      <th>exposure</th>\n",
       "      <th>incident_number</th>\n",
       "      <th>incident_type</th>\n",
       "      <th>incident_type_description</th>\n",
       "      <th>platoon</th>\n",
       "      <th>station</th>\n",
       "      <th>Longitude</th>\n",
       "      <th>Latitude</th>\n",
       "      <th>Year</th>\n",
       "      <th>Date</th>\n",
       "      <th>Seconds</th>\n",
       "    </tr>\n",
       "  </thead>\n",
       "  <tbody>\n",
       "    <tr>\n",
       "      <th>0</th>\n",
       "      <td>474769</td>\n",
       "      <td>8332 SHILOH CREEK CT RALEIGH, NC 27603</td>\n",
       "      <td>NaN</td>\n",
       "      <td></td>\n",
       "      <td>2013-10-19 21:52:00</td>\n",
       "      <td>2013-10-19 21:59:00</td>\n",
       "      <td>2013-10-19 21:47:00</td>\n",
       "      <td>0</td>\n",
       "      <td>13-0030918</td>\n",
       "      <td>150.0</td>\n",
       "      <td>Outside rubbish fire Other</td>\n",
       "      <td>B</td>\n",
       "      <td>22.0</td>\n",
       "      <td>-78.53732007304758</td>\n",
       "      <td>35.891622339123025</td>\n",
       "      <td>2013</td>\n",
       "      <td>2013-10-19</td>\n",
       "      <td>300.0</td>\n",
       "    </tr>\n",
       "    <tr>\n",
       "      <th>1</th>\n",
       "      <td>474770</td>\n",
       "      <td>7513 IDOLBROOK LN RALEIGH, NC 27615</td>\n",
       "      <td>NaN</td>\n",
       "      <td></td>\n",
       "      <td>2014-02-14 21:49:00</td>\n",
       "      <td>2014-02-14 21:51:00</td>\n",
       "      <td>2014-02-14 21:46:00</td>\n",
       "      <td>0</td>\n",
       "      <td>14-0004846</td>\n",
       "      <td>510.0</td>\n",
       "      <td>Person in distress Other</td>\n",
       "      <td>A</td>\n",
       "      <td>4.0</td>\n",
       "      <td>-78.6476306369254</td>\n",
       "      <td>35.8781858441652</td>\n",
       "      <td>2014</td>\n",
       "      <td>2014-02-14</td>\n",
       "      <td>180.0</td>\n",
       "    </tr>\n",
       "  </tbody>\n",
       "</table>\n",
       "</div>"
      ],
      "text/plain": [
       "   OBJECTID                                 address address2         apt_room  \\\n",
       "0    474769  8332 SHILOH CREEK CT RALEIGH, NC 27603      NaN                    \n",
       "1    474770     7513 IDOLBROOK LN RALEIGH, NC 27615      NaN                    \n",
       "\n",
       "     arrive_date_time   cleared_date_time  dispatch_date_time  exposure  \\\n",
       "0 2013-10-19 21:52:00 2013-10-19 21:59:00 2013-10-19 21:47:00         0   \n",
       "1 2014-02-14 21:49:00 2014-02-14 21:51:00 2014-02-14 21:46:00         0   \n",
       "\n",
       "  incident_number  incident_type   incident_type_description platoon  station  \\\n",
       "0      13-0030918          150.0  Outside rubbish fire Other       B     22.0   \n",
       "1      14-0004846          510.0    Person in distress Other       A      4.0   \n",
       "\n",
       "            Longitude            Latitude  Year        Date  Seconds  \n",
       "0  -78.53732007304758  35.891622339123025  2013  2013-10-19    300.0  \n",
       "1   -78.6476306369254    35.8781858441652  2014  2014-02-14    180.0  "
      ]
     },
     "execution_count": 74,
     "metadata": {},
     "output_type": "execute_result"
    }
   ],
   "source": [
    "arr_time = (df['arrive_date_time'] - df['dispatch_date_time'])\n",
    "arr_time = pd.to_timedelta(arr_time)\n",
    "df['Seconds'] = arr_time.dt.total_seconds()\n",
    "df.head(2)"
   ]
  },
  {
   "cell_type": "markdown",
   "metadata": {},
   "source": [
    "# Fire station analysis"
   ]
  },
  {
   "cell_type": "code",
   "execution_count": 75,
   "metadata": {},
   "outputs": [
    {
     "data": {
      "text/plain": [
       "38"
      ]
     },
     "execution_count": 75,
     "metadata": {},
     "output_type": "execute_result"
    }
   ],
   "source": [
    "# Getting rid of the 38 entries that have no station assigned\n",
    "dfs = df.loc[df['station'].notnull()]\n",
    "\n",
    "# Return the count of records scrubbed\n",
    "len(df.loc[df['station'].isna()])"
   ]
  },
  {
   "cell_type": "code",
   "execution_count": 78,
   "metadata": {},
   "outputs": [],
   "source": [
    "pd.options.mode.chained_assignment = None\n",
    "dfs['station'] = dfs['station'].astype(int)"
   ]
  },
  {
   "cell_type": "markdown",
   "metadata": {},
   "source": [
    "### Removed records with no arrival time"
   ]
  },
  {
   "cell_type": "code",
   "execution_count": 79,
   "metadata": {},
   "outputs": [
    {
     "name": "stdout",
     "output_type": "stream",
     "text": [
      "Dispatched & cancelled en route\n",
      "False alarm or false call Other\n",
      "Cover assignment standby moveup\n",
      "Alarm system sounded due to malfunction\n",
      "Service Call other\n",
      "Dispatched & cancelled en route                   \n"
     ]
    }
   ],
   "source": [
    "# Getting rid of entries with no arrive time.\n",
    "# These fell into six categories, none of which were measurable incidents\n",
    "dfn = dfs.loc[dfs['arrive_date_time'].isna()]\n",
    "no_time = dfn['incident_type_description'].unique()\n",
    "\n",
    "for item in no_time:\n",
    "    print(item)"
   ]
  },
  {
   "cell_type": "code",
   "execution_count": 80,
   "metadata": {},
   "outputs": [
    {
     "data": {
      "text/plain": [
       "129731"
      ]
     },
     "execution_count": 80,
     "metadata": {},
     "output_type": "execute_result"
    }
   ],
   "source": [
    "dfst = dfs.loc[dfs['arrive_date_time'].notnull()]\n",
    "len(dfst)"
   ]
  },
  {
   "cell_type": "code",
   "execution_count": 81,
   "metadata": {},
   "outputs": [
    {
     "data": {
      "text/plain": [
       "Year\n",
       "2008    11893\n",
       "2009    10915\n",
       "2010    11178\n",
       "2011    11349\n",
       "2012    10982\n",
       "2013    11071\n",
       "2014    11529\n",
       "2015    12060\n",
       "2016    12563\n",
       "2017    14423\n",
       "2018    11768\n",
       "Name: OBJECTID, dtype: int64"
      ]
     },
     "execution_count": 81,
     "metadata": {},
     "output_type": "execute_result"
    }
   ],
   "source": [
    "df_year = dfst.groupby('Year')['OBJECTID'].count()\n",
    "df_year"
   ]
  },
  {
   "cell_type": "markdown",
   "metadata": {},
   "source": [
    "## Total fire incidents per year"
   ]
  },
  {
   "cell_type": "code",
   "execution_count": 82,
   "metadata": {},
   "outputs": [
    {
     "name": "stdout",
     "output_type": "stream",
     "text": [
      "Raleigh FD had a mean incident rate of 11793.73 per year, median 11529.0, with a standard deviation of 1009.29 and error 304.31\n",
      "The most incidents came in 2017 when there were 14423, the minimum in 2009 when there were 10915.\n"
     ]
    }
   ],
   "source": [
    "ymean = round(df_year.mean(),2)\n",
    "ymed = round(df_year.median(),2)\n",
    "sdev = round(df_year.std(),2)\n",
    "serr = round(df_year.sem(),2)\n",
    "message = f'Raleigh FD had a mean incident rate of {ymean} per year, median {ymed}, with a standard deviation of {sdev} and error {serr}'\n",
    "print(message)\n",
    "\n",
    "ymax = df_year.max()\n",
    "ymin = df_year.min()\n",
    "message2 = f'The most incidents came in 2017 when there were {ymax}, the minimum in 2009 when there were {ymin}.'\n",
    "print(message2)\n"
   ]
  },
  {
   "cell_type": "code",
   "execution_count": 83,
   "metadata": {},
   "outputs": [
    {
     "data": {
      "image/png": "[encoded data removed]",
      "text/plain": [
       "<Figure size 720x576 with 1 Axes>"
      ]
     },
     "metadata": {
      "needs_background": "light"
     },
     "output_type": "display_data"
    }
   ],
   "source": [
    "df_year.plot(kind='bar', figsize=(10,8), use_index=True, title='Total Incidents per Year', grid=False,fontsize=12)\n",
    "plt.savefig('./graphics/total_fi_year.png')"
   ]
  },
  {
   "cell_type": "markdown",
   "metadata": {},
   "source": [
    "### Fire incidents analysis\n",
    "- Fire incidents have been on the rise in Raleigh over the period of study\n",
    "- Raleigh FD had a mean incident rate of 11796.55 per year, median 11529.0, with a standard deviation of 1007.42 and error 303.75\n",
    "- The most incidents came in 2017 when there were 14423, the minimum in 2009 when there were 10927."
   ]
  },
  {
   "cell_type": "markdown",
   "metadata": {},
   "source": [
    "## Station response time"
   ]
  },
  {
   "cell_type": "code",
   "execution_count": 100,
   "metadata": {},
   "outputs": [],
   "source": [
    "dfst = dfst.loc[dfst['station']!=13]"
   ]
  },
  {
   "cell_type": "code",
   "execution_count": 101,
   "metadata": {},
   "outputs": [],
   "source": [
    "# There appear to be some funky clearance times, possibly human error\n",
    "outliers = dfst[dfst['Seconds'] > dfst['Seconds'].mean() + 3 * dfst['Seconds'].std()]\n",
    "no_outliers = dfst[dfst['Seconds'] <= dfst['Seconds'].mean() + 3 * dfst['Seconds'].std()]"
   ]
  },
  {
   "cell_type": "code",
   "execution_count": 102,
   "metadata": {},
   "outputs": [
    {
     "data": {
      "text/plain": [
       "59"
      ]
     },
     "execution_count": 102,
     "metadata": {},
     "output_type": "execute_result"
    }
   ],
   "source": [
    "len(outliers)"
   ]
  },
  {
   "cell_type": "code",
   "execution_count": 103,
   "metadata": {},
   "outputs": [
    {
     "data": {
      "text/plain": [
       "129671"
      ]
     },
     "execution_count": 103,
     "metadata": {},
     "output_type": "execute_result"
    }
   ],
   "source": [
    "len(no_outliers)"
   ]
  },
  {
   "cell_type": "code",
   "execution_count": 104,
   "metadata": {},
   "outputs": [
    {
     "data": {
      "text/html": [
       "<div>\n",
       "<style scoped>\n",
       "    .dataframe tbody tr th:only-of-type {\n",
       "        vertical-align: middle;\n",
       "    }\n",
       "\n",
       "    .dataframe tbody tr th {\n",
       "        vertical-align: top;\n",
       "    }\n",
       "\n",
       "    .dataframe thead th {\n",
       "        text-align: right;\n",
       "    }\n",
       "</style>\n",
       "<table border=\"1\" class=\"dataframe\">\n",
       "  <thead>\n",
       "    <tr style=\"text-align: right;\">\n",
       "      <th></th>\n",
       "      <th>OBJECTID</th>\n",
       "      <th>address</th>\n",
       "      <th>address2</th>\n",
       "      <th>apt_room</th>\n",
       "      <th>arrive_date_time</th>\n",
       "      <th>cleared_date_time</th>\n",
       "      <th>dispatch_date_time</th>\n",
       "      <th>exposure</th>\n",
       "      <th>incident_number</th>\n",
       "      <th>incident_type</th>\n",
       "      <th>incident_type_description</th>\n",
       "      <th>platoon</th>\n",
       "      <th>station</th>\n",
       "      <th>Longitude</th>\n",
       "      <th>Latitude</th>\n",
       "      <th>Year</th>\n",
       "      <th>Date</th>\n",
       "      <th>Seconds</th>\n",
       "    </tr>\n",
       "  </thead>\n",
       "  <tbody>\n",
       "    <tr>\n",
       "      <th>91196</th>\n",
       "      <td>579072</td>\n",
       "      <td>429 S WILMINGTON ST RALEIGH, NC 27601</td>\n",
       "      <td>CHARTER SQUARE PARKING DECK</td>\n",
       "      <td>NaN</td>\n",
       "      <td>2012-08-04 02:17:00</td>\n",
       "      <td>2012-08-04 02:31:00</td>\n",
       "      <td>2012-08-04 02:13:00</td>\n",
       "      <td>0</td>\n",
       "      <td>12-0022154</td>\n",
       "      <td>746.0</td>\n",
       "      <td>Carbon monoxide detector activation no CO</td>\n",
       "      <td>A</td>\n",
       "      <td>1</td>\n",
       "      <td>-78.63834724465839</td>\n",
       "      <td>35.77457035198537</td>\n",
       "      <td>2012</td>\n",
       "      <td>2012-08-04</td>\n",
       "      <td>240.0</td>\n",
       "    </tr>\n",
       "    <tr>\n",
       "      <th>115312</th>\n",
       "      <td>607526</td>\n",
       "      <td>400 N WEST ST RALEIGH, NC 27601</td>\n",
       "      <td></td>\n",
       "      <td></td>\n",
       "      <td>2016-05-26 23:05:00</td>\n",
       "      <td>2016-05-26 23:25:00</td>\n",
       "      <td>2016-05-26 23:01:00</td>\n",
       "      <td>0</td>\n",
       "      <td>16-0016157</td>\n",
       "      <td>551.0</td>\n",
       "      <td>Assist police or other governmental agency</td>\n",
       "      <td>C</td>\n",
       "      <td>1</td>\n",
       "      <td>-78.64571299969515</td>\n",
       "      <td>35.78485800021535</td>\n",
       "      <td>2016</td>\n",
       "      <td>2016-05-26</td>\n",
       "      <td>240.0</td>\n",
       "    </tr>\n",
       "    <tr>\n",
       "      <th>115311</th>\n",
       "      <td>607525</td>\n",
       "      <td>1001 FAYETTEVILLE ST RALEIGH, NC 27601</td>\n",
       "      <td>WALNUT TERRACE APTS</td>\n",
       "      <td></td>\n",
       "      <td>2016-05-23 15:07:00</td>\n",
       "      <td>2016-05-23 15:11:00</td>\n",
       "      <td>2016-05-23 15:04:00</td>\n",
       "      <td>0</td>\n",
       "      <td>16-0015799</td>\n",
       "      <td>622.0</td>\n",
       "      <td>No Incident found on arrival at dispatch address</td>\n",
       "      <td>B</td>\n",
       "      <td>1</td>\n",
       "      <td>-78.64208900000628</td>\n",
       "      <td>35.767279999920184</td>\n",
       "      <td>2016</td>\n",
       "      <td>2016-05-23</td>\n",
       "      <td>180.0</td>\n",
       "    </tr>\n",
       "    <tr>\n",
       "      <th>57284</th>\n",
       "      <td>539770</td>\n",
       "      <td>317 S SALISBURY ST RALEIGH, NC 27601</td>\n",
       "      <td>WAKE CO COURT HOUSE</td>\n",
       "      <td>NaN</td>\n",
       "      <td>2011-12-08 16:59:00</td>\n",
       "      <td>2011-12-08 17:09:00</td>\n",
       "      <td>2011-12-08 16:56:00</td>\n",
       "      <td>0</td>\n",
       "      <td>11-0035597</td>\n",
       "      <td>714.0</td>\n",
       "      <td>Central station malicious false alarm</td>\n",
       "      <td>C</td>\n",
       "      <td>1</td>\n",
       "      <td>-78.6402285198826</td>\n",
       "      <td>35.77673696879105</td>\n",
       "      <td>2011</td>\n",
       "      <td>2011-12-08</td>\n",
       "      <td>180.0</td>\n",
       "    </tr>\n",
       "    <tr>\n",
       "      <th>137489</th>\n",
       "      <td>631619</td>\n",
       "      <td>112 S SALISBURY ST RALEIGH, NC 27601</td>\n",
       "      <td>FIRST PRESBYTERIAN CHURCH</td>\n",
       "      <td></td>\n",
       "      <td>2017-08-03 22:10:17</td>\n",
       "      <td>2017-08-03 22:24:05</td>\n",
       "      <td>2017-08-03 22:06:37</td>\n",
       "      <td>0</td>\n",
       "      <td>17-0024748</td>\n",
       "      <td>500.0</td>\n",
       "      <td>Service Call other</td>\n",
       "      <td>C</td>\n",
       "      <td>1</td>\n",
       "      <td>-78.64015300031329</td>\n",
       "      <td>35.779275000247644</td>\n",
       "      <td>2017</td>\n",
       "      <td>2017-08-03</td>\n",
       "      <td>220.0</td>\n",
       "    </tr>\n",
       "  </tbody>\n",
       "</table>\n",
       "</div>"
      ],
      "text/plain": [
       "        OBJECTID                                 address  \\\n",
       "91196     579072   429 S WILMINGTON ST RALEIGH, NC 27601   \n",
       "115312    607526         400 N WEST ST RALEIGH, NC 27601   \n",
       "115311    607525  1001 FAYETTEVILLE ST RALEIGH, NC 27601   \n",
       "57284     539770    317 S SALISBURY ST RALEIGH, NC 27601   \n",
       "137489    631619    112 S SALISBURY ST RALEIGH, NC 27601   \n",
       "\n",
       "                                        address2         apt_room  \\\n",
       "91196                CHARTER SQUARE PARKING DECK              NaN   \n",
       "115312                                                              \n",
       "115311  WALNUT TERRACE APTS                                         \n",
       "57284                        WAKE CO COURT HOUSE              NaN   \n",
       "137489  FIRST PRESBYTERIAN CHURCH                                   \n",
       "\n",
       "          arrive_date_time   cleared_date_time  dispatch_date_time  exposure  \\\n",
       "91196  2012-08-04 02:17:00 2012-08-04 02:31:00 2012-08-04 02:13:00         0   \n",
       "115312 2016-05-26 23:05:00 2016-05-26 23:25:00 2016-05-26 23:01:00         0   \n",
       "115311 2016-05-23 15:07:00 2016-05-23 15:11:00 2016-05-23 15:04:00         0   \n",
       "57284  2011-12-08 16:59:00 2011-12-08 17:09:00 2011-12-08 16:56:00         0   \n",
       "137489 2017-08-03 22:10:17 2017-08-03 22:24:05 2017-08-03 22:06:37         0   \n",
       "\n",
       "       incident_number  incident_type  \\\n",
       "91196       12-0022154          746.0   \n",
       "115312      16-0016157          551.0   \n",
       "115311      16-0015799          622.0   \n",
       "57284       11-0035597          714.0   \n",
       "137489      17-0024748          500.0   \n",
       "\n",
       "                               incident_type_description platoon  station  \\\n",
       "91196          Carbon monoxide detector activation no CO       A        1   \n",
       "115312        Assist police or other governmental agency       C        1   \n",
       "115311  No Incident found on arrival at dispatch address       B        1   \n",
       "57284              Central station malicious false alarm       C        1   \n",
       "137489                                Service Call other       C        1   \n",
       "\n",
       "                 Longitude            Latitude  Year        Date  Seconds  \n",
       "91196   -78.63834724465839   35.77457035198537  2012  2012-08-04    240.0  \n",
       "115312  -78.64571299969515   35.78485800021535  2016  2016-05-26    240.0  \n",
       "115311  -78.64208900000628  35.767279999920184  2016  2016-05-23    180.0  \n",
       "57284    -78.6402285198826   35.77673696879105  2011  2011-12-08    180.0  \n",
       "137489  -78.64015300031329  35.779275000247644  2017  2017-08-03    220.0  "
      ]
     },
     "execution_count": 104,
     "metadata": {},
     "output_type": "execute_result"
    }
   ],
   "source": [
    "no_outliers['station'] = round(no_outliers['station'],0)\n",
    "stations_sorted = no_outliers.sort_values('station')\n",
    "stations_sorted.head()"
   ]
  },
  {
   "cell_type": "code",
   "execution_count": 147,
   "metadata": {},
   "outputs": [],
   "source": [
    "station_means = stations_sorted.groupby('station')['Seconds'].mean()"
   ]
  },
  {
   "cell_type": "code",
   "execution_count": 106,
   "metadata": {},
   "outputs": [],
   "source": [
    "station_err = stations_sorted.groupby('station')['Seconds'].sem()\n"
   ]
  },
  {
   "cell_type": "code",
   "execution_count": 135,
   "metadata": {
    "scrolled": true
   },
   "outputs": [],
   "source": [
    "station_std = stations_sorted.groupby('station')['Seconds'].std()"
   ]
  },
  {
   "cell_type": "code",
   "execution_count": 140,
   "metadata": {},
   "outputs": [
    {
     "name": "stdout",
     "output_type": "stream",
     "text": [
      "The RFD stations had a 307 second response time, with standard deviation 1046, error 3.0\n"
     ]
    }
   ],
   "source": [
    "overall_mean = round(dfst['Seconds'].mean())\n",
    "overall_std = round(dfst['Seconds'].std())\n",
    "overall_err = round(dfst['Seconds'].sem())\n",
    "\n",
    "print(f'The RFD stations had a {overall_mean} second response time, with standard deviation {overall_std}, error {overall_err}')"
   ]
  },
  {
   "cell_type": "code",
   "execution_count": 155,
   "metadata": {},
   "outputs": [
    {
     "name": "stdout",
     "output_type": "stream",
     "text": [
      "After removing outliers, the RFD stations had a 292.35 second response time, with standard deviation 145.54.\n"
     ]
    }
   ],
   "source": [
    "#Removing the outliers\n",
    "overall_mean = round(no_outliers['Seconds'].mean(), 2)\n",
    "overall_std = round(no_outliers['Seconds'].std(),2)\n",
    "\n",
    "print(f'After removing outliers, the RFD stations had a {overall_mean} second response time, with standard deviation {overall_std}.')"
   ]
  },
  {
   "cell_type": "code",
   "execution_count": 156,
   "metadata": {},
   "outputs": [
    {
     "name": "stdout",
     "output_type": "stream",
     "text": [
      "The station with the fastest response times averaged 232.76 seconds while the slowest averaged 348.36.\n"
     ]
    }
   ],
   "source": [
    "slowest = round(station_means.max(), 2)\n",
    "quickest = round(station_means.min(), 2)\n",
    "print(f'The station with the fastest response times averaged {quickest} seconds while the slowest averaged {slowest}.')"
   ]
  },
  {
   "cell_type": "markdown",
   "metadata": {},
   "source": [
    "### Plot mean response time per station with errors"
   ]
  },
  {
   "cell_type": "code",
   "execution_count": 162,
   "metadata": {
    "scrolled": true
   },
   "outputs": [
    {
     "data": {
      "image/png": "[encoded data removed]",
      "text/plain": [
       "<Figure size 864x576 with 1 Axes>"
      ]
     },
     "metadata": {
      "needs_background": "light"
     },
     "output_type": "display_data"
    }
   ],
   "source": [
    "station_means.plot(yerr=station_err, kind='bar')\n",
    "fig = plt.gcf()\n",
    "fig.set_size_inches(12, 8)\n",
    "fig.ylimit=(0,400)\n",
    "fig.xlimit=(0,30)\n",
    "plt.hlines(overall_mean, -1, 30, alpha=0.4, label='Overall mean')\n",
    "# Add some labels and title\n",
    "plt.xlabel('Station', fontsize=12, fontweight='bold')\n",
    "plt.ylabel('Time (seconds)', fontsize=12, fontweight='bold')\n",
    "plt.title('Mean RFD Station Response Time for 2008-2018 - Station Order', fontsize=14, fontweight='bold')\n",
    "# Save the figure\n",
    "plt.savefig('./graphics/station_response_time_summary.png')"
   ]
  },
  {
   "cell_type": "code",
   "execution_count": 190,
   "metadata": {},
   "outputs": [
    {
     "data": {
      "image/png": "[encoded data removed]",
      "text/plain": [
       "<Figure size 864x576 with 1 Axes>"
      ]
     },
     "metadata": {
      "needs_background": "light"
     },
     "output_type": "display_data"
    }
   ],
   "source": [
    "sns.distplot(station_means, hist=True, color='tab:red')\n",
    "fig = plt.gcf()\n",
    "fig.set_size_inches(12, 8)\n",
    "fig.xlimit=(0,400)\n",
    "\n",
    "# Add some labels and title\n",
    "\n",
    "plt.xlabel('Time (seconds)', fontsize=12, fontweight='bold')\n",
    "plt.title('RFD Station Response Time Curve', fontsize=14, fontweight='bold')\n",
    "# Save the figure\n",
    "plt.savefig('./graphics/station_response_time_curve.png')"
   ]
  },
  {
   "cell_type": "markdown",
   "metadata": {},
   "source": [
    "### Station Response Time Summary\n",
    "- There were 10 stations whose response times were above the mean response time: (2, 8, 21, 22, 23, 24, 25, 26, 27, 28)\n",
    "- The response times are skewed to the right of the normal distribution"
   ]
  },
  {
   "cell_type": "markdown",
   "metadata": {},
   "source": [
    "##### Scatterplot of mean response time per station/year for further investigation"
   ]
  },
  {
   "cell_type": "code",
   "execution_count": 196,
   "metadata": {},
   "outputs": [
    {
     "data": {
      "text/html": [
       "<div>\n",
       "<style scoped>\n",
       "    .dataframe tbody tr th:only-of-type {\n",
       "        vertical-align: middle;\n",
       "    }\n",
       "\n",
       "    .dataframe tbody tr th {\n",
       "        vertical-align: top;\n",
       "    }\n",
       "\n",
       "    .dataframe thead th {\n",
       "        text-align: right;\n",
       "    }\n",
       "</style>\n",
       "<table border=\"1\" class=\"dataframe\">\n",
       "  <thead>\n",
       "    <tr style=\"text-align: right;\">\n",
       "      <th>station</th>\n",
       "      <th>1</th>\n",
       "      <th>2</th>\n",
       "      <th>3</th>\n",
       "      <th>4</th>\n",
       "      <th>5</th>\n",
       "      <th>6</th>\n",
       "      <th>7</th>\n",
       "      <th>8</th>\n",
       "      <th>9</th>\n",
       "      <th>10</th>\n",
       "      <th>...</th>\n",
       "      <th>20</th>\n",
       "      <th>21</th>\n",
       "      <th>22</th>\n",
       "      <th>23</th>\n",
       "      <th>24</th>\n",
       "      <th>25</th>\n",
       "      <th>26</th>\n",
       "      <th>27</th>\n",
       "      <th>28</th>\n",
       "      <th>29</th>\n",
       "    </tr>\n",
       "    <tr>\n",
       "      <th>Year</th>\n",
       "      <th></th>\n",
       "      <th></th>\n",
       "      <th></th>\n",
       "      <th></th>\n",
       "      <th></th>\n",
       "      <th></th>\n",
       "      <th></th>\n",
       "      <th></th>\n",
       "      <th></th>\n",
       "      <th></th>\n",
       "      <th></th>\n",
       "      <th></th>\n",
       "      <th></th>\n",
       "      <th></th>\n",
       "      <th></th>\n",
       "      <th></th>\n",
       "      <th></th>\n",
       "      <th></th>\n",
       "      <th></th>\n",
       "      <th></th>\n",
       "      <th></th>\n",
       "    </tr>\n",
       "  </thead>\n",
       "  <tbody>\n",
       "    <tr>\n",
       "      <th>2008</th>\n",
       "      <td>231.216617</td>\n",
       "      <td>302.696629</td>\n",
       "      <td>225.457810</td>\n",
       "      <td>280.993789</td>\n",
       "      <td>264.051724</td>\n",
       "      <td>287.762376</td>\n",
       "      <td>254.292135</td>\n",
       "      <td>305.000000</td>\n",
       "      <td>224.385246</td>\n",
       "      <td>294.470990</td>\n",
       "      <td>...</td>\n",
       "      <td>313.856502</td>\n",
       "      <td>311.618497</td>\n",
       "      <td>295.704989</td>\n",
       "      <td>334.947368</td>\n",
       "      <td>313.450882</td>\n",
       "      <td>255.806452</td>\n",
       "      <td>317.109375</td>\n",
       "      <td>308.727273</td>\n",
       "      <td>298.560000</td>\n",
       "      <td>NaN</td>\n",
       "    </tr>\n",
       "    <tr>\n",
       "      <th>2009</th>\n",
       "      <td>209.079755</td>\n",
       "      <td>285.546218</td>\n",
       "      <td>206.729323</td>\n",
       "      <td>270.389610</td>\n",
       "      <td>255.479115</td>\n",
       "      <td>279.953271</td>\n",
       "      <td>239.200000</td>\n",
       "      <td>301.297297</td>\n",
       "      <td>229.702517</td>\n",
       "      <td>253.680782</td>\n",
       "      <td>...</td>\n",
       "      <td>304.255319</td>\n",
       "      <td>308.540146</td>\n",
       "      <td>289.618321</td>\n",
       "      <td>341.052632</td>\n",
       "      <td>302.093023</td>\n",
       "      <td>309.122807</td>\n",
       "      <td>305.576208</td>\n",
       "      <td>285.853659</td>\n",
       "      <td>290.000000</td>\n",
       "      <td>NaN</td>\n",
       "    </tr>\n",
       "    <tr>\n",
       "      <th>2010</th>\n",
       "      <td>219.252336</td>\n",
       "      <td>294.061433</td>\n",
       "      <td>231.102662</td>\n",
       "      <td>283.296703</td>\n",
       "      <td>253.615960</td>\n",
       "      <td>298.390244</td>\n",
       "      <td>245.276382</td>\n",
       "      <td>318.812616</td>\n",
       "      <td>237.241379</td>\n",
       "      <td>249.600000</td>\n",
       "      <td>...</td>\n",
       "      <td>314.078212</td>\n",
       "      <td>315.229358</td>\n",
       "      <td>327.750000</td>\n",
       "      <td>320.625000</td>\n",
       "      <td>318.475610</td>\n",
       "      <td>295.048544</td>\n",
       "      <td>334.447950</td>\n",
       "      <td>324.642857</td>\n",
       "      <td>303.296703</td>\n",
       "      <td>NaN</td>\n",
       "    </tr>\n",
       "    <tr>\n",
       "      <th>2011</th>\n",
       "      <td>226.113537</td>\n",
       "      <td>310.551181</td>\n",
       "      <td>254.512635</td>\n",
       "      <td>280.645161</td>\n",
       "      <td>256.817102</td>\n",
       "      <td>300.436893</td>\n",
       "      <td>248.356164</td>\n",
       "      <td>323.361921</td>\n",
       "      <td>263.187773</td>\n",
       "      <td>261.671159</td>\n",
       "      <td>...</td>\n",
       "      <td>303.851852</td>\n",
       "      <td>307.792208</td>\n",
       "      <td>343.318386</td>\n",
       "      <td>336.680162</td>\n",
       "      <td>307.735849</td>\n",
       "      <td>330.933333</td>\n",
       "      <td>318.461538</td>\n",
       "      <td>331.272727</td>\n",
       "      <td>315.510204</td>\n",
       "      <td>NaN</td>\n",
       "    </tr>\n",
       "    <tr>\n",
       "      <th>2012</th>\n",
       "      <td>243.597002</td>\n",
       "      <td>309.122807</td>\n",
       "      <td>260.300752</td>\n",
       "      <td>299.213115</td>\n",
       "      <td>274.087760</td>\n",
       "      <td>317.914110</td>\n",
       "      <td>261.760000</td>\n",
       "      <td>317.290076</td>\n",
       "      <td>262.119816</td>\n",
       "      <td>277.577855</td>\n",
       "      <td>...</td>\n",
       "      <td>308.189415</td>\n",
       "      <td>324.299065</td>\n",
       "      <td>351.255605</td>\n",
       "      <td>341.478261</td>\n",
       "      <td>327.563025</td>\n",
       "      <td>319.363636</td>\n",
       "      <td>320.395257</td>\n",
       "      <td>330.000000</td>\n",
       "      <td>320.547945</td>\n",
       "      <td>NaN</td>\n",
       "    </tr>\n",
       "    <tr>\n",
       "      <th>2013</th>\n",
       "      <td>248.023256</td>\n",
       "      <td>322.240000</td>\n",
       "      <td>254.149909</td>\n",
       "      <td>285.531915</td>\n",
       "      <td>264.000000</td>\n",
       "      <td>311.165919</td>\n",
       "      <td>281.277641</td>\n",
       "      <td>325.423729</td>\n",
       "      <td>260.160000</td>\n",
       "      <td>291.683168</td>\n",
       "      <td>...</td>\n",
       "      <td>307.752809</td>\n",
       "      <td>342.000000</td>\n",
       "      <td>350.757946</td>\n",
       "      <td>366.172840</td>\n",
       "      <td>316.302521</td>\n",
       "      <td>330.238095</td>\n",
       "      <td>311.811024</td>\n",
       "      <td>346.466165</td>\n",
       "      <td>310.866142</td>\n",
       "      <td>NaN</td>\n",
       "    </tr>\n",
       "    <tr>\n",
       "      <th>2014</th>\n",
       "      <td>239.213710</td>\n",
       "      <td>357.034884</td>\n",
       "      <td>250.952381</td>\n",
       "      <td>314.095238</td>\n",
       "      <td>266.543779</td>\n",
       "      <td>314.460888</td>\n",
       "      <td>286.595745</td>\n",
       "      <td>340.597540</td>\n",
       "      <td>264.738041</td>\n",
       "      <td>292.521246</td>\n",
       "      <td>...</td>\n",
       "      <td>317.010989</td>\n",
       "      <td>334.067797</td>\n",
       "      <td>333.396226</td>\n",
       "      <td>376.764706</td>\n",
       "      <td>345.806452</td>\n",
       "      <td>365.517241</td>\n",
       "      <td>337.793594</td>\n",
       "      <td>382.058824</td>\n",
       "      <td>333.698630</td>\n",
       "      <td>NaN</td>\n",
       "    </tr>\n",
       "    <tr>\n",
       "      <th>2015</th>\n",
       "      <td>236.096654</td>\n",
       "      <td>350.414201</td>\n",
       "      <td>247.694805</td>\n",
       "      <td>308.681672</td>\n",
       "      <td>262.139738</td>\n",
       "      <td>299.106700</td>\n",
       "      <td>253.386454</td>\n",
       "      <td>338.464286</td>\n",
       "      <td>287.464789</td>\n",
       "      <td>286.276596</td>\n",
       "      <td>...</td>\n",
       "      <td>315.375000</td>\n",
       "      <td>340.714286</td>\n",
       "      <td>333.717949</td>\n",
       "      <td>342.491803</td>\n",
       "      <td>337.173913</td>\n",
       "      <td>339.635036</td>\n",
       "      <td>324.403670</td>\n",
       "      <td>351.891892</td>\n",
       "      <td>341.052632</td>\n",
       "      <td>311.186441</td>\n",
       "    </tr>\n",
       "    <tr>\n",
       "      <th>2016</th>\n",
       "      <td>252.774869</td>\n",
       "      <td>351.567568</td>\n",
       "      <td>253.945946</td>\n",
       "      <td>305.981308</td>\n",
       "      <td>284.201681</td>\n",
       "      <td>300.985626</td>\n",
       "      <td>266.479592</td>\n",
       "      <td>338.611987</td>\n",
       "      <td>265.212121</td>\n",
       "      <td>304.239130</td>\n",
       "      <td>...</td>\n",
       "      <td>336.391555</td>\n",
       "      <td>348.669528</td>\n",
       "      <td>343.355705</td>\n",
       "      <td>360.000000</td>\n",
       "      <td>315.037594</td>\n",
       "      <td>347.547170</td>\n",
       "      <td>334.551724</td>\n",
       "      <td>376.774194</td>\n",
       "      <td>351.340206</td>\n",
       "      <td>318.095238</td>\n",
       "    </tr>\n",
       "    <tr>\n",
       "      <th>2017</th>\n",
       "      <td>223.946698</td>\n",
       "      <td>380.336815</td>\n",
       "      <td>263.500787</td>\n",
       "      <td>307.544715</td>\n",
       "      <td>260.791587</td>\n",
       "      <td>315.042895</td>\n",
       "      <td>262.661290</td>\n",
       "      <td>330.333890</td>\n",
       "      <td>264.942496</td>\n",
       "      <td>276.910670</td>\n",
       "      <td>...</td>\n",
       "      <td>297.109656</td>\n",
       "      <td>329.154639</td>\n",
       "      <td>364.190377</td>\n",
       "      <td>317.362963</td>\n",
       "      <td>284.882743</td>\n",
       "      <td>320.706849</td>\n",
       "      <td>332.367284</td>\n",
       "      <td>401.138528</td>\n",
       "      <td>336.098039</td>\n",
       "      <td>305.481481</td>\n",
       "    </tr>\n",
       "    <tr>\n",
       "      <th>2018</th>\n",
       "      <td>225.277626</td>\n",
       "      <td>353.274924</td>\n",
       "      <td>271.602105</td>\n",
       "      <td>295.485612</td>\n",
       "      <td>244.931442</td>\n",
       "      <td>332.644144</td>\n",
       "      <td>258.658537</td>\n",
       "      <td>326.544240</td>\n",
       "      <td>272.894737</td>\n",
       "      <td>276.540166</td>\n",
       "      <td>...</td>\n",
       "      <td>300.527650</td>\n",
       "      <td>331.330073</td>\n",
       "      <td>330.972603</td>\n",
       "      <td>315.408654</td>\n",
       "      <td>299.360000</td>\n",
       "      <td>357.281250</td>\n",
       "      <td>341.600000</td>\n",
       "      <td>353.745562</td>\n",
       "      <td>359.050000</td>\n",
       "      <td>312.584270</td>\n",
       "    </tr>\n",
       "  </tbody>\n",
       "</table>\n",
       "<p>11 rows × 28 columns</p>\n",
       "</div>"
      ],
      "text/plain": [
       "station          1           2           3           4           5   \\\n",
       "Year                                                                  \n",
       "2008     231.216617  302.696629  225.457810  280.993789  264.051724   \n",
       "2009     209.079755  285.546218  206.729323  270.389610  255.479115   \n",
       "2010     219.252336  294.061433  231.102662  283.296703  253.615960   \n",
       "2011     226.113537  310.551181  254.512635  280.645161  256.817102   \n",
       "2012     243.597002  309.122807  260.300752  299.213115  274.087760   \n",
       "2013     248.023256  322.240000  254.149909  285.531915  264.000000   \n",
       "2014     239.213710  357.034884  250.952381  314.095238  266.543779   \n",
       "2015     236.096654  350.414201  247.694805  308.681672  262.139738   \n",
       "2016     252.774869  351.567568  253.945946  305.981308  284.201681   \n",
       "2017     223.946698  380.336815  263.500787  307.544715  260.791587   \n",
       "2018     225.277626  353.274924  271.602105  295.485612  244.931442   \n",
       "\n",
       "station          6           7           8           9           10  \\\n",
       "Year                                                                  \n",
       "2008     287.762376  254.292135  305.000000  224.385246  294.470990   \n",
       "2009     279.953271  239.200000  301.297297  229.702517  253.680782   \n",
       "2010     298.390244  245.276382  318.812616  237.241379  249.600000   \n",
       "2011     300.436893  248.356164  323.361921  263.187773  261.671159   \n",
       "2012     317.914110  261.760000  317.290076  262.119816  277.577855   \n",
       "2013     311.165919  281.277641  325.423729  260.160000  291.683168   \n",
       "2014     314.460888  286.595745  340.597540  264.738041  292.521246   \n",
       "2015     299.106700  253.386454  338.464286  287.464789  286.276596   \n",
       "2016     300.985626  266.479592  338.611987  265.212121  304.239130   \n",
       "2017     315.042895  262.661290  330.333890  264.942496  276.910670   \n",
       "2018     332.644144  258.658537  326.544240  272.894737  276.540166   \n",
       "\n",
       "station     ...              20          21          22          23  \\\n",
       "Year        ...                                                       \n",
       "2008        ...      313.856502  311.618497  295.704989  334.947368   \n",
       "2009        ...      304.255319  308.540146  289.618321  341.052632   \n",
       "2010        ...      314.078212  315.229358  327.750000  320.625000   \n",
       "2011        ...      303.851852  307.792208  343.318386  336.680162   \n",
       "2012        ...      308.189415  324.299065  351.255605  341.478261   \n",
       "2013        ...      307.752809  342.000000  350.757946  366.172840   \n",
       "2014        ...      317.010989  334.067797  333.396226  376.764706   \n",
       "2015        ...      315.375000  340.714286  333.717949  342.491803   \n",
       "2016        ...      336.391555  348.669528  343.355705  360.000000   \n",
       "2017        ...      297.109656  329.154639  364.190377  317.362963   \n",
       "2018        ...      300.527650  331.330073  330.972603  315.408654   \n",
       "\n",
       "station          24          25          26          27          28  \\\n",
       "Year                                                                  \n",
       "2008     313.450882  255.806452  317.109375  308.727273  298.560000   \n",
       "2009     302.093023  309.122807  305.576208  285.853659  290.000000   \n",
       "2010     318.475610  295.048544  334.447950  324.642857  303.296703   \n",
       "2011     307.735849  330.933333  318.461538  331.272727  315.510204   \n",
       "2012     327.563025  319.363636  320.395257  330.000000  320.547945   \n",
       "2013     316.302521  330.238095  311.811024  346.466165  310.866142   \n",
       "2014     345.806452  365.517241  337.793594  382.058824  333.698630   \n",
       "2015     337.173913  339.635036  324.403670  351.891892  341.052632   \n",
       "2016     315.037594  347.547170  334.551724  376.774194  351.340206   \n",
       "2017     284.882743  320.706849  332.367284  401.138528  336.098039   \n",
       "2018     299.360000  357.281250  341.600000  353.745562  359.050000   \n",
       "\n",
       "station          29  \n",
       "Year                 \n",
       "2008            NaN  \n",
       "2009            NaN  \n",
       "2010            NaN  \n",
       "2011            NaN  \n",
       "2012            NaN  \n",
       "2013            NaN  \n",
       "2014            NaN  \n",
       "2015     311.186441  \n",
       "2016     318.095238  \n",
       "2017     305.481481  \n",
       "2018     312.584270  \n",
       "\n",
       "[11 rows x 28 columns]"
      ]
     },
     "execution_count": 196,
     "metadata": {},
     "output_type": "execute_result"
    }
   ],
   "source": [
    "stations_sorted.groupby(['Year','station'])['Seconds'].mean()\n",
    "ssu = ss.unstack()\n",
    "ssu"
   ]
  },
  {
   "cell_type": "code",
   "execution_count": 203,
   "metadata": {},
   "outputs": [
    {
     "name": "stderr",
     "output_type": "stream",
     "text": [
      "No handles with labels found to put in legend.\n"
     ]
    },
    {
     "data": {
      "image/png": "[encoded data removed]",
      "text/plain": [
       "<Figure size 864x576 with 1 Axes>"
      ]
     },
     "metadata": {
      "needs_background": "light"
     },
     "output_type": "display_data"
    }
   ],
   "source": [
    "g = sns.boxenplot(data=ssu)\n",
    "fig = plt.gcf()\n",
    "fig.set_size_inches(12, 8)\n",
    "fig.ylimit=(200,400)\n",
    "fig.xlimit=(0,30)\n",
    "\n",
    "plt.grid(alpha=0.4)\n",
    "plt.xlabel('Station', fontsize=12, fontweight='bold')\n",
    "plt.ylabel('Mean Response Time by Station (seconds)', fontsize=12, fontweight='bold')\n",
    "plt.title('Response Time per Year per Station', fontsize=14, fontweight='bold')\n",
    "plt.legend(loc='best')\n",
    "plt.savefig('./graphics/station_response_time_boxen.png')"
   ]
  },
  {
   "cell_type": "code",
   "execution_count": 200,
   "metadata": {},
   "outputs": [
    {
     "data": {
      "text/html": [
       "<div>\n",
       "<style scoped>\n",
       "    .dataframe tbody tr th:only-of-type {\n",
       "        vertical-align: middle;\n",
       "    }\n",
       "\n",
       "    .dataframe tbody tr th {\n",
       "        vertical-align: top;\n",
       "    }\n",
       "\n",
       "    .dataframe thead th {\n",
       "        text-align: right;\n",
       "    }\n",
       "</style>\n",
       "<table border=\"1\" class=\"dataframe\">\n",
       "  <thead>\n",
       "    <tr style=\"text-align: right;\">\n",
       "      <th></th>\n",
       "      <th>station</th>\n",
       "      <th>latitude</th>\n",
       "      <th>longitude</th>\n",
       "      <th>location</th>\n",
       "    </tr>\n",
       "  </thead>\n",
       "  <tbody>\n",
       "    <tr>\n",
       "      <th>0</th>\n",
       "      <td>1</td>\n",
       "      <td>35.777656</td>\n",
       "      <td>-78.643670</td>\n",
       "      <td>(35.777656,-78.64367)</td>\n",
       "    </tr>\n",
       "    <tr>\n",
       "      <th>1</th>\n",
       "      <td>2</td>\n",
       "      <td>35.748581</td>\n",
       "      <td>-78.647881</td>\n",
       "      <td>(35.748581,-78.647881)</td>\n",
       "    </tr>\n",
       "    <tr>\n",
       "      <th>2</th>\n",
       "      <td>3</td>\n",
       "      <td>35.779483</td>\n",
       "      <td>-78.632150</td>\n",
       "      <td>(35.779483,-78.63215)</td>\n",
       "    </tr>\n",
       "    <tr>\n",
       "      <th>3</th>\n",
       "      <td>4</td>\n",
       "      <td>35.882587</td>\n",
       "      <td>-78.648386</td>\n",
       "      <td>(35.882587,-78.648386)</td>\n",
       "    </tr>\n",
       "    <tr>\n",
       "      <th>4</th>\n",
       "      <td>5</td>\n",
       "      <td>35.788217</td>\n",
       "      <td>-78.661899</td>\n",
       "      <td>(35.788217,-78.661899)</td>\n",
       "    </tr>\n",
       "    <tr>\n",
       "      <th>5</th>\n",
       "      <td>6</td>\n",
       "      <td>35.809125</td>\n",
       "      <td>-78.655745</td>\n",
       "      <td>(35.809125,-78.655745)</td>\n",
       "    </tr>\n",
       "    <tr>\n",
       "      <th>6</th>\n",
       "      <td>7</td>\n",
       "      <td>35.792744</td>\n",
       "      <td>-78.612785</td>\n",
       "      <td>(35.792744,-78.612785)</td>\n",
       "    </tr>\n",
       "    <tr>\n",
       "      <th>7</th>\n",
       "      <td>8</td>\n",
       "      <td>35.786286</td>\n",
       "      <td>-78.708678</td>\n",
       "      <td>(35.786286,-78.708678)</td>\n",
       "    </tr>\n",
       "    <tr>\n",
       "      <th>8</th>\n",
       "      <td>9</td>\n",
       "      <td>35.841313</td>\n",
       "      <td>-78.643132</td>\n",
       "      <td>(35.841313,-78.643132)</td>\n",
       "    </tr>\n",
       "    <tr>\n",
       "      <th>9</th>\n",
       "      <td>10</td>\n",
       "      <td>35.741682</td>\n",
       "      <td>-78.613288</td>\n",
       "      <td>(35.741682,-78.613288)</td>\n",
       "    </tr>\n",
       "    <tr>\n",
       "      <th>10</th>\n",
       "      <td>11</td>\n",
       "      <td>35.819648</td>\n",
       "      <td>-78.600398</td>\n",
       "      <td>(35.819648,-78.600398)</td>\n",
       "    </tr>\n",
       "    <tr>\n",
       "      <th>11</th>\n",
       "      <td>12</td>\n",
       "      <td>35.768836</td>\n",
       "      <td>-78.579919</td>\n",
       "      <td>(35.768836,-78.579919)</td>\n",
       "    </tr>\n",
       "    <tr>\n",
       "      <th>12</th>\n",
       "      <td>12</td>\n",
       "      <td>35.766711</td>\n",
       "      <td>-78.563950</td>\n",
       "      <td>(35.766711,-78.56395)</td>\n",
       "    </tr>\n",
       "    <tr>\n",
       "      <th>13</th>\n",
       "      <td>14</td>\n",
       "      <td>35.815679</td>\n",
       "      <td>-78.701709</td>\n",
       "      <td>(35.815679,-78.701709)</td>\n",
       "    </tr>\n",
       "    <tr>\n",
       "      <th>14</th>\n",
       "      <td>15</td>\n",
       "      <td>35.866704</td>\n",
       "      <td>-78.608004</td>\n",
       "      <td>(35.866704,-78.608004)</td>\n",
       "    </tr>\n",
       "    <tr>\n",
       "      <th>15</th>\n",
       "      <td>16</td>\n",
       "      <td>35.852639</td>\n",
       "      <td>-78.673035</td>\n",
       "      <td>(35.852639,-78.673035)</td>\n",
       "    </tr>\n",
       "    <tr>\n",
       "      <th>16</th>\n",
       "      <td>17</td>\n",
       "      <td>35.859639</td>\n",
       "      <td>-78.711712</td>\n",
       "      <td>(35.859639,-78.711712)</td>\n",
       "    </tr>\n",
       "    <tr>\n",
       "      <th>17</th>\n",
       "      <td>18</td>\n",
       "      <td>35.894071</td>\n",
       "      <td>-78.680883</td>\n",
       "      <td>(35.894071,-78.680883)</td>\n",
       "    </tr>\n",
       "    <tr>\n",
       "      <th>18</th>\n",
       "      <td>19</td>\n",
       "      <td>35.856296</td>\n",
       "      <td>-78.570966</td>\n",
       "      <td>(35.856296,-78.570966)</td>\n",
       "    </tr>\n",
       "    <tr>\n",
       "      <th>19</th>\n",
       "      <td>20</td>\n",
       "      <td>35.756047</td>\n",
       "      <td>-78.692942</td>\n",
       "      <td>(35.756047,-78.692942)</td>\n",
       "    </tr>\n",
       "    <tr>\n",
       "      <th>20</th>\n",
       "      <td>21</td>\n",
       "      <td>35.810997</td>\n",
       "      <td>-78.556033</td>\n",
       "      <td>(35.810997,-78.556033)</td>\n",
       "    </tr>\n",
       "    <tr>\n",
       "      <th>21</th>\n",
       "      <td>22</td>\n",
       "      <td>35.897796</td>\n",
       "      <td>-78.570636</td>\n",
       "      <td>(35.897796,-78.570636)</td>\n",
       "    </tr>\n",
       "    <tr>\n",
       "      <th>22</th>\n",
       "      <td>23</td>\n",
       "      <td>35.896924</td>\n",
       "      <td>-78.727006</td>\n",
       "      <td>(35.896924,-78.727006)</td>\n",
       "    </tr>\n",
       "    <tr>\n",
       "      <th>23</th>\n",
       "      <td>24</td>\n",
       "      <td>35.901668</td>\n",
       "      <td>-78.796824</td>\n",
       "      <td>(35.901668,-78.796824)</td>\n",
       "    </tr>\n",
       "    <tr>\n",
       "      <th>24</th>\n",
       "      <td>25</td>\n",
       "      <td>35.940070</td>\n",
       "      <td>-78.558839</td>\n",
       "      <td>(35.94007,-78.558839)</td>\n",
       "    </tr>\n",
       "    <tr>\n",
       "      <th>25</th>\n",
       "      <td>26</td>\n",
       "      <td>35.732408</td>\n",
       "      <td>-78.554960</td>\n",
       "      <td>(35.732408,-78.55496)</td>\n",
       "    </tr>\n",
       "    <tr>\n",
       "      <th>26</th>\n",
       "      <td>27</td>\n",
       "      <td>35.841341</td>\n",
       "      <td>-78.541523</td>\n",
       "      <td>(35.841341,-78.541523)</td>\n",
       "    </tr>\n",
       "    <tr>\n",
       "      <th>27</th>\n",
       "      <td>28</td>\n",
       "      <td>35.882260</td>\n",
       "      <td>-78.510322</td>\n",
       "      <td>(35.88226,-78.510322)</td>\n",
       "    </tr>\n",
       "    <tr>\n",
       "      <th>28</th>\n",
       "      <td>29</td>\n",
       "      <td>35.919012</td>\n",
       "      <td>-78.752112</td>\n",
       "      <td>(35.919012,-78.752112)</td>\n",
       "    </tr>\n",
       "    <tr>\n",
       "      <th>29</th>\n",
       "      <td>30</td>\n",
       "      <td>35.838666</td>\n",
       "      <td>-78.609840</td>\n",
       "      <td>(35.838666,-78.60984)</td>\n",
       "    </tr>\n",
       "  </tbody>\n",
       "</table>\n",
       "</div>"
      ],
      "text/plain": [
       "    station   latitude  longitude                location\n",
       "0         1  35.777656 -78.643670   (35.777656,-78.64367)\n",
       "1         2  35.748581 -78.647881  (35.748581,-78.647881)\n",
       "2         3  35.779483 -78.632150   (35.779483,-78.63215)\n",
       "3         4  35.882587 -78.648386  (35.882587,-78.648386)\n",
       "4         5  35.788217 -78.661899  (35.788217,-78.661899)\n",
       "5         6  35.809125 -78.655745  (35.809125,-78.655745)\n",
       "6         7  35.792744 -78.612785  (35.792744,-78.612785)\n",
       "7         8  35.786286 -78.708678  (35.786286,-78.708678)\n",
       "8         9  35.841313 -78.643132  (35.841313,-78.643132)\n",
       "9        10  35.741682 -78.613288  (35.741682,-78.613288)\n",
       "10       11  35.819648 -78.600398  (35.819648,-78.600398)\n",
       "11       12  35.768836 -78.579919  (35.768836,-78.579919)\n",
       "12       12  35.766711 -78.563950   (35.766711,-78.56395)\n",
       "13       14  35.815679 -78.701709  (35.815679,-78.701709)\n",
       "14       15  35.866704 -78.608004  (35.866704,-78.608004)\n",
       "15       16  35.852639 -78.673035  (35.852639,-78.673035)\n",
       "16       17  35.859639 -78.711712  (35.859639,-78.711712)\n",
       "17       18  35.894071 -78.680883  (35.894071,-78.680883)\n",
       "18       19  35.856296 -78.570966  (35.856296,-78.570966)\n",
       "19       20  35.756047 -78.692942  (35.756047,-78.692942)\n",
       "20       21  35.810997 -78.556033  (35.810997,-78.556033)\n",
       "21       22  35.897796 -78.570636  (35.897796,-78.570636)\n",
       "22       23  35.896924 -78.727006  (35.896924,-78.727006)\n",
       "23       24  35.901668 -78.796824  (35.901668,-78.796824)\n",
       "24       25  35.940070 -78.558839   (35.94007,-78.558839)\n",
       "25       26  35.732408 -78.554960   (35.732408,-78.55496)\n",
       "26       27  35.841341 -78.541523  (35.841341,-78.541523)\n",
       "27       28  35.882260 -78.510322   (35.88226,-78.510322)\n",
       "28       29  35.919012 -78.752112  (35.919012,-78.752112)\n",
       "29       30  35.838666 -78.609840   (35.838666,-78.60984)"
      ]
     },
     "execution_count": 200,
     "metadata": {},
     "output_type": "execute_result"
    }
   ],
   "source": [
    "rfd = pd.read_csv('rfd.csv')\n",
    "rfd"
   ]
  },
  {
   "cell_type": "code",
   "execution_count": 201,
   "metadata": {},
   "outputs": [],
   "source": [
    "station = rfd[['latitude','longitude']]\n"
   ]
  },
  {
   "cell_type": "code",
   "execution_count": 202,
   "metadata": {},
   "outputs": [
    {
     "data": {
      "application/vnd.jupyter.widget-view+json": {
       "model_id": "58a90f4699954042923e592ce5536e1f",
       "version_major": 2,
       "version_minor": 0
      },
      "text/plain": [
       "Figure(layout=FigureLayout(border='1px solid black', height='600px', padding='1px', width='600px'))"
      ]
     },
     "metadata": {},
     "output_type": "display_data"
    }
   ],
   "source": [
    "# Attempted using Gmaps to plot wind data, but there is a flare near Brazil that isn't reflected in the map, \n",
    "# think it is just close together datapoints\n",
    "gmaps.configure(api_key=gkey)\n",
    "\n",
    "# Center and zoom the map\n",
    "coordinates = (35.7894263,-78.6388527)\n",
    "\n",
    "figure_layout = {\n",
    "    'width': '600px',\n",
    "    'height': '600px',\n",
    "    'border': '1px solid black',\n",
    "    'padding': '1px'\n",
    "}\n",
    "\n",
    "fire_layer = gmaps.symbol_layer(station, fill_color='green', stroke_color='blue', scale=2)\n",
    "fig = gmaps.figure(layout=figure_layout, center=coordinates, zoom_level=6)\n",
    "\n",
    "fig.add_layer(fire_layer)\n",
    "fig"
   ]
  },
  {
   "cell_type": "code",
   "execution_count": 139,
   "metadata": {},
   "outputs": [
    {
     "data": {
      "application/vnd.jupyter.widget-view+json": {
       "model_id": "5b0d9cb464e94ba8a1c9dae234a40e2f",
       "version_major": 2,
       "version_minor": 0
      },
      "text/plain": [
       "Figure(layout=FigureLayout(height='420px'))"
      ]
     },
     "metadata": {},
     "output_type": "display_data"
    }
   ],
   "source": []
  },
  {
   "cell_type": "code",
   "execution_count": 140,
   "metadata": {},
   "outputs": [
    {
     "ename": "TraitError",
     "evalue": "The 'locations' trait of a Heatmap instance must be of length 1 <= L <= 9223372036854775807, but a value of [] was specified.",
     "output_type": "error",
     "traceback": [
      "\u001b[0;31m---------------------------------------------------------------------------\u001b[0m",
      "\u001b[0;31mTraitError\u001b[0m                                Traceback (most recent call last)",
      "\u001b[0;32m<ipython-input-140-73b5d8e9e0e7>\u001b[0m in \u001b[0;36m<module>\u001b[0;34m()\u001b[0m\n\u001b[1;32m      1\u001b[0m \u001b[0;31m# Create heat layer\u001b[0m\u001b[0;34m\u001b[0m\u001b[0;34m\u001b[0m\u001b[0m\n\u001b[1;32m      2\u001b[0m heat_layer = gmaps.heatmap_layer(locations, dissipating=False, max_intensity=50,\n\u001b[0;32m----> 3\u001b[0;31m                                  point_radius=10)\n\u001b[0m\u001b[1;32m      4\u001b[0m \u001b[0;34m\u001b[0m\u001b[0m\n\u001b[1;32m      5\u001b[0m heat_layer.gradient = [\n",
      "\u001b[0;32m~/anaconda3/lib/python3.7/site-packages/gmaps/heatmap.py\u001b[0m in \u001b[0;36mheatmap_layer\u001b[0;34m(locations, weights, max_intensity, dissipating, point_radius, opacity, gradient)\u001b[0m\n\u001b[1;32m    269\u001b[0m         \u001b[0;32mreturn\u001b[0m \u001b[0mWeightedHeatmap\u001b[0m\u001b[0;34m(\u001b[0m\u001b[0;34m**\u001b[0m\u001b[0mwidget_args\u001b[0m\u001b[0;34m)\u001b[0m\u001b[0;34m\u001b[0m\u001b[0m\n\u001b[1;32m    270\u001b[0m     \u001b[0;32melse\u001b[0m\u001b[0;34m:\u001b[0m\u001b[0;34m\u001b[0m\u001b[0m\n\u001b[0;32m--> 271\u001b[0;31m         \u001b[0;32mreturn\u001b[0m \u001b[0mHeatmap\u001b[0m\u001b[0;34m(\u001b[0m\u001b[0;34m**\u001b[0m\u001b[0mwidget_args\u001b[0m\u001b[0;34m)\u001b[0m\u001b[0;34m\u001b[0m\u001b[0m\n\u001b[0m",
      "\u001b[0;32m~/anaconda3/lib/python3.7/site-packages/ipywidgets/widgets/widget.py\u001b[0m in \u001b[0;36m__init__\u001b[0;34m(self, **kwargs)\u001b[0m\n\u001b[1;32m    409\u001b[0m         \u001b[0;34m\"\"\"Public constructor\"\"\"\u001b[0m\u001b[0;34m\u001b[0m\u001b[0m\n\u001b[1;32m    410\u001b[0m         \u001b[0mself\u001b[0m\u001b[0;34m.\u001b[0m\u001b[0m_model_id\u001b[0m \u001b[0;34m=\u001b[0m \u001b[0mkwargs\u001b[0m\u001b[0;34m.\u001b[0m\u001b[0mpop\u001b[0m\u001b[0;34m(\u001b[0m\u001b[0;34m'model_id'\u001b[0m\u001b[0;34m,\u001b[0m \u001b[0;32mNone\u001b[0m\u001b[0;34m)\u001b[0m\u001b[0;34m\u001b[0m\u001b[0m\n\u001b[0;32m--> 411\u001b[0;31m         \u001b[0msuper\u001b[0m\u001b[0;34m(\u001b[0m\u001b[0mWidget\u001b[0m\u001b[0;34m,\u001b[0m \u001b[0mself\u001b[0m\u001b[0;34m)\u001b[0m\u001b[0;34m.\u001b[0m\u001b[0m__init__\u001b[0m\u001b[0;34m(\u001b[0m\u001b[0;34m**\u001b[0m\u001b[0mkwargs\u001b[0m\u001b[0;34m)\u001b[0m\u001b[0;34m\u001b[0m\u001b[0m\n\u001b[0m\u001b[1;32m    412\u001b[0m \u001b[0;34m\u001b[0m\u001b[0m\n\u001b[1;32m    413\u001b[0m         \u001b[0mWidget\u001b[0m\u001b[0;34m.\u001b[0m\u001b[0m_call_widget_constructed\u001b[0m\u001b[0;34m(\u001b[0m\u001b[0mself\u001b[0m\u001b[0;34m)\u001b[0m\u001b[0;34m\u001b[0m\u001b[0m\n",
      "\u001b[0;32m~/anaconda3/lib/python3.7/site-packages/traitlets/traitlets.py\u001b[0m in \u001b[0;36m__init__\u001b[0;34m(self, *args, **kwargs)\u001b[0m\n\u001b[1;32m    995\u001b[0m             \u001b[0;32mfor\u001b[0m \u001b[0mkey\u001b[0m\u001b[0;34m,\u001b[0m \u001b[0mvalue\u001b[0m \u001b[0;32min\u001b[0m \u001b[0mkwargs\u001b[0m\u001b[0;34m.\u001b[0m\u001b[0mitems\u001b[0m\u001b[0;34m(\u001b[0m\u001b[0;34m)\u001b[0m\u001b[0;34m:\u001b[0m\u001b[0;34m\u001b[0m\u001b[0m\n\u001b[1;32m    996\u001b[0m                 \u001b[0;32mif\u001b[0m \u001b[0mself\u001b[0m\u001b[0;34m.\u001b[0m\u001b[0mhas_trait\u001b[0m\u001b[0;34m(\u001b[0m\u001b[0mkey\u001b[0m\u001b[0;34m)\u001b[0m\u001b[0;34m:\u001b[0m\u001b[0;34m\u001b[0m\u001b[0m\n\u001b[0;32m--> 997\u001b[0;31m                     \u001b[0msetattr\u001b[0m\u001b[0;34m(\u001b[0m\u001b[0mself\u001b[0m\u001b[0;34m,\u001b[0m \u001b[0mkey\u001b[0m\u001b[0;34m,\u001b[0m \u001b[0mvalue\u001b[0m\u001b[0;34m)\u001b[0m\u001b[0;34m\u001b[0m\u001b[0m\n\u001b[0m\u001b[1;32m    998\u001b[0m                 \u001b[0;32melse\u001b[0m\u001b[0;34m:\u001b[0m\u001b[0;34m\u001b[0m\u001b[0m\n\u001b[1;32m    999\u001b[0m                     \u001b[0;31m# passthrough args that don't set traits to super\u001b[0m\u001b[0;34m\u001b[0m\u001b[0;34m\u001b[0m\u001b[0m\n",
      "\u001b[0;32m~/anaconda3/lib/python3.7/site-packages/traitlets/traitlets.py\u001b[0m in \u001b[0;36m__set__\u001b[0;34m(self, obj, value)\u001b[0m\n\u001b[1;32m    583\u001b[0m             \u001b[0;32mraise\u001b[0m \u001b[0mTraitError\u001b[0m\u001b[0;34m(\u001b[0m\u001b[0;34m'The \"%s\" trait is read-only.'\u001b[0m \u001b[0;34m%\u001b[0m \u001b[0mself\u001b[0m\u001b[0;34m.\u001b[0m\u001b[0mname\u001b[0m\u001b[0;34m)\u001b[0m\u001b[0;34m\u001b[0m\u001b[0m\n\u001b[1;32m    584\u001b[0m         \u001b[0;32melse\u001b[0m\u001b[0;34m:\u001b[0m\u001b[0;34m\u001b[0m\u001b[0m\n\u001b[0;32m--> 585\u001b[0;31m             \u001b[0mself\u001b[0m\u001b[0;34m.\u001b[0m\u001b[0mset\u001b[0m\u001b[0;34m(\u001b[0m\u001b[0mobj\u001b[0m\u001b[0;34m,\u001b[0m \u001b[0mvalue\u001b[0m\u001b[0;34m)\u001b[0m\u001b[0;34m\u001b[0m\u001b[0m\n\u001b[0m\u001b[1;32m    586\u001b[0m \u001b[0;34m\u001b[0m\u001b[0m\n\u001b[1;32m    587\u001b[0m     \u001b[0;32mdef\u001b[0m \u001b[0m_validate\u001b[0m\u001b[0;34m(\u001b[0m\u001b[0mself\u001b[0m\u001b[0;34m,\u001b[0m \u001b[0mobj\u001b[0m\u001b[0;34m,\u001b[0m \u001b[0mvalue\u001b[0m\u001b[0;34m)\u001b[0m\u001b[0;34m:\u001b[0m\u001b[0;34m\u001b[0m\u001b[0m\n",
      "\u001b[0;32m~/anaconda3/lib/python3.7/site-packages/traitlets/traitlets.py\u001b[0m in \u001b[0;36mset\u001b[0;34m(self, obj, value)\u001b[0m\n\u001b[1;32m    557\u001b[0m \u001b[0;34m\u001b[0m\u001b[0m\n\u001b[1;32m    558\u001b[0m     \u001b[0;32mdef\u001b[0m \u001b[0mset\u001b[0m\u001b[0;34m(\u001b[0m\u001b[0mself\u001b[0m\u001b[0;34m,\u001b[0m \u001b[0mobj\u001b[0m\u001b[0;34m,\u001b[0m \u001b[0mvalue\u001b[0m\u001b[0;34m)\u001b[0m\u001b[0;34m:\u001b[0m\u001b[0;34m\u001b[0m\u001b[0m\n\u001b[0;32m--> 559\u001b[0;31m         \u001b[0mnew_value\u001b[0m \u001b[0;34m=\u001b[0m \u001b[0mself\u001b[0m\u001b[0;34m.\u001b[0m\u001b[0m_validate\u001b[0m\u001b[0;34m(\u001b[0m\u001b[0mobj\u001b[0m\u001b[0;34m,\u001b[0m \u001b[0mvalue\u001b[0m\u001b[0;34m)\u001b[0m\u001b[0;34m\u001b[0m\u001b[0m\n\u001b[0m\u001b[1;32m    560\u001b[0m         \u001b[0;32mtry\u001b[0m\u001b[0;34m:\u001b[0m\u001b[0;34m\u001b[0m\u001b[0m\n\u001b[1;32m    561\u001b[0m             \u001b[0mold_value\u001b[0m \u001b[0;34m=\u001b[0m \u001b[0mobj\u001b[0m\u001b[0;34m.\u001b[0m\u001b[0m_trait_values\u001b[0m\u001b[0;34m[\u001b[0m\u001b[0mself\u001b[0m\u001b[0;34m.\u001b[0m\u001b[0mname\u001b[0m\u001b[0;34m]\u001b[0m\u001b[0;34m\u001b[0m\u001b[0m\n",
      "\u001b[0;32m~/anaconda3/lib/python3.7/site-packages/traitlets/traitlets.py\u001b[0m in \u001b[0;36m_validate\u001b[0;34m(self, obj, value)\u001b[0m\n\u001b[1;32m    589\u001b[0m             \u001b[0;32mreturn\u001b[0m \u001b[0mvalue\u001b[0m\u001b[0;34m\u001b[0m\u001b[0m\n\u001b[1;32m    590\u001b[0m         \u001b[0;32mif\u001b[0m \u001b[0mhasattr\u001b[0m\u001b[0;34m(\u001b[0m\u001b[0mself\u001b[0m\u001b[0;34m,\u001b[0m \u001b[0;34m'validate'\u001b[0m\u001b[0;34m)\u001b[0m\u001b[0;34m:\u001b[0m\u001b[0;34m\u001b[0m\u001b[0m\n\u001b[0;32m--> 591\u001b[0;31m             \u001b[0mvalue\u001b[0m \u001b[0;34m=\u001b[0m \u001b[0mself\u001b[0m\u001b[0;34m.\u001b[0m\u001b[0mvalidate\u001b[0m\u001b[0;34m(\u001b[0m\u001b[0mobj\u001b[0m\u001b[0;34m,\u001b[0m \u001b[0mvalue\u001b[0m\u001b[0;34m)\u001b[0m\u001b[0;34m\u001b[0m\u001b[0m\n\u001b[0m\u001b[1;32m    592\u001b[0m         \u001b[0;32mif\u001b[0m \u001b[0mobj\u001b[0m\u001b[0;34m.\u001b[0m\u001b[0m_cross_validation_lock\u001b[0m \u001b[0;32mis\u001b[0m \u001b[0;32mFalse\u001b[0m\u001b[0;34m:\u001b[0m\u001b[0;34m\u001b[0m\u001b[0m\n\u001b[1;32m    593\u001b[0m             \u001b[0mvalue\u001b[0m \u001b[0;34m=\u001b[0m \u001b[0mself\u001b[0m\u001b[0;34m.\u001b[0m\u001b[0m_cross_validate\u001b[0m\u001b[0;34m(\u001b[0m\u001b[0mobj\u001b[0m\u001b[0;34m,\u001b[0m \u001b[0mvalue\u001b[0m\u001b[0;34m)\u001b[0m\u001b[0;34m\u001b[0m\u001b[0m\n",
      "\u001b[0;32m~/anaconda3/lib/python3.7/site-packages/gmaps/geotraitlets.py\u001b[0m in \u001b[0;36mvalidate\u001b[0;34m(self, obj, value)\u001b[0m\n\u001b[1;32m     27\u001b[0m             \u001b[0m_validate_latitude\u001b[0m\u001b[0;34m(\u001b[0m\u001b[0mlatitude\u001b[0m\u001b[0;34m)\u001b[0m\u001b[0;34m\u001b[0m\u001b[0m\n\u001b[1;32m     28\u001b[0m             \u001b[0m_validate_longitude\u001b[0m\u001b[0;34m(\u001b[0m\u001b[0mlongitude\u001b[0m\u001b[0;34m)\u001b[0m\u001b[0;34m\u001b[0m\u001b[0m\n\u001b[0;32m---> 29\u001b[0;31m         \u001b[0;32mreturn\u001b[0m \u001b[0msuper\u001b[0m\u001b[0;34m(\u001b[0m\u001b[0mLocationArray\u001b[0m\u001b[0;34m,\u001b[0m \u001b[0mself\u001b[0m\u001b[0;34m)\u001b[0m\u001b[0;34m.\u001b[0m\u001b[0mvalidate\u001b[0m\u001b[0;34m(\u001b[0m\u001b[0mobj\u001b[0m\u001b[0;34m,\u001b[0m \u001b[0mlocations_as_list\u001b[0m\u001b[0;34m)\u001b[0m\u001b[0;34m\u001b[0m\u001b[0m\n\u001b[0m\u001b[1;32m     30\u001b[0m \u001b[0;34m\u001b[0m\u001b[0m\n\u001b[1;32m     31\u001b[0m \u001b[0;34m\u001b[0m\u001b[0m\n",
      "\u001b[0;32m~/anaconda3/lib/python3.7/site-packages/traitlets/traitlets.py\u001b[0m in \u001b[0;36mvalidate\u001b[0;34m(self, obj, value)\u001b[0m\n\u001b[1;32m   2322\u001b[0m \u001b[0;34m\u001b[0m\u001b[0m\n\u001b[1;32m   2323\u001b[0m     \u001b[0;32mdef\u001b[0m \u001b[0mvalidate\u001b[0m\u001b[0;34m(\u001b[0m\u001b[0mself\u001b[0m\u001b[0;34m,\u001b[0m \u001b[0mobj\u001b[0m\u001b[0;34m,\u001b[0m \u001b[0mvalue\u001b[0m\u001b[0;34m)\u001b[0m\u001b[0;34m:\u001b[0m\u001b[0;34m\u001b[0m\u001b[0m\n\u001b[0;32m-> 2324\u001b[0;31m         \u001b[0mvalue\u001b[0m \u001b[0;34m=\u001b[0m \u001b[0msuper\u001b[0m\u001b[0;34m(\u001b[0m\u001b[0mList\u001b[0m\u001b[0;34m,\u001b[0m \u001b[0mself\u001b[0m\u001b[0;34m)\u001b[0m\u001b[0;34m.\u001b[0m\u001b[0mvalidate\u001b[0m\u001b[0;34m(\u001b[0m\u001b[0mobj\u001b[0m\u001b[0;34m,\u001b[0m \u001b[0mvalue\u001b[0m\u001b[0;34m)\u001b[0m\u001b[0;34m\u001b[0m\u001b[0m\n\u001b[0m\u001b[1;32m   2325\u001b[0m         \u001b[0mvalue\u001b[0m \u001b[0;34m=\u001b[0m \u001b[0mself\u001b[0m\u001b[0;34m.\u001b[0m\u001b[0mvalidate_elements\u001b[0m\u001b[0;34m(\u001b[0m\u001b[0mobj\u001b[0m\u001b[0;34m,\u001b[0m \u001b[0mvalue\u001b[0m\u001b[0;34m)\u001b[0m\u001b[0;34m\u001b[0m\u001b[0m\n\u001b[1;32m   2326\u001b[0m         \u001b[0;32mreturn\u001b[0m \u001b[0mvalue\u001b[0m\u001b[0;34m\u001b[0m\u001b[0m\n",
      "\u001b[0;32m~/anaconda3/lib/python3.7/site-packages/traitlets/traitlets.py\u001b[0m in \u001b[0;36mvalidate\u001b[0;34m(self, obj, value)\u001b[0m\n\u001b[1;32m   2240\u001b[0m             \u001b[0;32mreturn\u001b[0m \u001b[0mvalue\u001b[0m\u001b[0;34m\u001b[0m\u001b[0m\n\u001b[1;32m   2241\u001b[0m \u001b[0;34m\u001b[0m\u001b[0m\n\u001b[0;32m-> 2242\u001b[0;31m         \u001b[0mvalue\u001b[0m \u001b[0;34m=\u001b[0m \u001b[0mself\u001b[0m\u001b[0;34m.\u001b[0m\u001b[0mvalidate_elements\u001b[0m\u001b[0;34m(\u001b[0m\u001b[0mobj\u001b[0m\u001b[0;34m,\u001b[0m \u001b[0mvalue\u001b[0m\u001b[0;34m)\u001b[0m\u001b[0;34m\u001b[0m\u001b[0m\n\u001b[0m\u001b[1;32m   2243\u001b[0m \u001b[0;34m\u001b[0m\u001b[0m\n\u001b[1;32m   2244\u001b[0m         \u001b[0;32mreturn\u001b[0m \u001b[0mvalue\u001b[0m\u001b[0;34m\u001b[0m\u001b[0m\n",
      "\u001b[0;32m~/anaconda3/lib/python3.7/site-packages/traitlets/traitlets.py\u001b[0m in \u001b[0;36mvalidate_elements\u001b[0;34m(self, obj, value)\u001b[0m\n\u001b[1;32m   2317\u001b[0m         \u001b[0mlength\u001b[0m \u001b[0;34m=\u001b[0m \u001b[0mlen\u001b[0m\u001b[0;34m(\u001b[0m\u001b[0mvalue\u001b[0m\u001b[0;34m)\u001b[0m\u001b[0;34m\u001b[0m\u001b[0m\n\u001b[1;32m   2318\u001b[0m         \u001b[0;32mif\u001b[0m \u001b[0mlength\u001b[0m \u001b[0;34m<\u001b[0m \u001b[0mself\u001b[0m\u001b[0;34m.\u001b[0m\u001b[0m_minlen\u001b[0m \u001b[0;32mor\u001b[0m \u001b[0mlength\u001b[0m \u001b[0;34m>\u001b[0m \u001b[0mself\u001b[0m\u001b[0;34m.\u001b[0m\u001b[0m_maxlen\u001b[0m\u001b[0;34m:\u001b[0m\u001b[0;34m\u001b[0m\u001b[0m\n\u001b[0;32m-> 2319\u001b[0;31m             \u001b[0mself\u001b[0m\u001b[0;34m.\u001b[0m\u001b[0mlength_error\u001b[0m\u001b[0;34m(\u001b[0m\u001b[0mobj\u001b[0m\u001b[0;34m,\u001b[0m \u001b[0mvalue\u001b[0m\u001b[0;34m)\u001b[0m\u001b[0;34m\u001b[0m\u001b[0m\n\u001b[0m\u001b[1;32m   2320\u001b[0m \u001b[0;34m\u001b[0m\u001b[0m\n\u001b[1;32m   2321\u001b[0m         \u001b[0;32mreturn\u001b[0m \u001b[0msuper\u001b[0m\u001b[0;34m(\u001b[0m\u001b[0mList\u001b[0m\u001b[0;34m,\u001b[0m \u001b[0mself\u001b[0m\u001b[0;34m)\u001b[0m\u001b[0;34m.\u001b[0m\u001b[0mvalidate_elements\u001b[0m\u001b[0;34m(\u001b[0m\u001b[0mobj\u001b[0m\u001b[0;34m,\u001b[0m \u001b[0mvalue\u001b[0m\u001b[0;34m)\u001b[0m\u001b[0;34m\u001b[0m\u001b[0m\n",
      "\u001b[0;32m~/anaconda3/lib/python3.7/site-packages/traitlets/traitlets.py\u001b[0m in \u001b[0;36mlength_error\u001b[0;34m(self, obj, value)\u001b[0m\n\u001b[1;32m   2312\u001b[0m         \u001b[0me\u001b[0m \u001b[0;34m=\u001b[0m \u001b[0;34m\"The '%s' trait of %s instance must be of length %i <= L <= %i, but a value of %s was specified.\"\u001b[0m\u001b[0;31m \u001b[0m\u001b[0;31m\\\u001b[0m\u001b[0;34m\u001b[0m\u001b[0m\n\u001b[1;32m   2313\u001b[0m             \u001b[0;34m%\u001b[0m \u001b[0;34m(\u001b[0m\u001b[0mself\u001b[0m\u001b[0;34m.\u001b[0m\u001b[0mname\u001b[0m\u001b[0;34m,\u001b[0m \u001b[0mclass_of\u001b[0m\u001b[0;34m(\u001b[0m\u001b[0mobj\u001b[0m\u001b[0;34m)\u001b[0m\u001b[0;34m,\u001b[0m \u001b[0mself\u001b[0m\u001b[0;34m.\u001b[0m\u001b[0m_minlen\u001b[0m\u001b[0;34m,\u001b[0m \u001b[0mself\u001b[0m\u001b[0;34m.\u001b[0m\u001b[0m_maxlen\u001b[0m\u001b[0;34m,\u001b[0m \u001b[0mvalue\u001b[0m\u001b[0;34m)\u001b[0m\u001b[0;34m\u001b[0m\u001b[0m\n\u001b[0;32m-> 2314\u001b[0;31m         \u001b[0;32mraise\u001b[0m \u001b[0mTraitError\u001b[0m\u001b[0;34m(\u001b[0m\u001b[0me\u001b[0m\u001b[0;34m)\u001b[0m\u001b[0;34m\u001b[0m\u001b[0m\n\u001b[0m\u001b[1;32m   2315\u001b[0m \u001b[0;34m\u001b[0m\u001b[0m\n\u001b[1;32m   2316\u001b[0m     \u001b[0;32mdef\u001b[0m \u001b[0mvalidate_elements\u001b[0m\u001b[0;34m(\u001b[0m\u001b[0mself\u001b[0m\u001b[0;34m,\u001b[0m \u001b[0mobj\u001b[0m\u001b[0;34m,\u001b[0m \u001b[0mvalue\u001b[0m\u001b[0;34m)\u001b[0m\u001b[0;34m:\u001b[0m\u001b[0;34m\u001b[0m\u001b[0m\n",
      "\u001b[0;31mTraitError\u001b[0m: The 'locations' trait of a Heatmap instance must be of length 1 <= L <= 9223372036854775807, but a value of [] was specified."
     ]
    }
   ],
   "source": [
    "# Create heat layer\n",
    "heat_layer = gmaps.heatmap_layer(locations, dissipating=False, max_intensity=50,\n",
    "                                 point_radius=10)\n",
    "\n",
    "heat_layer.gradient = [\n",
    "    'white',\n",
    "'yellow',\n",
    "'red'\n",
    "]\n",
    "# Add layer\n",
    "fig.add_layer(heat_layer)\n",
    "\n",
    "# Display figure\n",
    "fig"
   ]
  },
  {
   "cell_type": "code",
   "execution_count": null,
   "metadata": {},
   "outputs": [],
   "source": []
  },
  {
   "cell_type": "code",
   "execution_count": null,
   "metadata": {},
   "outputs": [],
   "source": []
  },
  {
   "cell_type": "code",
   "execution_count": null,
   "metadata": {},
   "outputs": [],
   "source": []
  },
  {
   "cell_type": "code",
   "execution_count": null,
   "metadata": {},
   "outputs": [],
   "source": []
  },
  {
   "cell_type": "code",
   "execution_count": null,
   "metadata": {},
   "outputs": [],
   "source": []
  },
  {
   "cell_type": "code",
   "execution_count": null,
   "metadata": {},
   "outputs": [],
   "source": []
  },
  {
   "cell_type": "code",
   "execution_count": null,
   "metadata": {},
   "outputs": [],
   "source": []
  }
 ],
 "metadata": {
  "kernelspec": {
   "display_name": "Python 3",
   "language": "python",
   "name": "python3"
  },
  "language_info": {
   "codemirror_mode": {
    "name": "ipython",
    "version": 3
   },
   "file_extension": ".py",
   "mimetype": "text/x-python",
   "name": "python",
   "nbconvert_exporter": "python",
   "pygments_lexer": "ipython3",
   "version": "3.7.0"
  }
 },
 "nbformat": 4,
 "nbformat_minor": 2
}
