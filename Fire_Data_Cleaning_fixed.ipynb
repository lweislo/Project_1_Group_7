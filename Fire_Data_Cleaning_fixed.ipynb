{
 "cells": [
  {
   "cell_type": "code",
   "execution_count": 84,
   "metadata": {},
   "outputs": [],
   "source": [
    "import time\n",
    "import pandas as pd\n",
    "import numpy as np\n",
    "import matplotlib.pyplot as plt\n",
    "from datetime import date"
   ]
  },
  {
   "cell_type": "code",
   "execution_count": 85,
   "metadata": {
    "scrolled": true
   },
   "outputs": [
    {
     "name": "stderr",
     "output_type": "stream",
     "text": [
      "/Users/lauraweislo/anaconda3/lib/python3.7/site-packages/IPython/core/interactiveshell.py:2785: DtypeWarning: Columns (13,14) have mixed types. Specify dtype option on import or set low_memory=False.\n",
      "  interactivity=interactivity, compiler=compiler, result=result)\n"
     ]
    },
    {
     "data": {
      "text/plain": [
       "177738"
      ]
     },
     "execution_count": 85,
     "metadata": {},
     "output_type": "execute_result"
    }
   ],
   "source": [
    "# Importing the cleaned/combined data from the csv\n",
    "\n",
    "firefile = './output/all_raw_fire_data.csv'\n",
    "df = pd.read_csv(firefile, skip_blank_lines=True, encoding='UTF-8', parse_dates=True,infer_datetime_format=True)\n",
    "len(df)"
   ]
  },
  {
   "cell_type": "code",
   "execution_count": 86,
   "metadata": {},
   "outputs": [
    {
     "data": {
      "text/plain": [
       "OBJECTID                         0\n",
       "address                          0\n",
       "address2                     69957\n",
       "apt_room                     76722\n",
       "arrive_date_time             33736\n",
       "cleared_date_time             1526\n",
       "dispatch_date_time            1454\n",
       "exposure                         0\n",
       "incident_number                  0\n",
       "incident_type                 3101\n",
       "incident_type_description     3101\n",
       "platoon                       1560\n",
       "station                       2358\n",
       "Longitude                        0\n",
       "Latitude                         0\n",
       "dtype: int64"
      ]
     },
     "execution_count": 86,
     "metadata": {},
     "output_type": "execute_result"
    }
   ],
   "source": [
    "# Looking at the nulls for the full dataset\n",
    "df.isna().sum()"
   ]
  },
  {
   "cell_type": "code",
   "execution_count": 87,
   "metadata": {},
   "outputs": [],
   "source": [
    "df['dispatch_date_time'] = df['dispatch_date_time']/1000\n",
    "df['arrive_date_time'] = df['arrive_date_time']/1000\n",
    "df['cleared_date_time'] = df['cleared_date_time']/1000"
   ]
  },
  {
   "cell_type": "code",
   "execution_count": 88,
   "metadata": {},
   "outputs": [],
   "source": [
    "df['dispatch_date_time'] = pd.to_datetime(df['dispatch_date_time'], errors='coerce', yearfirst=True, unit='s')\n",
    "df['arrive_date_time'] = pd.to_datetime(df['arrive_date_time'], errors='coerce', yearfirst=True, unit='s')\n",
    "df['cleared_date_time'] = pd.to_datetime(df['cleared_date_time'], errors='coerce', yearfirst=True, unit='s')"
   ]
  },
  {
   "cell_type": "code",
   "execution_count": 89,
   "metadata": {},
   "outputs": [
    {
     "data": {
      "text/html": [
       "<div>\n",
       "<style scoped>\n",
       "    .dataframe tbody tr th:only-of-type {\n",
       "        vertical-align: middle;\n",
       "    }\n",
       "\n",
       "    .dataframe tbody tr th {\n",
       "        vertical-align: top;\n",
       "    }\n",
       "\n",
       "    .dataframe thead th {\n",
       "        text-align: right;\n",
       "    }\n",
       "</style>\n",
       "<table border=\"1\" class=\"dataframe\">\n",
       "  <thead>\n",
       "    <tr style=\"text-align: right;\">\n",
       "      <th></th>\n",
       "      <th>OBJECTID</th>\n",
       "      <th>address</th>\n",
       "      <th>address2</th>\n",
       "      <th>apt_room</th>\n",
       "      <th>arrive_date_time</th>\n",
       "      <th>cleared_date_time</th>\n",
       "      <th>dispatch_date_time</th>\n",
       "      <th>exposure</th>\n",
       "      <th>incident_number</th>\n",
       "      <th>incident_type</th>\n",
       "      <th>incident_type_description</th>\n",
       "      <th>platoon</th>\n",
       "      <th>station</th>\n",
       "      <th>Longitude</th>\n",
       "      <th>Latitude</th>\n",
       "    </tr>\n",
       "  </thead>\n",
       "  <tbody>\n",
       "    <tr>\n",
       "      <th>0</th>\n",
       "      <td>474765</td>\n",
       "      <td>6647 LAKE HILL DR RALEIGH, NC 27601</td>\n",
       "      <td>NaN</td>\n",
       "      <td>0</td>\n",
       "      <td>2007-11-15 11:17:00</td>\n",
       "      <td>2007-11-15 11:25:00</td>\n",
       "      <td>2007-11-15 11:10:00</td>\n",
       "      <td>0</td>\n",
       "      <td>07-0031665</td>\n",
       "      <td>NaN</td>\n",
       "      <td>NaN</td>\n",
       "      <td></td>\n",
       "      <td>NaN</td>\n",
       "      <td>-78.6266</td>\n",
       "      <td>35.8702</td>\n",
       "    </tr>\n",
       "    <tr>\n",
       "      <th>1</th>\n",
       "      <td>474766</td>\n",
       "      <td>539 METHOD RD RALEIGH, NC 27606</td>\n",
       "      <td>NaN</td>\n",
       "      <td></td>\n",
       "      <td>2008-06-29 06:20:00</td>\n",
       "      <td>2008-06-29 06:42:00</td>\n",
       "      <td>2008-06-29 06:17:00</td>\n",
       "      <td>0</td>\n",
       "      <td>08-0017918</td>\n",
       "      <td>NaN</td>\n",
       "      <td>NaN</td>\n",
       "      <td></td>\n",
       "      <td>NaN</td>\n",
       "      <td>-78.6936</td>\n",
       "      <td>35.7929</td>\n",
       "    </tr>\n",
       "    <tr>\n",
       "      <th>2</th>\n",
       "      <td>474767</td>\n",
       "      <td>2100 RUARK CT RALEIGH, NC 27601</td>\n",
       "      <td>NaN</td>\n",
       "      <td>202</td>\n",
       "      <td>2008-11-18 04:19:00</td>\n",
       "      <td>2008-11-18 04:24:00</td>\n",
       "      <td>2008-11-18 04:12:00</td>\n",
       "      <td>0</td>\n",
       "      <td>08-0032426</td>\n",
       "      <td>NaN</td>\n",
       "      <td>NaN</td>\n",
       "      <td></td>\n",
       "      <td>NaN</td>\n",
       "      <td>-78.6278</td>\n",
       "      <td>35.8122</td>\n",
       "    </tr>\n",
       "    <tr>\n",
       "      <th>3</th>\n",
       "      <td>474768</td>\n",
       "      <td>1216 BEVERLY DR RALEIGH, NC 27601</td>\n",
       "      <td>NaN</td>\n",
       "      <td></td>\n",
       "      <td>2007-08-21 22:52:00</td>\n",
       "      <td>2007-08-21 22:58:00</td>\n",
       "      <td>2007-08-21 22:47:00</td>\n",
       "      <td>0</td>\n",
       "      <td>07-0023051</td>\n",
       "      <td>444.0</td>\n",
       "      <td>Power line down</td>\n",
       "      <td>A</td>\n",
       "      <td>12.0</td>\n",
       "      <td>-78.5954</td>\n",
       "      <td>35.7612</td>\n",
       "    </tr>\n",
       "    <tr>\n",
       "      <th>4</th>\n",
       "      <td>474769</td>\n",
       "      <td>8332 SHILOH CREEK CT RALEIGH, NC 27603</td>\n",
       "      <td>NaN</td>\n",
       "      <td></td>\n",
       "      <td>2013-10-19 21:52:00</td>\n",
       "      <td>2013-10-19 21:59:00</td>\n",
       "      <td>2013-10-19 21:47:00</td>\n",
       "      <td>0</td>\n",
       "      <td>13-0030918</td>\n",
       "      <td>150.0</td>\n",
       "      <td>Outside rubbish fire Other</td>\n",
       "      <td>B</td>\n",
       "      <td>22.0</td>\n",
       "      <td>-78.5373</td>\n",
       "      <td>35.8916</td>\n",
       "    </tr>\n",
       "  </tbody>\n",
       "</table>\n",
       "</div>"
      ],
      "text/plain": [
       "   OBJECTID                                 address address2         apt_room  \\\n",
       "0    474765     6647 LAKE HILL DR RALEIGH, NC 27601      NaN                0   \n",
       "1    474766         539 METHOD RD RALEIGH, NC 27606      NaN                    \n",
       "2    474767         2100 RUARK CT RALEIGH, NC 27601      NaN              202   \n",
       "3    474768       1216 BEVERLY DR RALEIGH, NC 27601      NaN                    \n",
       "4    474769  8332 SHILOH CREEK CT RALEIGH, NC 27603      NaN                    \n",
       "\n",
       "     arrive_date_time   cleared_date_time  dispatch_date_time  exposure  \\\n",
       "0 2007-11-15 11:17:00 2007-11-15 11:25:00 2007-11-15 11:10:00         0   \n",
       "1 2008-06-29 06:20:00 2008-06-29 06:42:00 2008-06-29 06:17:00         0   \n",
       "2 2008-11-18 04:19:00 2008-11-18 04:24:00 2008-11-18 04:12:00         0   \n",
       "3 2007-08-21 22:52:00 2007-08-21 22:58:00 2007-08-21 22:47:00         0   \n",
       "4 2013-10-19 21:52:00 2013-10-19 21:59:00 2013-10-19 21:47:00         0   \n",
       "\n",
       "  incident_number  incident_type   incident_type_description platoon  station  \\\n",
       "0      07-0031665            NaN                         NaN              NaN   \n",
       "1      08-0017918            NaN                         NaN              NaN   \n",
       "2      08-0032426            NaN                         NaN              NaN   \n",
       "3      07-0023051          444.0             Power line down       A     12.0   \n",
       "4      13-0030918          150.0  Outside rubbish fire Other       B     22.0   \n",
       "\n",
       "  Longitude Latitude  \n",
       "0  -78.6266  35.8702  \n",
       "1  -78.6936  35.7929  \n",
       "2  -78.6278  35.8122  \n",
       "3  -78.5954  35.7612  \n",
       "4  -78.5373  35.8916  "
      ]
     },
     "execution_count": 89,
     "metadata": {},
     "output_type": "execute_result"
    }
   ],
   "source": [
    "# Making a year column for merging Population data\n",
    "# df['Year'] = pd.DatetimeIndex(df['dispatch_date_time']).year\n",
    "df.head()"
   ]
  },
  {
   "cell_type": "code",
   "execution_count": 90,
   "metadata": {},
   "outputs": [],
   "source": [
    "df['Year'] = pd.DatetimeIndex(df['dispatch_date_time']).year"
   ]
  },
  {
   "cell_type": "code",
   "execution_count": 91,
   "metadata": {},
   "outputs": [
    {
     "data": {
      "text/plain": [
       "Year\n",
       "2007.0    13944\n",
       "2008.0    14079\n",
       "2009.0    13166\n",
       "2010.0    13699\n",
       "2011.0    14035\n",
       "2012.0    13635\n",
       "2013.0    13965\n",
       "2014.0    14566\n",
       "2015.0    15474\n",
       "2016.0    16130\n",
       "2017.0    18439\n",
       "2018.0    15137\n",
       "2019.0       15\n",
       "Name: OBJECTID, dtype: int64"
      ]
     },
     "execution_count": 91,
     "metadata": {},
     "output_type": "execute_result"
    }
   ],
   "source": [
    "years = df.groupby(['Year']).OBJECTID.count()\n",
    "years"
   ]
  },
  {
   "cell_type": "code",
   "execution_count": 92,
   "metadata": {},
   "outputs": [],
   "source": [
    "# Making a date column for merging the weather data later\n",
    "df['Date'] = df['dispatch_date_time'].astype(str).str.split(' ',expand=True)[0]"
   ]
  },
  {
   "cell_type": "code",
   "execution_count": 93,
   "metadata": {},
   "outputs": [
    {
     "data": {
      "text/plain": [
       "162340"
      ]
     },
     "execution_count": 93,
     "metadata": {},
     "output_type": "execute_result"
    }
   ],
   "source": [
    "df = df.loc[df['Year'] > 2007]\n",
    "len(df)"
   ]
  },
  {
   "cell_type": "code",
   "execution_count": 94,
   "metadata": {},
   "outputs": [
    {
     "data": {
      "text/plain": [
       "162325"
      ]
     },
     "execution_count": 94,
     "metadata": {},
     "output_type": "execute_result"
    }
   ],
   "source": [
    "df = df.loc[df['Year'] < 2019]\n",
    "len(df)"
   ]
  },
  {
   "cell_type": "code",
   "execution_count": 95,
   "metadata": {},
   "outputs": [],
   "source": [
    "df = df.loc[df['incident_type'].notnull()]"
   ]
  },
  {
   "cell_type": "code",
   "execution_count": 96,
   "metadata": {},
   "outputs": [
    {
     "data": {
      "text/plain": [
       "159803"
      ]
     },
     "execution_count": 96,
     "metadata": {},
     "output_type": "execute_result"
    }
   ],
   "source": [
    "len(df)"
   ]
  },
  {
   "cell_type": "code",
   "execution_count": null,
   "metadata": {},
   "outputs": [],
   "source": []
  },
  {
   "cell_type": "code",
   "execution_count": 97,
   "metadata": {},
   "outputs": [
    {
     "data": {
      "text/html": [
       "<div>\n",
       "<style scoped>\n",
       "    .dataframe tbody tr th:only-of-type {\n",
       "        vertical-align: middle;\n",
       "    }\n",
       "\n",
       "    .dataframe tbody tr th {\n",
       "        vertical-align: top;\n",
       "    }\n",
       "\n",
       "    .dataframe thead th {\n",
       "        text-align: right;\n",
       "    }\n",
       "</style>\n",
       "<table border=\"1\" class=\"dataframe\">\n",
       "  <thead>\n",
       "    <tr style=\"text-align: right;\">\n",
       "      <th></th>\n",
       "      <th>OBJECTID</th>\n",
       "      <th>address</th>\n",
       "      <th>address2</th>\n",
       "      <th>apt_room</th>\n",
       "      <th>arrive_date_time</th>\n",
       "      <th>cleared_date_time</th>\n",
       "      <th>dispatch_date_time</th>\n",
       "      <th>exposure</th>\n",
       "      <th>incident_number</th>\n",
       "      <th>incident_type</th>\n",
       "      <th>incident_type_description</th>\n",
       "      <th>platoon</th>\n",
       "      <th>station</th>\n",
       "      <th>Longitude</th>\n",
       "      <th>Latitude</th>\n",
       "      <th>Year</th>\n",
       "      <th>Date</th>\n",
       "    </tr>\n",
       "  </thead>\n",
       "  <tbody>\n",
       "    <tr>\n",
       "      <th>4</th>\n",
       "      <td>474769</td>\n",
       "      <td>8332 SHILOH CREEK CT RALEIGH, NC 27603</td>\n",
       "      <td>NaN</td>\n",
       "      <td></td>\n",
       "      <td>2013-10-19 21:52:00</td>\n",
       "      <td>2013-10-19 21:59:00</td>\n",
       "      <td>2013-10-19 21:47:00</td>\n",
       "      <td>0</td>\n",
       "      <td>13-0030918</td>\n",
       "      <td>150.0</td>\n",
       "      <td>Outside rubbish fire Other</td>\n",
       "      <td>B</td>\n",
       "      <td>22.0</td>\n",
       "      <td>-78.5373</td>\n",
       "      <td>35.8916</td>\n",
       "      <td>2013.0</td>\n",
       "      <td>2013-10-19</td>\n",
       "    </tr>\n",
       "    <tr>\n",
       "      <th>5</th>\n",
       "      <td>474770</td>\n",
       "      <td>7513 IDOLBROOK LN RALEIGH, NC 27615</td>\n",
       "      <td>NaN</td>\n",
       "      <td></td>\n",
       "      <td>2014-02-14 21:49:00</td>\n",
       "      <td>2014-02-14 21:51:00</td>\n",
       "      <td>2014-02-14 21:46:00</td>\n",
       "      <td>0</td>\n",
       "      <td>14-0004846</td>\n",
       "      <td>510.0</td>\n",
       "      <td>Person in distress Other</td>\n",
       "      <td>A</td>\n",
       "      <td>4.0</td>\n",
       "      <td>-78.6476</td>\n",
       "      <td>35.8782</td>\n",
       "      <td>2014.0</td>\n",
       "      <td>2014-02-14</td>\n",
       "    </tr>\n",
       "    <tr>\n",
       "      <th>6</th>\n",
       "      <td>474771</td>\n",
       "      <td>1205 S BLOODWORTH ST RALEIGH, NC 27601</td>\n",
       "      <td>NaN</td>\n",
       "      <td></td>\n",
       "      <td>2012-04-29 05:17:00</td>\n",
       "      <td>2012-04-29 05:38:00</td>\n",
       "      <td>2012-04-29 05:16:00</td>\n",
       "      <td>0</td>\n",
       "      <td>12-0011779</td>\n",
       "      <td>440.0</td>\n",
       "      <td>Electrical  wiring/equipment problem Other</td>\n",
       "      <td>A</td>\n",
       "      <td>1.0</td>\n",
       "      <td>-78.634</td>\n",
       "      <td>35.7654</td>\n",
       "      <td>2012.0</td>\n",
       "      <td>2012-04-29</td>\n",
       "    </tr>\n",
       "    <tr>\n",
       "      <th>7</th>\n",
       "      <td>474772</td>\n",
       "      <td>7628 VALVIEW ST RALEIGH, NC 27601</td>\n",
       "      <td>NaN</td>\n",
       "      <td></td>\n",
       "      <td>2012-04-28 23:46:00</td>\n",
       "      <td>2012-04-28 23:52:00</td>\n",
       "      <td>2012-04-28 23:43:00</td>\n",
       "      <td>0</td>\n",
       "      <td>12-9010131</td>\n",
       "      <td>561.0</td>\n",
       "      <td>Unauthorized burning</td>\n",
       "      <td>A</td>\n",
       "      <td>18.0</td>\n",
       "      <td>-78.6914</td>\n",
       "      <td>35.8844</td>\n",
       "      <td>2012.0</td>\n",
       "      <td>2012-04-28</td>\n",
       "    </tr>\n",
       "    <tr>\n",
       "      <th>8</th>\n",
       "      <td>474773</td>\n",
       "      <td>4201 MANGROVE DR RALEIGH, NC 27603</td>\n",
       "      <td>NaN</td>\n",
       "      <td></td>\n",
       "      <td>2014-01-26 22:35:00</td>\n",
       "      <td>2014-01-26 22:38:00</td>\n",
       "      <td>2014-01-26 22:31:00</td>\n",
       "      <td>0</td>\n",
       "      <td>14-0002916</td>\n",
       "      <td>520.0</td>\n",
       "      <td>Water problem Other</td>\n",
       "      <td>B</td>\n",
       "      <td>28.0</td>\n",
       "      <td>-78.5166</td>\n",
       "      <td>35.8727</td>\n",
       "      <td>2014.0</td>\n",
       "      <td>2014-01-26</td>\n",
       "    </tr>\n",
       "  </tbody>\n",
       "</table>\n",
       "</div>"
      ],
      "text/plain": [
       "   OBJECTID                                 address address2         apt_room  \\\n",
       "4    474769  8332 SHILOH CREEK CT RALEIGH, NC 27603      NaN                    \n",
       "5    474770     7513 IDOLBROOK LN RALEIGH, NC 27615      NaN                    \n",
       "6    474771  1205 S BLOODWORTH ST RALEIGH, NC 27601      NaN                    \n",
       "7    474772       7628 VALVIEW ST RALEIGH, NC 27601      NaN                    \n",
       "8    474773      4201 MANGROVE DR RALEIGH, NC 27603      NaN                    \n",
       "\n",
       "     arrive_date_time   cleared_date_time  dispatch_date_time  exposure  \\\n",
       "4 2013-10-19 21:52:00 2013-10-19 21:59:00 2013-10-19 21:47:00         0   \n",
       "5 2014-02-14 21:49:00 2014-02-14 21:51:00 2014-02-14 21:46:00         0   \n",
       "6 2012-04-29 05:17:00 2012-04-29 05:38:00 2012-04-29 05:16:00         0   \n",
       "7 2012-04-28 23:46:00 2012-04-28 23:52:00 2012-04-28 23:43:00         0   \n",
       "8 2014-01-26 22:35:00 2014-01-26 22:38:00 2014-01-26 22:31:00         0   \n",
       "\n",
       "  incident_number  incident_type                   incident_type_description  \\\n",
       "4      13-0030918          150.0                  Outside rubbish fire Other   \n",
       "5      14-0004846          510.0                    Person in distress Other   \n",
       "6      12-0011779          440.0  Electrical  wiring/equipment problem Other   \n",
       "7      12-9010131          561.0                        Unauthorized burning   \n",
       "8      14-0002916          520.0                         Water problem Other   \n",
       "\n",
       "  platoon  station Longitude Latitude    Year        Date  \n",
       "4       B     22.0  -78.5373  35.8916  2013.0  2013-10-19  \n",
       "5       A      4.0  -78.6476  35.8782  2014.0  2014-02-14  \n",
       "6       A      1.0   -78.634  35.7654  2012.0  2012-04-29  \n",
       "7       A     18.0  -78.6914  35.8844  2012.0  2012-04-28  \n",
       "8       B     28.0  -78.5166  35.8727  2014.0  2014-01-26  "
      ]
     },
     "execution_count": 97,
     "metadata": {},
     "output_type": "execute_result"
    }
   ],
   "source": [
    "df.head()"
   ]
  },
  {
   "cell_type": "code",
   "execution_count": 98,
   "metadata": {},
   "outputs": [],
   "source": [
    "df.to_csv(\"output/all_with_no_incident_nulls.csv\", index=False, header=True)"
   ]
  }
 ],
 "metadata": {
  "kernelspec": {
   "display_name": "Python 3",
   "language": "python",
   "name": "python3"
  },
  "language_info": {
   "codemirror_mode": {
    "name": "ipython",
    "version": 3
   },
   "file_extension": ".py",
   "mimetype": "text/x-python",
   "name": "python",
   "nbconvert_exporter": "python",
   "pygments_lexer": "ipython3",
   "version": "3.6.6"
  }
 },
 "nbformat": 4,
 "nbformat_minor": 2
}
